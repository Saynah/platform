{
 "cells": [
  {
   "cell_type": "markdown",
   "metadata": {},
   "source": [
    "# Clover platform challenge\n",
    "\n",
    "Background:\n",
    "\n",
    "* Major need to provide context to care givers\n",
    "* e.g. what chronic conditions a patient has\n",
    "* Often have to infer context due to missing records\n",
    "\n",
    "\n",
    "Objectives:\n",
    "\n",
    "1. What are the most common medications for each disease in the base file?\n",
    "1. What medications are most indicative of each disease?\n",
    "1. Choose ONE of the diseases and build a model to infer whether that disease is present from the medications.\n",
    "1. Demonstrate that the end user should be confident in the result\n",
    "1. Bonus: Extend this to other diseases of interest, using\n",
    "https://dl.dropboxusercontent.com/u/103227113/meps_curated/meps_conditions.csv\n",
    "1. If you feel like going further: The source data set is meps (http://meps.ahrq.gov/mepsweb/ ). There is a lot more data in there (including medical costs and utilization). Add something you think is interesting. (An FYI: id in the curated dataset corresponds to DUPERSID in the raw files.)\n",
    "\n",
    "\n",
    "**Methods:**\n",
    "\n",
    "* Inspect and clean the data (see [scratch notebook](#inspect-data.ipynb))\n",
    "* ...\n",
    "* Check these:\n",
    "    * data quality, e.g. duplicates\n",
    "    * sanity check using other sources\n",
    "    * interpretation of model performance\n",
    "\n",
    "\n",
    "**Results:**\n",
    "\n",
    "...\n",
    "\n",
    "\n",
    "Discussion:\n",
    "\n",
    "..."
   ]
  },
  {
   "cell_type": "code",
   "execution_count": 172,
   "metadata": {
    "collapsed": true
   },
   "outputs": [],
   "source": [
    "import pandas as pd\n",
    "import numpy as np\n",
    "\n",
    "from source.helpers import COLS_DX, load_base_data, load_meds_data"
   ]
  },
  {
   "cell_type": "markdown",
   "metadata": {},
   "source": [
    "Base data"
   ]
  },
  {
   "cell_type": "code",
   "execution_count": 168,
   "metadata": {
    "collapsed": false
   },
   "outputs": [
    {
     "name": "stdout",
     "output_type": "stream",
     "text": [
      "load and prep base data for patients\n",
      "    \n",
      "    - remap diagnoses:\n",
      "        yes -> True\n",
      "        no -> False\n",
      "        ['Inapplicable', 'DK', 'Refused', 'not ascertained'] -> NaN\n",
      "    - exclude minors by default\n",
      "    \n"
     ]
    }
   ],
   "source": [
    "print load_base_data.__doc__ ####### will want to reuse and improve on this"
   ]
  },
  {
   "cell_type": "code",
   "execution_count": 219,
   "metadata": {
    "collapsed": false,
    "scrolled": true
   },
   "outputs": [
    {
     "name": "stdout",
     "output_type": "stream",
     "text": [
      "42324\n"
     ]
    },
    {
     "data": {
      "text/html": [
       "<div>\n",
       "<table border=\"1\" class=\"dataframe\">\n",
       "  <thead>\n",
       "    <tr style=\"text-align: right;\">\n",
       "      <th></th>\n",
       "      <th>panel</th>\n",
       "      <th>pooledWeight</th>\n",
       "      <th>age</th>\n",
       "      <th>sex</th>\n",
       "      <th>race</th>\n",
       "      <th>married</th>\n",
       "      <th>highBPDiagnosed</th>\n",
       "      <th>diabetesDiagnosed</th>\n",
       "      <th>chdDiagnosed</th>\n",
       "      <th>miDiagnosed</th>\n",
       "      <th>anginaDiagnosed</th>\n",
       "      <th>strokeDiagnosed</th>\n",
       "      <th>emphysemaDiagnosed</th>\n",
       "      <th>asthmaDiagnosed</th>\n",
       "      <th>otherHDDiagnosed</th>\n",
       "      <th>heartFailureDiagnosed</th>\n",
       "    </tr>\n",
       "    <tr>\n",
       "      <th>id</th>\n",
       "      <th></th>\n",
       "      <th></th>\n",
       "      <th></th>\n",
       "      <th></th>\n",
       "      <th></th>\n",
       "      <th></th>\n",
       "      <th></th>\n",
       "      <th></th>\n",
       "      <th></th>\n",
       "      <th></th>\n",
       "      <th></th>\n",
       "      <th></th>\n",
       "      <th></th>\n",
       "      <th></th>\n",
       "      <th></th>\n",
       "      <th></th>\n",
       "    </tr>\n",
       "  </thead>\n",
       "  <tbody>\n",
       "    <tr>\n",
       "      <th>10007101</th>\n",
       "      <td>15</td>\n",
       "      <td>3603.881236</td>\n",
       "      <td>28</td>\n",
       "      <td>Male</td>\n",
       "      <td>White</td>\n",
       "      <td>MARRIED</td>\n",
       "      <td>True</td>\n",
       "      <td>False</td>\n",
       "      <td>False</td>\n",
       "      <td>False</td>\n",
       "      <td>False</td>\n",
       "      <td>False</td>\n",
       "      <td>False</td>\n",
       "      <td>False</td>\n",
       "      <td>False</td>\n",
       "      <td>False</td>\n",
       "    </tr>\n",
       "    <tr>\n",
       "      <th>10007102</th>\n",
       "      <td>15</td>\n",
       "      <td>2544.550424</td>\n",
       "      <td>25</td>\n",
       "      <td>Female</td>\n",
       "      <td>White</td>\n",
       "      <td>MARRIED</td>\n",
       "      <td>False</td>\n",
       "      <td>False</td>\n",
       "      <td>False</td>\n",
       "      <td>False</td>\n",
       "      <td>False</td>\n",
       "      <td>False</td>\n",
       "      <td>False</td>\n",
       "      <td>True</td>\n",
       "      <td>False</td>\n",
       "      <td>False</td>\n",
       "    </tr>\n",
       "    <tr>\n",
       "      <th>10008101</th>\n",
       "      <td>15</td>\n",
       "      <td>3635.552466</td>\n",
       "      <td>51</td>\n",
       "      <td>Male</td>\n",
       "      <td>Multiple</td>\n",
       "      <td>MARRIED</td>\n",
       "      <td>False</td>\n",
       "      <td>False</td>\n",
       "      <td>False</td>\n",
       "      <td>False</td>\n",
       "      <td>False</td>\n",
       "      <td>False</td>\n",
       "      <td>False</td>\n",
       "      <td>False</td>\n",
       "      <td>False</td>\n",
       "      <td>False</td>\n",
       "    </tr>\n",
       "    <tr>\n",
       "      <th>10008102</th>\n",
       "      <td>15</td>\n",
       "      <td>4367.816253</td>\n",
       "      <td>53</td>\n",
       "      <td>Female</td>\n",
       "      <td>Asian</td>\n",
       "      <td>MARRIED</td>\n",
       "      <td>False</td>\n",
       "      <td>False</td>\n",
       "      <td>False</td>\n",
       "      <td>False</td>\n",
       "      <td>False</td>\n",
       "      <td>False</td>\n",
       "      <td>False</td>\n",
       "      <td>False</td>\n",
       "      <td>False</td>\n",
       "      <td>False</td>\n",
       "    </tr>\n",
       "    <tr>\n",
       "      <th>10009101</th>\n",
       "      <td>15</td>\n",
       "      <td>6241.938280</td>\n",
       "      <td>61</td>\n",
       "      <td>Female</td>\n",
       "      <td>Black</td>\n",
       "      <td>NEVER MARRIED</td>\n",
       "      <td>True</td>\n",
       "      <td>False</td>\n",
       "      <td>False</td>\n",
       "      <td>False</td>\n",
       "      <td>False</td>\n",
       "      <td>False</td>\n",
       "      <td>False</td>\n",
       "      <td>False</td>\n",
       "      <td>False</td>\n",
       "      <td>False</td>\n",
       "    </tr>\n",
       "  </tbody>\n",
       "</table>\n",
       "</div>"
      ],
      "text/plain": [
       "          panel  pooledWeight  age     sex      race        married  \\\n",
       "id                                                                    \n",
       "10007101     15   3603.881236   28    Male     White        MARRIED   \n",
       "10007102     15   2544.550424   25  Female     White        MARRIED   \n",
       "10008101     15   3635.552466   51    Male  Multiple        MARRIED   \n",
       "10008102     15   4367.816253   53  Female     Asian        MARRIED   \n",
       "10009101     15   6241.938280   61  Female     Black  NEVER MARRIED   \n",
       "\n",
       "         highBPDiagnosed diabetesDiagnosed chdDiagnosed miDiagnosed  \\\n",
       "id                                                                    \n",
       "10007101            True             False        False       False   \n",
       "10007102           False             False        False       False   \n",
       "10008101           False             False        False       False   \n",
       "10008102           False             False        False       False   \n",
       "10009101            True             False        False       False   \n",
       "\n",
       "         anginaDiagnosed strokeDiagnosed emphysemaDiagnosed asthmaDiagnosed  \\\n",
       "id                                                                            \n",
       "10007101           False           False              False           False   \n",
       "10007102           False           False              False            True   \n",
       "10008101           False           False              False           False   \n",
       "10008102           False           False              False           False   \n",
       "10009101           False           False              False           False   \n",
       "\n",
       "         otherHDDiagnosed heartFailureDiagnosed  \n",
       "id                                               \n",
       "10007101            False                 False  \n",
       "10007102            False                 False  \n",
       "10008101            False                 False  \n",
       "10008102            False                 False  \n",
       "10009101            False                 False  "
      ]
     },
     "execution_count": 219,
     "metadata": {},
     "output_type": "execute_result"
    }
   ],
   "source": [
    "df_base = load_base_data()\n",
    "print len(df_base)\n",
    "df_base.head()"
   ]
  },
  {
   "cell_type": "markdown",
   "metadata": {},
   "source": [
    "(from other [notebook](#inspect.ipynb))\n",
    "> data prep summary \n",
    "* looks like one row per patient\n",
    "* could potentially have some duplicates (<1%)\n",
    "* not sure what `panel` or `pooledWeight` mean\n",
    "* Threw out diagnoses besides Yes / No\n",
    "* option to throw out data from minors (lots of \"Inapplicable\" values)"
   ]
  },
  {
   "cell_type": "code",
   "execution_count": 163,
   "metadata": {
    "collapsed": false
   },
   "outputs": [
    {
     "data": {
      "image/png": "[encoded data removed]",
      "text/plain": [
       "<matplotlib.figure.Figure at 0x132f43c10>"
      ]
     },
     "metadata": {},
     "output_type": "display_data"
    }
   ],
   "source": [
    "df_base[COLS_DX].apply(lambda ds: ds.value_counts(dropna=False)).T.plot.barh(stacked=True);"
   ]
  },
  {
   "cell_type": "markdown",
   "metadata": {},
   "source": [
    "> lots of high blood pressure"
   ]
  },
  {
   "cell_type": "markdown",
   "metadata": {},
   "source": [
    "### meds"
   ]
  },
  {
   "cell_type": "code",
   "execution_count": 214,
   "metadata": {
    "collapsed": false
   },
   "outputs": [
    {
     "name": "stdout",
     "output_type": "stream",
     "text": [
      "load and prep meds data\n",
      "\n",
      "    - disambiguate drug names\n",
      "    - collapse duplicate prescriptions per patient\n",
      "    \n"
     ]
    }
   ],
   "source": [
    "print load_meds_data.__doc__"
   ]
  },
  {
   "cell_type": "code",
   "execution_count": 223,
   "metadata": {
    "collapsed": false
   },
   "outputs": [
    {
     "data": {
      "text/html": [
       "<div>\n",
       "<table border=\"1\" class=\"dataframe\">\n",
       "  <thead>\n",
       "    <tr style=\"text-align: right;\">\n",
       "      <th></th>\n",
       "      <th></th>\n",
       "      <th>numPrescriptions</th>\n",
       "      <th>originalNDCs</th>\n",
       "    </tr>\n",
       "    <tr>\n",
       "      <th>id</th>\n",
       "      <th>rxNickname</th>\n",
       "      <th></th>\n",
       "      <th></th>\n",
       "    </tr>\n",
       "  </thead>\n",
       "  <tbody>\n",
       "    <tr>\n",
       "      <th rowspan=\"2\" valign=\"top\">10007101</th>\n",
       "      <th>ATENOLOL</th>\n",
       "      <td>4</td>\n",
       "      <td>[68382002210, 51079068463]</td>\n",
       "    </tr>\n",
       "    <tr>\n",
       "      <th>AZITHROMYCIN</th>\n",
       "      <td>1</td>\n",
       "      <td>[59762314001]</td>\n",
       "    </tr>\n",
       "    <tr>\n",
       "      <th rowspan=\"3\" valign=\"top\">10007102</th>\n",
       "      <th>CARISOPRODOL</th>\n",
       "      <td>1</td>\n",
       "      <td>[603258228]</td>\n",
       "    </tr>\n",
       "    <tr>\n",
       "      <th>HYDROCO</th>\n",
       "      <td>1</td>\n",
       "      <td>[406036005]</td>\n",
       "    </tr>\n",
       "    <tr>\n",
       "      <th>TREXIMET</th>\n",
       "      <td>2</td>\n",
       "      <td>[173075000]</td>\n",
       "    </tr>\n",
       "  </tbody>\n",
       "</table>\n",
       "</div>"
      ],
      "text/plain": [
       "                       numPrescriptions                originalNDCs\n",
       "id       rxNickname                                                \n",
       "10007101 ATENOLOL                     4  [68382002210, 51079068463]\n",
       "         AZITHROMYCIN                 1               [59762314001]\n",
       "10007102 CARISOPRODOL                 1                 [603258228]\n",
       "         HYDROCO                      1                 [406036005]\n",
       "         TREXIMET                     2                 [173075000]"
      ]
     },
     "execution_count": 223,
     "metadata": {},
     "output_type": "execute_result"
    }
   ],
   "source": [
    "df_meds = load_meds_data()\n",
    "df_meds.head()"
   ]
  },
  {
   "cell_type": "markdown",
   "metadata": {
    "collapsed": false
   },
   "source": [
    "(from other [notebook](#inspect.ipynb))\n",
    "> data prep summary\n",
    "* looks like 1 row per prescription\n",
    "* lots of ambigous drug names and NDCs, even per-patient\n",
    "* drug nickname: 1st word in drug name\n",
    "* collapsed data into unique drug nicknames per patient\n",
    "    * keep original NDCs\n",
    "    * count number of prescriptions per drug per patient in case useful"
   ]
  },
  {
   "cell_type": "markdown",
   "metadata": {},
   "source": [
    "## What are the most common medications for each disease in the base file?\n",
    "Could interpret as:\n",
    "1. Among all patients with a specific disease, which meds are most common?  \n",
    "(but could be confounded by other diseases)\n",
    "2. Among patietns with _only_ a specific disease, which meds are most common?  \n",
    "(maybe better?)"
   ]
  },
  {
   "cell_type": "code",
   "execution_count": 289,
   "metadata": {
    "collapsed": false,
    "scrolled": true
   },
   "outputs": [],
   "source": [
    "df = pd.merge(df_base.reset_index(), \n",
    "              df_meds.reset_index(), \n",
    "              how='inner',   # ignore patients without drugs\n",
    "              left_on='id', \n",
    "              right_on='id')"
   ]
  },
  {
   "cell_type": "code",
   "execution_count": 279,
   "metadata": {
    "collapsed": false
   },
   "outputs": [
    {
     "name": "stdout",
     "output_type": "stream",
     "text": [
      "30856 patients\n",
      "3290 drugs\n"
     ]
    },
    {
     "data": {
      "text/html": [
       "<div>\n",
       "<table border=\"1\" class=\"dataframe\">\n",
       "  <thead>\n",
       "    <tr style=\"text-align: right;\">\n",
       "      <th></th>\n",
       "      <th>id</th>\n",
       "      <th>panel</th>\n",
       "      <th>pooledWeight</th>\n",
       "      <th>age</th>\n",
       "      <th>sex</th>\n",
       "      <th>race</th>\n",
       "      <th>married</th>\n",
       "      <th>highBPDiagnosed</th>\n",
       "      <th>diabetesDiagnosed</th>\n",
       "      <th>chdDiagnosed</th>\n",
       "      <th>miDiagnosed</th>\n",
       "      <th>anginaDiagnosed</th>\n",
       "      <th>strokeDiagnosed</th>\n",
       "      <th>emphysemaDiagnosed</th>\n",
       "      <th>asthmaDiagnosed</th>\n",
       "      <th>otherHDDiagnosed</th>\n",
       "      <th>heartFailureDiagnosed</th>\n",
       "      <th>rxNickname</th>\n",
       "      <th>numPrescriptions</th>\n",
       "      <th>originalNDCs</th>\n",
       "    </tr>\n",
       "  </thead>\n",
       "  <tbody>\n",
       "    <tr>\n",
       "      <th>0</th>\n",
       "      <td>10007101</td>\n",
       "      <td>15</td>\n",
       "      <td>3603.881236</td>\n",
       "      <td>28</td>\n",
       "      <td>Male</td>\n",
       "      <td>White</td>\n",
       "      <td>MARRIED</td>\n",
       "      <td>True</td>\n",
       "      <td>False</td>\n",
       "      <td>False</td>\n",
       "      <td>False</td>\n",
       "      <td>False</td>\n",
       "      <td>False</td>\n",
       "      <td>False</td>\n",
       "      <td>False</td>\n",
       "      <td>False</td>\n",
       "      <td>False</td>\n",
       "      <td>ATENOLOL</td>\n",
       "      <td>4</td>\n",
       "      <td>[68382002210, 51079068463]</td>\n",
       "    </tr>\n",
       "    <tr>\n",
       "      <th>1</th>\n",
       "      <td>10007101</td>\n",
       "      <td>15</td>\n",
       "      <td>3603.881236</td>\n",
       "      <td>28</td>\n",
       "      <td>Male</td>\n",
       "      <td>White</td>\n",
       "      <td>MARRIED</td>\n",
       "      <td>True</td>\n",
       "      <td>False</td>\n",
       "      <td>False</td>\n",
       "      <td>False</td>\n",
       "      <td>False</td>\n",
       "      <td>False</td>\n",
       "      <td>False</td>\n",
       "      <td>False</td>\n",
       "      <td>False</td>\n",
       "      <td>False</td>\n",
       "      <td>AZITHROMYCIN</td>\n",
       "      <td>1</td>\n",
       "      <td>[59762314001]</td>\n",
       "    </tr>\n",
       "  </tbody>\n",
       "</table>\n",
       "</div>"
      ],
      "text/plain": [
       "         id  panel  pooledWeight  age   sex   race  married highBPDiagnosed  \\\n",
       "0  10007101     15   3603.881236   28  Male  White  MARRIED            True   \n",
       "1  10007101     15   3603.881236   28  Male  White  MARRIED            True   \n",
       "\n",
       "  diabetesDiagnosed chdDiagnosed miDiagnosed anginaDiagnosed strokeDiagnosed  \\\n",
       "0             False        False       False           False           False   \n",
       "1             False        False       False           False           False   \n",
       "\n",
       "  emphysemaDiagnosed asthmaDiagnosed otherHDDiagnosed heartFailureDiagnosed  \\\n",
       "0              False           False            False                 False   \n",
       "1              False           False            False                 False   \n",
       "\n",
       "     rxNickname  numPrescriptions                originalNDCs  \n",
       "0      ATENOLOL                 4  [68382002210, 51079068463]  \n",
       "1  AZITHROMYCIN                 1               [59762314001]  "
      ]
     },
     "execution_count": 279,
     "metadata": {},
     "output_type": "execute_result"
    }
   ],
   "source": [
    "print df.id.nunique(), 'patients'\n",
    "print df.rxNickname.nunique(), 'drugs'\n",
    "df.head(2)"
   ]
  },
  {
   "cell_type": "markdown",
   "metadata": {},
   "source": [
    "### 1)\n",
    "Rank meds by $P(M|D_i)$ for each disease $D_i$"
   ]
  },
  {
   "cell_type": "markdown",
   "metadata": {},
   "source": [
    "e.g. high blood pressure"
   ]
  },
  {
   "cell_type": "code",
   "execution_count": 232,
   "metadata": {
    "collapsed": false
   },
   "outputs": [
    {
     "data": {
      "text/plain": [
       "LISINOPRIL             3104\n",
       "SIMVASTATIN            2418\n",
       "HYDROCHLOROTHIAZIDE    1976\n",
       "Name: rxNickname, dtype: int64"
      ]
     },
     "execution_count": 232,
     "metadata": {},
     "output_type": "execute_result"
    }
   ],
   "source": [
    "df[df.highBPDiagnosed == True].rxNickname.value_counts().head(3)"
   ]
  },
  {
   "cell_type": "markdown",
   "metadata": {},
   "source": [
    "> Makes sense. Drugs for high lipids and blood pressure."
   ]
  },
  {
   "cell_type": "code",
   "execution_count": null,
   "metadata": {
    "collapsed": true
   },
   "outputs": [],
   "source": [
    "n_top = 3"
   ]
  },
  {
   "cell_type": "code",
   "execution_count": 290,
   "metadata": {
    "collapsed": false,
    "scrolled": true
   },
   "outputs": [
    {
     "name": "stdout",
     "output_type": "stream",
     "text": [
      "highBPDiagnosed\n",
      "LISINOPRIL             3104\n",
      "SIMVASTATIN            2418\n",
      "HYDROCHLOROTHIAZIDE    1976\n",
      "of 109029 patients diagnosed\n",
      "\n",
      "diabetesDiagnosed\n",
      "METFORMIN      2156\n",
      "LISINOPRIL     1251\n",
      "SIMVASTATIN    1119\n",
      "of 48235 patients diagnosed\n",
      "\n",
      "chdDiagnosed\n",
      "METOPROLOL     689\n",
      "SIMVASTATIN    671\n",
      "LISINOPRIL     615\n",
      "of 26844 patients diagnosed\n",
      "\n",
      "miDiagnosed\n",
      "METOPROLOL     477\n",
      "SIMVASTATIN    460\n",
      "LISINOPRIL     446\n",
      "of 18056 patients diagnosed\n",
      "\n",
      "anginaDiagnosed\n",
      "METOPROLOL     337\n",
      "SIMVASTATIN    299\n",
      "LISINOPRIL     274\n",
      "of 14095 patients diagnosed\n",
      "\n",
      "strokeDiagnosed\n",
      "SIMVASTATIN    425\n",
      "LISINOPRIL     383\n",
      "PLAVIX         314\n",
      "of 17453 patients diagnosed\n",
      "\n",
      "emphysemaDiagnosed\n",
      "ALBUTEROL     240\n",
      "ADVAIR        193\n",
      "LISINOPRIL    187\n",
      "of 11436 patients diagnosed\n",
      "\n",
      "asthmaDiagnosed\n",
      "ALBUTEROL       726\n",
      "AZITHROMYCIN    672\n",
      "ADVAIR          639\n",
      "of 31329 patients diagnosed\n",
      "\n",
      "otherHDDiagnosed\n",
      "LISINOPRIL     757\n",
      "METOPROLOL     752\n",
      "SIMVASTATIN    738\n",
      "of 37512 patients diagnosed\n",
      "\n",
      "heartFailureDiagnosed\n",
      "FUROSEMIDE    239\n",
      "LISINOPRIL    158\n",
      "CARVEDILOL    117\n",
      "of 6335 patients diagnosed\n",
      "\n"
     ]
    }
   ],
   "source": [
    "for dx in COLS_DX:\n",
    "    has_disease = df[dx] == True\n",
    "    cts = df[has_disease].rxNickname.value_counts()\n",
    "\n",
    "    print dx\n",
    "    print cts.head(n_top).to_string()\n",
    "    print 'of', cts.sum(), 'patients diagnosed'\n",
    "    print"
   ]
  },
  {
   "cell_type": "markdown",
   "metadata": {},
   "source": [
    "> SIMVASTATIN and LISINOPRIL very common. Looks like high blood pressure comes along for the ride"
   ]
  },
  {
   "cell_type": "markdown",
   "metadata": {},
   "source": [
    "### 2)\n",
    "Rank meds by $P(M|D_i \\cap \\not D_k)$ for each disease $D_i$ and all other diseases $D_k, k \\ne i$"
   ]
  },
  {
   "cell_type": "code",
   "execution_count": 291,
   "metadata": {
    "collapsed": false,
    "scrolled": true
   },
   "outputs": [
    {
     "name": "stdout",
     "output_type": "stream",
     "text": [
      "highBPDiagnosed\n",
      "LISINOPRIL             1148\n",
      "HYDROCHLOROTHIAZIDE     912\n",
      "AMLODIPINE              766\n",
      "of 34681 patients diagnosed with only this disease\n",
      "\n",
      "diabetesDiagnosed\n",
      "METFORMIN     419\n",
      "ONETOUCH      155\n",
      "LISINOPRIL    145\n",
      "of 5469 patients diagnosed with only this disease\n",
      "\n",
      "chdDiagnosed\n",
      "SIMVASTATIN    13\n",
      "METOPROLOL     13\n",
      "APAP            9\n",
      "of 356 patients diagnosed with only this disease\n",
      "\n",
      "miDiagnosed\n",
      "METOPROLOL     8\n",
      "HYDROCO        7\n",
      "SIMVASTATIN    6\n",
      "of 267 patients diagnosed with only this disease\n",
      "\n",
      "anginaDiagnosed\n",
      "AZITHROMYCIN    8\n",
      "AMOXICILLIN     4\n",
      "APAP            3\n",
      "of 148 patients diagnosed with only this disease\n",
      "\n",
      "strokeDiagnosed\n",
      "SIMVASTATIN     24\n",
      "AZITHROMYCIN    22\n",
      "AMOXICILLIN     17\n",
      "of 768 patients diagnosed with only this disease\n",
      "\n",
      "emphysemaDiagnosed\n",
      "SPIRIVA      19\n",
      "ADVAIR       17\n",
      "ALBUTEROL    12\n",
      "of 593 patients diagnosed with only this disease\n",
      "\n",
      "asthmaDiagnosed\n",
      "AZITHROMYCIN    303\n",
      "ALBUTEROL       279\n",
      "ADVAIR          234\n",
      "of 8206 patients diagnosed with only this disease\n",
      "\n",
      "otherHDDiagnosed\n",
      "AZITHROMYCIN    125\n",
      "AMOXICILLIN     116\n",
      "IBUPROFEN        67\n",
      "of 3563 patients diagnosed with only this disease\n",
      "\n",
      "heartFailureDiagnosed\n",
      "TRAMADOL      2\n",
      "FUROSEMIDE    2\n",
      "APAP          2\n",
      "of 41 patients diagnosed with only this disease\n",
      "\n"
     ]
    }
   ],
   "source": [
    "for dx in COLS_DX:\n",
    "    has_disease = df[dx] == True\n",
    "    not_others = (df[COLS_DX].drop(dx, axis=1) == False).all(1)\n",
    "    cts = df[has_disease & not_others].rxNickname.value_counts()\n",
    "\n",
    "    print dx\n",
    "    print cts.head(n_top).to_string()\n",
    "    print 'of', cts.sum(), 'patients diagnosed with only this disease'\n",
    "    print"
   ]
  },
  {
   "cell_type": "markdown",
   "metadata": {},
   "source": [
    "> ONETOUCH now shows up in top 3 drugs for Diabetes-only patients, which makes sense"
   ]
  },
  {
   "cell_type": "markdown",
   "metadata": {},
   "source": [
    "## What medications are most indicative of each disease?\n",
    "\"Indicative\" is tricky. Could interpret as:\n",
    "1. drugs that are rarely taken when the disease is not present (high specificity)\n",
    "2. drugs for which the diseases is common among those who take the drug (high positive predictivity)"
   ]
  },
  {
   "cell_type": "markdown",
   "metadata": {},
   "source": [
    "### 1)\n",
    "Rank meds by $P(\\not M|\\not D_i)$ for each disease.  \n",
    "(limit to subset of common meds)"
   ]
  },
  {
   "cell_type": "code",
   "execution_count": null,
   "metadata": {
    "collapsed": true
   },
   "outputs": [],
   "source": [
    "n_common = 50 #150"
   ]
  },
  {
   "cell_type": "code",
   "execution_count": 302,
   "metadata": {
    "collapsed": false,
    "scrolled": true
   },
   "outputs": [
    {
     "name": "stdout",
     "output_type": "stream",
     "text": [
      "highBPDiagnosed\n",
      "BENICAR    27\n",
      "DIOVAN     58\n",
      "HCTZ       58\n",
      "of 24605 patients diagnosed\n",
      "\n",
      "diabetesDiagnosed\n",
      "HUMALOG     7\n",
      "NOVOLOG     8\n",
      "HUMULIN    12\n",
      "of 41793 patients diagnosed\n",
      "\n",
      "chdDiagnosed\n",
      "NITROGLYCERIN     62\n",
      "ISOSORBIDE        72\n",
      "DIGOXIN          166\n",
      "of 51526 patients diagnosed\n",
      "\n",
      "miDiagnosed\n",
      "NITROGLYCERIN     88\n",
      "ISOSORB           92\n",
      "ISOSORBIDE       129\n",
      "of 55281 patients diagnosed\n",
      "\n",
      "anginaDiagnosed\n",
      "ISOSORB           97\n",
      "NITROGLYCERIN    103\n",
      "ISOSORBIDE       153\n",
      "of 59711 patients diagnosed\n",
      "\n",
      "strokeDiagnosed\n",
      "DIGOXIN      273\n",
      "CLONIDINE    304\n",
      "LANTUS       430\n",
      "of 60930 patients diagnosed\n",
      "\n",
      "emphysemaDiagnosed\n",
      "IPRATROPIUM     88\n",
      "COMBIVENT      127\n",
      "SPIRIVA        145\n",
      "of 59505 patients diagnosed\n",
      "\n",
      "asthmaDiagnosed\n",
      "FLOVENT       60\n",
      "SYMBICORT     72\n",
      "VENTOLIN     134\n",
      "of 55338 patients diagnosed\n",
      "\n",
      "otherHDDiagnosed\n",
      "DIGOXIN       116\n",
      "DILTIAZEM     260\n",
      "CARVEDILOL    299\n",
      "of 54277 patients diagnosed\n",
      "\n",
      "heartFailureDiagnosed\n",
      "SPIRONOLACT      129\n",
      "NITROGLYCERIN    162\n",
      "COREG            173\n",
      "of 57847 patients diagnosed\n",
      "\n"
     ]
    }
   ],
   "source": [
    "for dx in COLS_DX:\n",
    "    has_disease = df[dx] == True\n",
    "    cts = df[has_disease].rxNickname.value_counts()\n",
    "    common_meds = cts.head(n_common).index\n",
    "    \n",
    "    # subset of common meds most-infreqently found in patients without the disease\n",
    "    cts = df[~has_disease].rxNickname.value_counts()[common_meds].sort_values()\n",
    "\n",
    "    print dx\n",
    "    print cts.head(n_top).to_string()\n",
    "    print 'of', cts.sum(), 'patients diagnosed'\n",
    "    print"
   ]
  },
  {
   "cell_type": "markdown",
   "metadata": {},
   "source": [
    "> seems to be pretty specific, but \n",
    "* the result depends on `n_common`, the size of the subset of common drugs\n",
    "* the ideal size of the subset probably depends on the drug"
   ]
  },
  {
   "cell_type": "markdown",
   "metadata": {},
   "source": [
    "### 2)\n",
    "Rank meds by $PPV = P(D_i|M)$, the probability of having the disease, given the medication"
   ]
  },
  {
   "cell_type": "code",
   "execution_count": null,
   "metadata": {
    "collapsed": true
   },
   "outputs": [],
   "source": [
    "# use Bayes as a trick since we already have P(M|D)? (have to check)\n",
    "\n",
    "for dx in COLS_DX:\n",
    "    has_disease = df[dx] == True\n",
    "    P_disease = has_disease /\n",
    "    cts = df[has_disease].rxNickname.value_counts()\n",
    "\n",
    "    print dx\n",
    "    print cts.head(n_top).to_string()\n",
    "    print 'of', cts.sum(), 'patients diagnosed'\n",
    "    print"
   ]
  },
  {
   "cell_type": "markdown",
   "metadata": {},
   "source": [
    "## Predict whether one disease is present from the medications"
   ]
  },
  {
   "cell_type": "markdown",
   "metadata": {},
   "source": [
    "## Provide confidence level of result"
   ]
  },
  {
   "cell_type": "markdown",
   "metadata": {},
   "source": [
    "## Bonus: extend to other diseases"
   ]
  },
  {
   "cell_type": "markdown",
   "metadata": {},
   "source": [
    "## Further exploration"
   ]
  },
  {
   "cell_type": "code",
   "execution_count": null,
   "metadata": {
    "collapsed": true
   },
   "outputs": [],
   "source": []
  }
 ],
 "metadata": {
  "kernelspec": {
   "display_name": "Python 2",
   "language": "python",
   "name": "python2"
  },
  "language_info": {
   "codemirror_mode": {
    "name": "ipython",
    "version": 2
   },
   "file_extension": ".py",
   "mimetype": "text/x-python",
   "name": "python",
   "nbconvert_exporter": "python",
   "pygments_lexer": "ipython2",
   "version": "2.7.10"
  }
 },
 "nbformat": 4,
 "nbformat_minor": 0
}
