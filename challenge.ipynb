{
 "cells": [
  {
   "cell_type": "markdown",
   "metadata": {},
   "source": [
    "# Clover platform challenge\n",
    "\n",
    "Background:\n",
    "\n",
    "* Major need to provide context to care givers\n",
    "    * e.g. what chronic conditions a patient has\n",
    "* Often have to infer context due to missing records\n",
    "* Here, infer patient disease status given prescription data\n",
    "\n",
    "\n",
    "**Methods:**\n",
    "\n",
    "* Inspect and prep/clean the data (see [scratch notebook](inspect.ipynb))\n",
    "* Count things: medication and disease frequency (objectives 1-2)\n",
    "* Develop simple model using training data (3)\n",
    "* Tune model using cross-validation (3)\n",
    "* Assess model performance using test data (4)    \n",
    "* Extend model (5)\n",
    "\n",
    "\n",
    "Objectives and **Results**:\n",
    "\n",
    "1. What are the most common medications for each disease in the base file?\n",
    "  > \n",
    "  * LISINOPRIL and SIMVASTATIN (for high lipids and blood pressure) were the most common drugs among patients with high blood pressure, and were also common among patients with other diseases (since high blood pressure was common overall).  \n",
    "  * Looking ony at patients with a single disease resulted in a more diverse list of medications common to each disease (e.g. ONETOUCH for diabetes)\n",
    "\n",
    "1. What medications are most indicative of each disease?\n",
    "  > \n",
    "  * As determined both by Specificity and Precision (positive predictivity), AMLODIPINE, ATENOLOL, and HYDROCHLOROTHIAZIDE were indicative of high blood pressure, while WARFARIN, PLAVIX, and FUROSEMIDE were indicative of stroke.  \n",
    "  * Ranking drugs by Specificity and Precision seemed to return similar results, however, Precision may be easier to interpret as a measure of \"indicative\" of disease (Precision = 'probability of a patient having the disease, given that he or she takes the medication')\n",
    "\n",
    "1. Choose ONE of the diseases and build a model to infer whether that disease is present from the medications.\n",
    "  > \n",
    "  * A logistic regression model was used to predict the occurance of Stroke based on the use or non-use of 45 medications highly indicative of the disease (only medications used by at least 5% of patients with stroke were included).  \n",
    "\n",
    "1. Demonstrate that the end user should be confident in the result\n",
    "  > \n",
    "  * The model achived ~80% mean accuracy with a true positive rate (sensitivity) of ~65% and a true negative rate (specificity) of 80% on the validation data set.  \n",
    "  (On average, each of the 45 drugs alone exhibited only 11% sensitivity, but 96% specificity.)  \n",
    "  * Parameter tuning to maximize sensitivity did not improve results.  \n",
    "  There was no evidence of overfitting.\n",
    "\n",
    "1. Bonus: Extend this to other diseases of interest, using\n",
    "https://dl.dropboxusercontent.com/u/103227113/meps_curated/meps_conditions.csv\n",
    "\n",
    "1. If you feel like going further: The source data set is meps (http://meps.ahrq.gov/mepsweb/ ). There is a lot more data in there (including medical costs and utilization). Add something you think is interesting. (An FYI: id in the curated dataset corresponds to DUPERSID in the raw files.)\n",
    "\n",
    "\n",
    "Discussion / Conclusions:  \n",
    "\n",
    "* It's important to consider co-morbidities when examinining individual diseases--especially common ones like high blood pressure\n",
    "* Specificity and Precision (Positive Predictivity) can be used as measures for how \"indicative\" a medication is of a particular disease.\n",
    "* Using many medications rather than a single one can be a more sensitive approach for predicting whather an individual has a diease such as Stroke.\n",
    "\n",
    "Requirements / checklist:\n",
    "* confident in results\n",
    "* readable code\n",
    "* reuseable code\n",
    "* reusable data\n",
    "* data quality, e.g. duplicates\n",
    "* sanity check using other sources\n",
    "* interpretation of model performance"
   ]
  },
  {
   "cell_type": "code",
   "execution_count": 1,
   "metadata": {
    "collapsed": false
   },
   "outputs": [
    {
     "name": "stderr",
     "output_type": "stream",
     "text": [
      "/home/main/anaconda2/lib/python2.7/site-packages/matplotlib/font_manager.py:273: UserWarning: Matplotlib is building the font cache using fc-list. This may take a moment.\n",
      "  warnings.warn('Matplotlib is building the font cache using fc-list. This may take a moment.')\n"
     ]
    }
   ],
   "source": [
    "import pandas as pd\n",
    "import numpy as np\n",
    "import matplotlib.pyplot as plt\n",
    "\n",
    "from source.helpers import COLS_DX, load_base_data, load_meds_data"
   ]
  },
  {
   "cell_type": "code",
   "execution_count": 102,
   "metadata": {
    "collapsed": false
   },
   "outputs": [],
   "source": [
    "from sklearn.cross_validation import train_test_split\n",
    "from sklearn.linear_model import LogisticRegression\n",
    "from sklearn.grid_search import GridSearchCV"
   ]
  },
  {
   "cell_type": "code",
   "execution_count": 2,
   "metadata": {
    "collapsed": false
   },
   "outputs": [],
   "source": [
    "%matplotlib inline"
   ]
  },
  {
   "cell_type": "markdown",
   "metadata": {},
   "source": [
    "Base data"
   ]
  },
  {
   "cell_type": "code",
   "execution_count": 3,
   "metadata": {
    "collapsed": false
   },
   "outputs": [
    {
     "name": "stdout",
     "output_type": "stream",
     "text": [
      "load and prep base data for patients\n",
      "\n",
      "    - remap diagnoses:\n",
      "        yes -> True\n",
      "        no -> False\n",
      "        ['Inapplicable', 'DK', 'Refused', 'not ascertained'] -> NaN\n",
      "    - exclude minors by default\n",
      "    \n"
     ]
    }
   ],
   "source": [
    "print load_base_data.__doc__ ####### will want to reuse and improve on this"
   ]
  },
  {
   "cell_type": "code",
   "execution_count": 4,
   "metadata": {
    "collapsed": false,
    "scrolled": true
   },
   "outputs": [
    {
     "name": "stdout",
     "output_type": "stream",
     "text": [
      "42324\n"
     ]
    },
    {
     "data": {
      "text/html": [
       "<div>\n",
       "<table border=\"1\" class=\"dataframe\">\n",
       "  <thead>\n",
       "    <tr style=\"text-align: right;\">\n",
       "      <th></th>\n",
       "      <th>panel</th>\n",
       "      <th>pooledWeight</th>\n",
       "      <th>age</th>\n",
       "      <th>sex</th>\n",
       "      <th>race</th>\n",
       "      <th>married</th>\n",
       "      <th>highBPDiagnosed</th>\n",
       "      <th>diabetesDiagnosed</th>\n",
       "      <th>chdDiagnosed</th>\n",
       "      <th>miDiagnosed</th>\n",
       "      <th>anginaDiagnosed</th>\n",
       "      <th>strokeDiagnosed</th>\n",
       "      <th>emphysemaDiagnosed</th>\n",
       "      <th>asthmaDiagnosed</th>\n",
       "      <th>otherHDDiagnosed</th>\n",
       "      <th>heartFailureDiagnosed</th>\n",
       "    </tr>\n",
       "    <tr>\n",
       "      <th>id</th>\n",
       "      <th></th>\n",
       "      <th></th>\n",
       "      <th></th>\n",
       "      <th></th>\n",
       "      <th></th>\n",
       "      <th></th>\n",
       "      <th></th>\n",
       "      <th></th>\n",
       "      <th></th>\n",
       "      <th></th>\n",
       "      <th></th>\n",
       "      <th></th>\n",
       "      <th></th>\n",
       "      <th></th>\n",
       "      <th></th>\n",
       "      <th></th>\n",
       "    </tr>\n",
       "  </thead>\n",
       "  <tbody>\n",
       "    <tr>\n",
       "      <th>10007101</th>\n",
       "      <td>15</td>\n",
       "      <td>3603.881236</td>\n",
       "      <td>28</td>\n",
       "      <td>Male</td>\n",
       "      <td>White</td>\n",
       "      <td>MARRIED</td>\n",
       "      <td>True</td>\n",
       "      <td>False</td>\n",
       "      <td>False</td>\n",
       "      <td>False</td>\n",
       "      <td>False</td>\n",
       "      <td>False</td>\n",
       "      <td>False</td>\n",
       "      <td>False</td>\n",
       "      <td>False</td>\n",
       "      <td>False</td>\n",
       "    </tr>\n",
       "    <tr>\n",
       "      <th>10007102</th>\n",
       "      <td>15</td>\n",
       "      <td>2544.550424</td>\n",
       "      <td>25</td>\n",
       "      <td>Female</td>\n",
       "      <td>White</td>\n",
       "      <td>MARRIED</td>\n",
       "      <td>False</td>\n",
       "      <td>False</td>\n",
       "      <td>False</td>\n",
       "      <td>False</td>\n",
       "      <td>False</td>\n",
       "      <td>False</td>\n",
       "      <td>False</td>\n",
       "      <td>True</td>\n",
       "      <td>False</td>\n",
       "      <td>False</td>\n",
       "    </tr>\n",
       "    <tr>\n",
       "      <th>10008101</th>\n",
       "      <td>15</td>\n",
       "      <td>3635.552466</td>\n",
       "      <td>51</td>\n",
       "      <td>Male</td>\n",
       "      <td>Multiple</td>\n",
       "      <td>MARRIED</td>\n",
       "      <td>False</td>\n",
       "      <td>False</td>\n",
       "      <td>False</td>\n",
       "      <td>False</td>\n",
       "      <td>False</td>\n",
       "      <td>False</td>\n",
       "      <td>False</td>\n",
       "      <td>False</td>\n",
       "      <td>False</td>\n",
       "      <td>False</td>\n",
       "    </tr>\n",
       "    <tr>\n",
       "      <th>10008102</th>\n",
       "      <td>15</td>\n",
       "      <td>4367.816253</td>\n",
       "      <td>53</td>\n",
       "      <td>Female</td>\n",
       "      <td>Asian</td>\n",
       "      <td>MARRIED</td>\n",
       "      <td>False</td>\n",
       "      <td>False</td>\n",
       "      <td>False</td>\n",
       "      <td>False</td>\n",
       "      <td>False</td>\n",
       "      <td>False</td>\n",
       "      <td>False</td>\n",
       "      <td>False</td>\n",
       "      <td>False</td>\n",
       "      <td>False</td>\n",
       "    </tr>\n",
       "    <tr>\n",
       "      <th>10009101</th>\n",
       "      <td>15</td>\n",
       "      <td>6241.938280</td>\n",
       "      <td>61</td>\n",
       "      <td>Female</td>\n",
       "      <td>Black</td>\n",
       "      <td>NEVER MARRIED</td>\n",
       "      <td>True</td>\n",
       "      <td>False</td>\n",
       "      <td>False</td>\n",
       "      <td>False</td>\n",
       "      <td>False</td>\n",
       "      <td>False</td>\n",
       "      <td>False</td>\n",
       "      <td>False</td>\n",
       "      <td>False</td>\n",
       "      <td>False</td>\n",
       "    </tr>\n",
       "  </tbody>\n",
       "</table>\n",
       "</div>"
      ],
      "text/plain": [
       "          panel  pooledWeight  age     sex      race        married  \\\n",
       "id                                                                    \n",
       "10007101     15   3603.881236   28    Male     White        MARRIED   \n",
       "10007102     15   2544.550424   25  Female     White        MARRIED   \n",
       "10008101     15   3635.552466   51    Male  Multiple        MARRIED   \n",
       "10008102     15   4367.816253   53  Female     Asian        MARRIED   \n",
       "10009101     15   6241.938280   61  Female     Black  NEVER MARRIED   \n",
       "\n",
       "         highBPDiagnosed diabetesDiagnosed chdDiagnosed miDiagnosed  \\\n",
       "id                                                                    \n",
       "10007101            True             False        False       False   \n",
       "10007102           False             False        False       False   \n",
       "10008101           False             False        False       False   \n",
       "10008102           False             False        False       False   \n",
       "10009101            True             False        False       False   \n",
       "\n",
       "         anginaDiagnosed strokeDiagnosed emphysemaDiagnosed asthmaDiagnosed  \\\n",
       "id                                                                            \n",
       "10007101           False           False              False           False   \n",
       "10007102           False           False              False            True   \n",
       "10008101           False           False              False           False   \n",
       "10008102           False           False              False           False   \n",
       "10009101           False           False              False           False   \n",
       "\n",
       "         otherHDDiagnosed heartFailureDiagnosed  \n",
       "id                                               \n",
       "10007101            False                 False  \n",
       "10007102            False                 False  \n",
       "10008101            False                 False  \n",
       "10008102            False                 False  \n",
       "10009101            False                 False  "
      ]
     },
     "execution_count": 4,
     "metadata": {},
     "output_type": "execute_result"
    }
   ],
   "source": [
    "df_base = load_base_data()\n",
    "print len(df_base)\n",
    "df_base.head()"
   ]
  },
  {
   "cell_type": "markdown",
   "metadata": {},
   "source": [
    "(from other [notebook](#inspect.ipynb))\n",
    "> data prep summary \n",
    "* looks like one row per patient\n",
    "* could potentially have some duplicates (<1%)\n",
    "* not sure what `panel` or `pooledWeight` mean\n",
    "* Threw out diagnoses besides Yes / No\n",
    "* option to throw out data from minors (lots of \"Inapplicable\" values)"
   ]
  },
  {
   "cell_type": "code",
   "execution_count": 5,
   "metadata": {
    "collapsed": false
   },
   "outputs": [
    {
     "data": {
      "image/png": "[encoded data removed]",
      "text/plain": [
       "<matplotlib.figure.Figure at 0x7f4844b83e90>"
      ]
     },
     "metadata": {},
     "output_type": "display_data"
    }
   ],
   "source": [
    "df_base[COLS_DX].apply(lambda ds: ds.value_counts(dropna=False)).T.plot.barh(stacked=True);"
   ]
  },
  {
   "cell_type": "markdown",
   "metadata": {},
   "source": [
    "> lots of high blood pressure"
   ]
  },
  {
   "cell_type": "markdown",
   "metadata": {},
   "source": [
    "### meds"
   ]
  },
  {
   "cell_type": "code",
   "execution_count": 6,
   "metadata": {
    "collapsed": false
   },
   "outputs": [
    {
     "name": "stdout",
     "output_type": "stream",
     "text": [
      "load and prep meds data\n",
      "\n",
      "    - disambiguate drug names\n",
      "    - collapse duplicate prescriptions per patient\n",
      "    \n"
     ]
    }
   ],
   "source": [
    "print load_meds_data.__doc__"
   ]
  },
  {
   "cell_type": "code",
   "execution_count": 7,
   "metadata": {
    "collapsed": false
   },
   "outputs": [
    {
     "data": {
      "text/html": [
       "<div>\n",
       "<table border=\"1\" class=\"dataframe\">\n",
       "  <thead>\n",
       "    <tr style=\"text-align: right;\">\n",
       "      <th></th>\n",
       "      <th></th>\n",
       "      <th>numPrescriptions</th>\n",
       "      <th>originalNDCs</th>\n",
       "    </tr>\n",
       "    <tr>\n",
       "      <th>id</th>\n",
       "      <th>rxNickname</th>\n",
       "      <th></th>\n",
       "      <th></th>\n",
       "    </tr>\n",
       "  </thead>\n",
       "  <tbody>\n",
       "    <tr>\n",
       "      <th rowspan=\"2\" valign=\"top\">10007101</th>\n",
       "      <th>ATENOLOL</th>\n",
       "      <td>4</td>\n",
       "      <td>[68382002210, 51079068463]</td>\n",
       "    </tr>\n",
       "    <tr>\n",
       "      <th>AZITHROMYCIN</th>\n",
       "      <td>1</td>\n",
       "      <td>[59762314001]</td>\n",
       "    </tr>\n",
       "    <tr>\n",
       "      <th rowspan=\"3\" valign=\"top\">10007102</th>\n",
       "      <th>CARISOPRODOL</th>\n",
       "      <td>1</td>\n",
       "      <td>[603258228]</td>\n",
       "    </tr>\n",
       "    <tr>\n",
       "      <th>HYDROCO</th>\n",
       "      <td>1</td>\n",
       "      <td>[406036005]</td>\n",
       "    </tr>\n",
       "    <tr>\n",
       "      <th>TREXIMET</th>\n",
       "      <td>2</td>\n",
       "      <td>[173075000]</td>\n",
       "    </tr>\n",
       "  </tbody>\n",
       "</table>\n",
       "</div>"
      ],
      "text/plain": [
       "                       numPrescriptions                originalNDCs\n",
       "id       rxNickname                                                \n",
       "10007101 ATENOLOL                     4  [68382002210, 51079068463]\n",
       "         AZITHROMYCIN                 1               [59762314001]\n",
       "10007102 CARISOPRODOL                 1                 [603258228]\n",
       "         HYDROCO                      1                 [406036005]\n",
       "         TREXIMET                     2                 [173075000]"
      ]
     },
     "execution_count": 7,
     "metadata": {},
     "output_type": "execute_result"
    }
   ],
   "source": [
    "df_meds = load_meds_data()\n",
    "df_meds.head()"
   ]
  },
  {
   "cell_type": "markdown",
   "metadata": {
    "collapsed": false
   },
   "source": [
    "(from other [notebook](#inspect.ipynb))\n",
    "> data prep summary\n",
    "* looks like 1 row per prescription\n",
    "* lots of ambigous drug names and NDCs, even per-patient\n",
    "* drug nickname: 1st word in drug name\n",
    "* collapsed data into unique drug nicknames per patient\n",
    "    * keep original NDCs\n",
    "    * count number of prescriptions per drug per patient in case useful"
   ]
  },
  {
   "cell_type": "markdown",
   "metadata": {},
   "source": [
    "## What are the most common medications for each disease in the base file?\n",
    "Could interpret as:\n",
    "1. Among all patients with a specific disease, which meds are most common?  \n",
    "(but could be confounded by other diseases)\n",
    "2. Among patietns with _only_ a specific disease, which meds are most common?  \n",
    "(maybe better?)"
   ]
  },
  {
   "cell_type": "code",
   "execution_count": 8,
   "metadata": {
    "collapsed": false,
    "scrolled": true
   },
   "outputs": [],
   "source": [
    "df = pd.merge(df_base.reset_index(), \n",
    "              df_meds.reset_index(), \n",
    "              how='inner',   # ignore patients without drugs\n",
    "              left_on='id', \n",
    "              right_on='id')"
   ]
  },
  {
   "cell_type": "code",
   "execution_count": 9,
   "metadata": {
    "collapsed": false
   },
   "outputs": [
    {
     "name": "stdout",
     "output_type": "stream",
     "text": [
      "30856 patients\n",
      "3290 drugs\n"
     ]
    },
    {
     "data": {
      "text/html": [
       "<div>\n",
       "<table border=\"1\" class=\"dataframe\">\n",
       "  <thead>\n",
       "    <tr style=\"text-align: right;\">\n",
       "      <th></th>\n",
       "      <th>id</th>\n",
       "      <th>panel</th>\n",
       "      <th>pooledWeight</th>\n",
       "      <th>age</th>\n",
       "      <th>sex</th>\n",
       "      <th>race</th>\n",
       "      <th>married</th>\n",
       "      <th>highBPDiagnosed</th>\n",
       "      <th>diabetesDiagnosed</th>\n",
       "      <th>chdDiagnosed</th>\n",
       "      <th>miDiagnosed</th>\n",
       "      <th>anginaDiagnosed</th>\n",
       "      <th>strokeDiagnosed</th>\n",
       "      <th>emphysemaDiagnosed</th>\n",
       "      <th>asthmaDiagnosed</th>\n",
       "      <th>otherHDDiagnosed</th>\n",
       "      <th>heartFailureDiagnosed</th>\n",
       "      <th>rxNickname</th>\n",
       "      <th>numPrescriptions</th>\n",
       "      <th>originalNDCs</th>\n",
       "    </tr>\n",
       "  </thead>\n",
       "  <tbody>\n",
       "    <tr>\n",
       "      <th>0</th>\n",
       "      <td>10007101</td>\n",
       "      <td>15</td>\n",
       "      <td>3603.881236</td>\n",
       "      <td>28</td>\n",
       "      <td>Male</td>\n",
       "      <td>White</td>\n",
       "      <td>MARRIED</td>\n",
       "      <td>True</td>\n",
       "      <td>False</td>\n",
       "      <td>False</td>\n",
       "      <td>False</td>\n",
       "      <td>False</td>\n",
       "      <td>False</td>\n",
       "      <td>False</td>\n",
       "      <td>False</td>\n",
       "      <td>False</td>\n",
       "      <td>False</td>\n",
       "      <td>ATENOLOL</td>\n",
       "      <td>4</td>\n",
       "      <td>[68382002210, 51079068463]</td>\n",
       "    </tr>\n",
       "    <tr>\n",
       "      <th>1</th>\n",
       "      <td>10007101</td>\n",
       "      <td>15</td>\n",
       "      <td>3603.881236</td>\n",
       "      <td>28</td>\n",
       "      <td>Male</td>\n",
       "      <td>White</td>\n",
       "      <td>MARRIED</td>\n",
       "      <td>True</td>\n",
       "      <td>False</td>\n",
       "      <td>False</td>\n",
       "      <td>False</td>\n",
       "      <td>False</td>\n",
       "      <td>False</td>\n",
       "      <td>False</td>\n",
       "      <td>False</td>\n",
       "      <td>False</td>\n",
       "      <td>False</td>\n",
       "      <td>AZITHROMYCIN</td>\n",
       "      <td>1</td>\n",
       "      <td>[59762314001]</td>\n",
       "    </tr>\n",
       "  </tbody>\n",
       "</table>\n",
       "</div>"
      ],
      "text/plain": [
       "         id  panel  pooledWeight  age   sex   race  married highBPDiagnosed  \\\n",
       "0  10007101     15   3603.881236   28  Male  White  MARRIED            True   \n",
       "1  10007101     15   3603.881236   28  Male  White  MARRIED            True   \n",
       "\n",
       "  diabetesDiagnosed chdDiagnosed miDiagnosed anginaDiagnosed strokeDiagnosed  \\\n",
       "0             False        False       False           False           False   \n",
       "1             False        False       False           False           False   \n",
       "\n",
       "  emphysemaDiagnosed asthmaDiagnosed otherHDDiagnosed heartFailureDiagnosed  \\\n",
       "0              False           False            False                 False   \n",
       "1              False           False            False                 False   \n",
       "\n",
       "     rxNickname  numPrescriptions                originalNDCs  \n",
       "0      ATENOLOL                 4  [68382002210, 51079068463]  \n",
       "1  AZITHROMYCIN                 1               [59762314001]  "
      ]
     },
     "execution_count": 9,
     "metadata": {},
     "output_type": "execute_result"
    }
   ],
   "source": [
    "print df.id.nunique(), 'patients'\n",
    "print df.rxNickname.nunique(), 'drugs'\n",
    "df.head(2)"
   ]
  },
  {
   "cell_type": "markdown",
   "metadata": {},
   "source": [
    "### 1)\n",
    "Rank meds by $P(M|D_i)$ for each disease $D_i$"
   ]
  },
  {
   "cell_type": "markdown",
   "metadata": {},
   "source": [
    "e.g. high blood pressure"
   ]
  },
  {
   "cell_type": "code",
   "execution_count": 10,
   "metadata": {
    "collapsed": false
   },
   "outputs": [
    {
     "data": {
      "text/plain": [
       "LISINOPRIL             3104\n",
       "SIMVASTATIN            2418\n",
       "HYDROCHLOROTHIAZIDE    1976\n",
       "Name: rxNickname, dtype: int64"
      ]
     },
     "execution_count": 10,
     "metadata": {},
     "output_type": "execute_result"
    }
   ],
   "source": [
    "df[df.highBPDiagnosed == True].rxNickname.value_counts().head(3)"
   ]
  },
  {
   "cell_type": "markdown",
   "metadata": {},
   "source": [
    "> Makes sense. Drugs for high lipids and blood pressure."
   ]
  },
  {
   "cell_type": "code",
   "execution_count": 11,
   "metadata": {
    "collapsed": true
   },
   "outputs": [],
   "source": [
    "n_top = 3"
   ]
  },
  {
   "cell_type": "code",
   "execution_count": 35,
   "metadata": {
    "collapsed": false,
    "scrolled": true
   },
   "outputs": [
    {
     "name": "stdout",
     "output_type": "stream",
     "text": [
      "highBPDiagnosed\n",
      "LISINOPRIL             3104\n",
      "SIMVASTATIN            2418\n",
      "HYDROCHLOROTHIAZIDE    1976\n",
      "of 12626 patients diagnosed\n",
      "\n",
      "diabetesDiagnosed\n",
      "METFORMIN      2156\n",
      "LISINOPRIL     1251\n",
      "SIMVASTATIN    1119\n",
      "of 4207 patients diagnosed\n",
      "\n",
      "chdDiagnosed\n",
      "METOPROLOL     689\n",
      "SIMVASTATIN    671\n",
      "LISINOPRIL     615\n",
      "of 2250 patients diagnosed\n",
      "\n",
      "miDiagnosed\n",
      "METOPROLOL     477\n",
      "SIMVASTATIN    460\n",
      "LISINOPRIL     446\n",
      "of 1468 patients diagnosed\n",
      "\n",
      "anginaDiagnosed\n",
      "METOPROLOL     337\n",
      "SIMVASTATIN    299\n",
      "LISINOPRIL     274\n",
      "of 1098 patients diagnosed\n",
      "\n",
      "strokeDiagnosed\n",
      "SIMVASTATIN    425\n",
      "LISINOPRIL     383\n",
      "PLAVIX         314\n",
      "of 1485 patients diagnosed\n",
      "\n",
      "emphysemaDiagnosed\n",
      "ALBUTEROL     240\n",
      "ADVAIR        193\n",
      "LISINOPRIL    187\n",
      "of 874 patients diagnosed\n",
      "\n",
      "asthmaDiagnosed\n",
      "ALBUTEROL       726\n",
      "AZITHROMYCIN    672\n",
      "ADVAIR          639\n",
      "of 3432 patients diagnosed\n",
      "\n",
      "otherHDDiagnosed\n",
      "LISINOPRIL     757\n",
      "METOPROLOL     752\n",
      "SIMVASTATIN    738\n",
      "of 3629 patients diagnosed\n",
      "\n",
      "heartFailureDiagnosed\n",
      "FUROSEMIDE    239\n",
      "LISINOPRIL    158\n",
      "CARVEDILOL    117\n",
      "of 420 patients diagnosed\n",
      "\n"
     ]
    }
   ],
   "source": [
    "for dx in COLS_DX:\n",
    "    has_disease = df[dx] == True\n",
    "    cts = df[has_disease].rxNickname.value_counts()\n",
    "\n",
    "    n_diagnosed = df.loc[has_disease, 'id'].nunique()\n",
    "\n",
    "    print dx\n",
    "    print cts.head(n_top).to_string()\n",
    "    print 'of', n_diagnosed, 'patients diagnosed'\n",
    "    print"
   ]
  },
  {
   "cell_type": "code",
   "execution_count": 36,
   "metadata": {
    "collapsed": false
   },
   "outputs": [
    {
     "data": {
      "text/plain": [
       "FUROSEMIDE    56.904762\n",
       "LISINOPRIL    37.619048\n",
       "CARVEDILOL    27.857143\n",
       "Name: rxNickname, dtype: float64"
      ]
     },
     "execution_count": 36,
     "metadata": {},
     "output_type": "execute_result"
    }
   ],
   "source": [
    "100. * cts.head(n_top) / n_diagnosed"
   ]
  },
  {
   "cell_type": "markdown",
   "metadata": {},
   "source": [
    "> SIMVASTATIN and LISINOPRIL very common. Looks like high blood pressure comes along for the ride"
   ]
  },
  {
   "cell_type": "markdown",
   "metadata": {},
   "source": [
    "### 2)\n",
    "Rank meds by $P(M|D_i \\cap \\not D_k)$ for each disease $D_i$ and all other diseases $D_k, k \\ne i$"
   ]
  },
  {
   "cell_type": "code",
   "execution_count": 32,
   "metadata": {
    "collapsed": false
   },
   "outputs": [],
   "source": [
    "def top_cts_pcts(cts, n_tot, n_top=n_top):\n",
    "    pct = (100. * cts / n_tot).apply(lambda x: '{:.2f}%'.format(x))\n",
    "    ds = cts.head(n_top).astype(str) + ' (' + pct.head(n_top).astype(str) + ')'\n",
    "    return ds.to_string()"
   ]
  },
  {
   "cell_type": "code",
   "execution_count": 33,
   "metadata": {
    "collapsed": false,
    "scrolled": true
   },
   "outputs": [
    {
     "name": "stdout",
     "output_type": "stream",
     "text": [
      "highBPDiagnosed\n",
      "LISINOPRIL             1148 (19.54%)\n",
      "HYDROCHLOROTHIAZIDE     912 (15.52%)\n",
      "AMLODIPINE              766 (13.04%)\n",
      "of 5875 patients diagnosed with only this disease\n",
      "\n",
      "diabetesDiagnosed\n",
      "METFORMIN     419 (54.63%)\n",
      "ONETOUCH      155 (20.21%)\n",
      "LISINOPRIL    145 (18.90%)\n",
      "of 767 patients diagnosed with only this disease\n",
      "\n",
      "chdDiagnosed\n",
      "SIMVASTATIN    13 (20.00%)\n",
      "METOPROLOL     13 (20.00%)\n",
      "APAP            9 (13.85%)\n",
      "of 65 patients diagnosed with only this disease\n",
      "\n",
      "miDiagnosed\n",
      "METOPROLOL     8 (22.86%)\n",
      "HYDROCO        7 (20.00%)\n",
      "SIMVASTATIN    6 (17.14%)\n",
      "of 35 patients diagnosed with only this disease\n",
      "\n",
      "anginaDiagnosed\n",
      "AZITHROMYCIN    8 (23.53%)\n",
      "AMOXICILLIN     4 (11.76%)\n",
      "APAP             3 (8.82%)\n",
      "of 34 patients diagnosed with only this disease\n",
      "\n",
      "strokeDiagnosed\n",
      "SIMVASTATIN     24 (17.39%)\n",
      "AZITHROMYCIN    22 (15.94%)\n",
      "AMOXICILLIN     17 (12.32%)\n",
      "of 138 patients diagnosed with only this disease\n",
      "\n",
      "emphysemaDiagnosed\n",
      "SPIRIVA      19 (22.09%)\n",
      "ADVAIR       17 (19.77%)\n",
      "ALBUTEROL    12 (13.95%)\n",
      "of 86 patients diagnosed with only this disease\n",
      "\n",
      "asthmaDiagnosed\n",
      "AZITHROMYCIN    303 (20.74%)\n",
      "ALBUTEROL       279 (19.10%)\n",
      "ADVAIR          234 (16.02%)\n",
      "of 1461 patients diagnosed with only this disease\n",
      "\n",
      "otherHDDiagnosed\n",
      "AZITHROMYCIN    125 (18.33%)\n",
      "AMOXICILLIN     116 (17.01%)\n",
      "IBUPROFEN         67 (9.82%)\n",
      "of 682 patients diagnosed with only this disease\n",
      "\n",
      "heartFailureDiagnosed\n",
      "TRAMADOL      2 (28.57%)\n",
      "FUROSEMIDE    2 (28.57%)\n",
      "APAP          2 (28.57%)\n",
      "of 7 patients diagnosed with only this disease\n",
      "\n"
     ]
    }
   ],
   "source": [
    "for dx in COLS_DX:\n",
    "    has_disease = df[dx] == True\n",
    "    not_others = (df[COLS_DX].drop(dx, axis=1) == False).all(1)\n",
    "    cts = df[has_disease & not_others].rxNickname.value_counts()\n",
    "\n",
    "    n_diagnosed = df.loc[has_disease & not_others, 'id'].nunique()\n",
    "\n",
    "    print dx\n",
    "    print top_cts_pcts(cts, n_diagnosed)\n",
    "    print 'of', n_diagnosed, 'patients diagnosed with only this disease'\n",
    "    print"
   ]
  },
  {
   "cell_type": "markdown",
   "metadata": {},
   "source": [
    "> ONETOUCH now shows up in top 3 drugs for Diabetes-only patients, which makes sense"
   ]
  },
  {
   "cell_type": "markdown",
   "metadata": {},
   "source": [
    "## What medications are most indicative of each disease?\n",
    "\"Indicative\" is tricky. Could interpret as:\n",
    "1. drugs that are rarely taken when the disease is not present (high specificity)\n",
    "2. drugs for which the diseases is common among those who take the drug (high positive predictivity)"
   ]
  },
  {
   "cell_type": "markdown",
   "metadata": {},
   "source": [
    "### 1)\n",
    "Rank meds by $P(\\not M|\\not D_i)$ for each disease.  "
   ]
  },
  {
   "cell_type": "markdown",
   "metadata": {},
   "source": [
    "Also, exclude drugs used by less than 10% of patients with disease"
   ]
  },
  {
   "cell_type": "code",
   "execution_count": 15,
   "metadata": {
    "collapsed": false
   },
   "outputs": [],
   "source": [
    "# n_common = 50 #150\n",
    "qile_drug = 0.1 # to exclude rare drugs that won't be very useful"
   ]
  },
  {
   "cell_type": "code",
   "execution_count": 37,
   "metadata": {
    "collapsed": false,
    "scrolled": true
   },
   "outputs": [
    {
     "name": "stdout",
     "output_type": "stream",
     "text": [
      "highBPDiagnosed (NEGATIVE)\n",
      "AMLODIPINE             109 (0.86%)\n",
      "ATENOLOL               163 (1.29%)\n",
      "HYDROCHLOROTHIAZIDE    200 (1.58%)\n",
      "of 6419 patients diagnosed (NEGATIVE)\n",
      "\n",
      "diabetesDiagnosed (NEGATIVE)\n",
      "HUMULIN    12 (0.29%)\n",
      "NOVOLIN    16 (0.38%)\n",
      "LANTUS     17 (0.40%)\n",
      "of 17537 patients diagnosed (NEGATIVE)\n",
      "\n",
      "chdDiagnosed (NEGATIVE)\n",
      "CARVEDILOL    321 (14.27%)\n",
      "PLAVIX        448 (19.91%)\n",
      "WARFARIN      451 (20.04%)\n",
      "of 24060 patients diagnosed (NEGATIVE)\n",
      "\n",
      "miDiagnosed (NEGATIVE)\n",
      "CARVEDILOL    417 (28.41%)\n",
      "METOPROL      479 (32.63%)\n",
      "WARFARIN      572 (38.96%)\n",
      "of 26542 patients diagnosed (NEGATIVE)\n",
      "\n",
      "anginaDiagnosed (NEGATIVE)\n",
      "WARFARIN    623 (56.74%)\n",
      "PLAVIX      700 (63.75%)\n",
      "ASPIRIN     738 (67.21%)\n",
      "of 30965 patients diagnosed (NEGATIVE)\n",
      "\n",
      "strokeDiagnosed (NEGATIVE)\n",
      "WARFARIN       564 (37.98%)\n",
      "PLAVIX         658 (44.31%)\n",
      "FUROSEMIDE    1132 (76.23%)\n",
      "of 29583 patients diagnosed (NEGATIVE)\n",
      "\n",
      "emphysemaDiagnosed (NEGATIVE)\n",
      "SPIRIVA    145 (16.59%)\n",
      "PROAIR     699 (79.98%)\n",
      "ADVAIR     750 (85.81%)\n",
      "of 33125 patients diagnosed (NEGATIVE)\n",
      "\n",
      "asthmaDiagnosed (NEGATIVE)\n",
      "SINGULAIR    280 (8.16%)\n",
      "ADVAIR       304 (8.86%)\n",
      "PROAIR       307 (8.95%)\n",
      "of 19990 patients diagnosed (NEGATIVE)\n",
      "\n",
      "otherHDDiagnosed (NEGATIVE)\n",
      "WARFARIN       339 (9.34%)\n",
      "PLAVIX        552 (15.21%)\n",
      "FUROSEMIDE    803 (22.13%)\n",
      "of 24878 patients diagnosed (NEGATIVE)\n",
      "\n",
      "heartFailureDiagnosed (NEGATIVE)\n",
      "COREG         173 (41.19%)\n",
      "ISOSORBIDE    218 (51.90%)\n",
      "DIGOXIN       286 (68.10%)\n",
      "of 40047 patients diagnosed (NEGATIVE)\n",
      "\n"
     ]
    }
   ],
   "source": [
    "for dx in COLS_DX:\n",
    "    has_disease = df[dx] == True\n",
    "    cts = df[has_disease].rxNickname.value_counts()\n",
    "    \n",
    "    # subset of common meds most-infreqently found in patients without the disease\n",
    "#    common_meds = cts.head(n_common).index\n",
    "\n",
    "    n_diagnosed = df.loc[has_disease, 'id'].nunique()\n",
    "    _thresh = n_diagnosed * qile_drug\n",
    "    common_meds = cts[cts >= _thresh].index\n",
    "    cts2 = df[~has_disease].rxNickname.value_counts()[common_meds].sort_values()\n",
    "\n",
    "    print dx, '(NEGATIVE)'\n",
    "    print top_cts_pcts(cts2, n_diagnosed)\n",
    "    print 'of', cts2.sum(), 'patients diagnosed (NEGATIVE)'\n",
    "    print"
   ]
  },
  {
   "cell_type": "markdown",
   "metadata": {},
   "source": [
    "> \n",
    "* seems to be pretty specific (e.g. HUMALIN, NOVOLIN, LANTUS for diabetes)\n",
    "* however, the result depends on the size of the subset of common drugs\n",
    "    * ~~the ideal size of the subset `n_common` probably depends on the drug~~\n",
    "    * better to just select a percentile"
   ]
  },
  {
   "cell_type": "markdown",
   "metadata": {},
   "source": [
    "### 2)\n",
    "Rank meds by $PPV = P(D_i|M)$, the probability of a patient having the disease, given that he or she takes medication"
   ]
  },
  {
   "cell_type": "code",
   "execution_count": 38,
   "metadata": {
    "collapsed": false,
    "scrolled": true
   },
   "outputs": [
    {
     "name": "stdout",
     "output_type": "stream",
     "text": [
      "highBPDiagnosed (% chance given medication:)\n",
      "AMLODIPINE             94.677734\n",
      "HYDROCHLOROTHIAZIDE    90.808824\n",
      "ATENOLOL               89.311475\n",
      "\n",
      "diabetesDiagnosed (% chance given medication:)\n",
      "HUMULIN    97.879859\n",
      "NOVOLIN    96.981132\n",
      "LANTUS     96.711799\n",
      "\n",
      "chdDiagnosed (% chance given medication:)\n",
      "PLAVIX        53.909465\n",
      "CARVEDILOL    48.058252\n",
      "WARFARIN      38.639456\n",
      "\n",
      "miDiagnosed (% chance given medication:)\n",
      "PLAVIX        40.740741\n",
      "CARVEDILOL    32.524272\n",
      "FUROSEMIDE    25.473684\n",
      "\n",
      "anginaDiagnosed (% chance given medication:)\n",
      "PLAVIX        27.983539\n",
      "FUROSEMIDE    17.333333\n",
      "METOPROLOL    16.535819\n",
      "\n",
      "strokeDiagnosed (% chance given medication:)\n",
      "PLAVIX        32.304527\n",
      "WARFARIN      23.265306\n",
      "FUROSEMIDE    20.561404\n",
      "\n",
      "emphysemaDiagnosed (% chance given medication:)\n",
      "SPIRIVA      55.657492\n",
      "ALBUTEROL    21.164021\n",
      "ADVAIR       20.466596\n",
      "\n",
      "asthmaDiagnosed (% chance given medication:)\n",
      "ADVAIR       67.762460\n",
      "ALBUTEROL    64.021164\n",
      "PROAIR       62.238622\n",
      "\n",
      "otherHDDiagnosed (% chance given medication:)\n",
      "WARFARIN      53.877551\n",
      "FUROSEMIDE    43.649123\n",
      "PLAVIX        43.209877\n",
      "\n",
      "heartFailureDiagnosed (% chance given medication:)\n",
      "COREG         21.004566\n",
      "DIGOXIN       19.209040\n",
      "CARVEDILOL    18.932039\n",
      "\n"
     ]
    }
   ],
   "source": [
    "# use Bayes as a trick since we already have P(M|D) \n",
    "# (instead of iterating over all drugs for each disease)\n",
    "\n",
    "for dx in COLS_DX:\n",
    "    has_disease = df[dx] == True\n",
    "    cts = df[has_disease].rxNickname.value_counts()\n",
    "    \n",
    "    # subset of common meds\n",
    "    n_diagnosed = df.loc[has_disease, 'id'].nunique()\n",
    "    _thresh = n_diagnosed * qile_drug\n",
    "    common_meds = cts[cts >= _thresh].index\n",
    "  \n",
    "    # bayes: P(D|M) = P(D)P(M|D)/P(M)\n",
    "    p_m_d = 100. * cts / cts.sum()  # not len(has_disease) otherwise we may be underestimating??\n",
    "    cts2 = df.rxNickname.value_counts()\n",
    "    p_m = (100. * cts2 / cts2.sum())\n",
    "    p_d = 100. * has_disease.sum() / has_disease.count()\n",
    "    p_d_m = p_m_d * p_d / p_m\n",
    "    \n",
    "    print dx, '(% chance given medication:)'\n",
    "    print p_d_m.dropna()[common_meds].sort_values(ascending=False).head(n_top).to_string() # limit to common medications for the disease\n",
    "\n",
    "    print"
   ]
  },
  {
   "cell_type": "code",
   "execution_count": 39,
   "metadata": {
    "collapsed": false
   },
   "outputs": [
    {
     "name": "stdout",
     "output_type": "stream",
     "text": [
      "94.8166259169\n",
      "32.3711340206\n"
     ]
    }
   ],
   "source": [
    "# check results\n",
    "print 100. * df[df.rxNickname == 'AMLODIPINE'].highBPDiagnosed.mean()\n",
    "print 100. * df[df.rxNickname == 'PLAVIX'].strokeDiagnosed.mean()"
   ]
  },
  {
   "cell_type": "markdown",
   "metadata": {},
   "source": [
    "> \n",
    "* results look similar\n",
    "* interpretation of P(D|M) is easier to understand"
   ]
  },
  {
   "cell_type": "code",
   "execution_count": 40,
   "metadata": {
    "collapsed": false,
    "scrolled": true
   },
   "outputs": [],
   "source": [
    "#### we'll use again\n",
    "def proba_dx_rx(dx, qile_drug=None):\n",
    "    '''probability of disease (dx) given drug (rx)'''\n",
    "    has_disease = df[dx] == True\n",
    "    cts = df.loc[has_disease].rxNickname.value_counts()\n",
    " \n",
    "    # subset of common meds\n",
    "    if qile_drug:\n",
    "        n_diagnosed = df.loc[has_disease, 'id'].nunique()\n",
    "        _thresh = n_diagnosed * qile_drug\n",
    "        common_meds = cts[cts >= _thresh].index\n",
    "    \n",
    "    # bayes: P(D|M) = P(D)P(M|D)/P(M)\n",
    "    p_m_d = 100. * cts / cts.sum()  # not len(has_disease) otherwise we may be underestimating??\n",
    "    cts2 = df.rxNickname.value_counts()\n",
    "    p_m = (100. * cts2 / cts2.sum())\n",
    "    p_d = 100. * has_disease.sum() / has_disease.count()\n",
    "    p_d_m = p_m_d * p_d / p_m\n",
    "    \n",
    "    if qile_drug:\n",
    "        return p_d_m[common_meds].sort_values(ascending=False)\n",
    "    \n",
    "    return p_d_m.sort_values(ascending=False)"
   ]
  },
  {
   "cell_type": "markdown",
   "metadata": {},
   "source": [
    "## Build a model to infer whether that disease is present from the medications\n",
    "Now let's use a combination of medications (instead of each medication individually) to predict whether a disease is present.\n",
    "\n",
    "Diabetes looks like it would be the easiest to predict, based on the previous result.  \n",
    "Let's try stroke instead, since it looks harder, but is still somewhat distnct (in contrast to heart attack / heart failure?)"
   ]
  },
  {
   "cell_type": "markdown",
   "metadata": {},
   "source": [
    "### develop model\n",
    "* create labels and features for each patient\n",
    "* apply logistic regression"
   ]
  },
  {
   "cell_type": "code",
   "execution_count": 41,
   "metadata": {
    "collapsed": true
   },
   "outputs": [],
   "source": [
    "dx = 'strokeDiagnosed'"
   ]
  },
  {
   "cell_type": "markdown",
   "metadata": {},
   "source": [
    "labels"
   ]
  },
  {
   "cell_type": "code",
   "execution_count": 69,
   "metadata": {
    "collapsed": false,
    "scrolled": true
   },
   "outputs": [
    {
     "data": {
      "text/plain": [
       "0    96.320793\n",
       "1     3.679207\n",
       "Name: strokeDiagnosed, dtype: float64"
      ]
     },
     "execution_count": 69,
     "metadata": {},
     "output_type": "execute_result"
    }
   ],
   "source": [
    "y = df_base[dx].dropna().astype(int)\n",
    "100. * y.value_counts(dropna=False) / len(y)"
   ]
  },
  {
   "cell_type": "markdown",
   "metadata": {},
   "source": [
    "> \n",
    "* droped nans for modeling\n",
    "* mappped true/false -> 0/1\n",
    "* _warning:_ heavily unbalanced classes. Would get >90% accuracy by guessing \"No\""
   ]
  },
  {
   "cell_type": "markdown",
   "metadata": {},
   "source": [
    "feautres  \n",
    "let's use the most indicative drugs for stroke (that are used by at least 5% of the stroke population) as our features"
   ]
  },
  {
   "cell_type": "code",
   "execution_count": 65,
   "metadata": {
    "collapsed": false
   },
   "outputs": [
    {
     "name": "stdout",
     "output_type": "stream",
     "text": [
      "45 drugs\n",
      "['PLAVIX', 'WARFARIN', 'DIGOXIN', 'FUROSEMIDE', 'CARVEDILOL', 'HUMULIN', 'NOVOLIN', 'TRUETRACK', 'LANTUS', 'KLOR', 'INSULIN', 'POTASSIUM', 'ASPIRIN', 'METOPROL', 'METOPROLOL', 'GABAPENTIN', 'AMLODIPINE', 'GLYBURIDE', 'GLIPIZIDE', 'SIMVASTATIN', 'LISINOPRIL', 'PRAVASTATIN', 'ONETOUCH', 'ATENOLOL', 'OMEPRAZOLE', 'LIPITOR', 'TRAMADOL', 'CRESTOR', 'CITALOPRAM', 'ALBUTEROL', 'HYDROCHLOROTHIAZIDE', 'SERTRALINE', 'LEVOTHYROXINE', 'HYDROCHLOROT', 'NEXIUM', 'DIOVAN', 'LEVOTHYROXIN', 'METFORMIN', 'ACETAMINOPHEN', 'APAP', 'HYDROCO', 'PREDNISONE', 'AZITHROMYCIN', 'AMOXICILLIN', 'IBUPROFEN']\n"
     ]
    }
   ],
   "source": [
    "feature_drugs = proba_dx_rx(dx, 0.05).index.tolist()\n",
    "print len(feature_drugs), 'drugs'\n",
    "print feature_drugs"
   ]
  },
  {
   "cell_type": "code",
   "execution_count": 94,
   "metadata": {
    "collapsed": false
   },
   "outputs": [
    {
     "name": "stdout",
     "output_type": "stream",
     "text": [
      "23118 patients in dataset\n"
     ]
    },
    {
     "data": {
      "text/html": [
       "<div>\n",
       "<table border=\"1\" class=\"dataframe\">\n",
       "  <thead>\n",
       "    <tr style=\"text-align: right;\">\n",
       "      <th>rxNickname</th>\n",
       "      <th>ACETAMINOPHEN</th>\n",
       "      <th>ALBUTEROL</th>\n",
       "      <th>AMLODIPINE</th>\n",
       "      <th>AMOXICILLIN</th>\n",
       "      <th>APAP</th>\n",
       "      <th>ASPIRIN</th>\n",
       "      <th>ATENOLOL</th>\n",
       "      <th>AZITHROMYCIN</th>\n",
       "      <th>CARVEDILOL</th>\n",
       "      <th>CITALOPRAM</th>\n",
       "      <th>...</th>\n",
       "      <th>ONETOUCH</th>\n",
       "      <th>PLAVIX</th>\n",
       "      <th>POTASSIUM</th>\n",
       "      <th>PRAVASTATIN</th>\n",
       "      <th>PREDNISONE</th>\n",
       "      <th>SERTRALINE</th>\n",
       "      <th>SIMVASTATIN</th>\n",
       "      <th>TRAMADOL</th>\n",
       "      <th>TRUETRACK</th>\n",
       "      <th>WARFARIN</th>\n",
       "    </tr>\n",
       "    <tr>\n",
       "      <th>id</th>\n",
       "      <th></th>\n",
       "      <th></th>\n",
       "      <th></th>\n",
       "      <th></th>\n",
       "      <th></th>\n",
       "      <th></th>\n",
       "      <th></th>\n",
       "      <th></th>\n",
       "      <th></th>\n",
       "      <th></th>\n",
       "      <th></th>\n",
       "      <th></th>\n",
       "      <th></th>\n",
       "      <th></th>\n",
       "      <th></th>\n",
       "      <th></th>\n",
       "      <th></th>\n",
       "      <th></th>\n",
       "      <th></th>\n",
       "      <th></th>\n",
       "      <th></th>\n",
       "    </tr>\n",
       "  </thead>\n",
       "  <tbody>\n",
       "    <tr>\n",
       "      <th>10007101</th>\n",
       "      <td>0</td>\n",
       "      <td>0</td>\n",
       "      <td>0</td>\n",
       "      <td>0</td>\n",
       "      <td>0</td>\n",
       "      <td>0</td>\n",
       "      <td>1</td>\n",
       "      <td>1</td>\n",
       "      <td>0</td>\n",
       "      <td>0</td>\n",
       "      <td>...</td>\n",
       "      <td>0</td>\n",
       "      <td>0</td>\n",
       "      <td>0</td>\n",
       "      <td>0</td>\n",
       "      <td>0</td>\n",
       "      <td>0</td>\n",
       "      <td>0</td>\n",
       "      <td>0</td>\n",
       "      <td>0</td>\n",
       "      <td>0</td>\n",
       "    </tr>\n",
       "    <tr>\n",
       "      <th>10007102</th>\n",
       "      <td>0</td>\n",
       "      <td>0</td>\n",
       "      <td>0</td>\n",
       "      <td>0</td>\n",
       "      <td>0</td>\n",
       "      <td>0</td>\n",
       "      <td>0</td>\n",
       "      <td>0</td>\n",
       "      <td>0</td>\n",
       "      <td>0</td>\n",
       "      <td>...</td>\n",
       "      <td>0</td>\n",
       "      <td>0</td>\n",
       "      <td>0</td>\n",
       "      <td>0</td>\n",
       "      <td>0</td>\n",
       "      <td>0</td>\n",
       "      <td>0</td>\n",
       "      <td>0</td>\n",
       "      <td>0</td>\n",
       "      <td>0</td>\n",
       "    </tr>\n",
       "  </tbody>\n",
       "</table>\n",
       "<p>2 rows × 45 columns</p>\n",
       "</div>"
      ],
      "text/plain": [
       "rxNickname  ACETAMINOPHEN  ALBUTEROL  AMLODIPINE  AMOXICILLIN  APAP  ASPIRIN  \\\n",
       "id                                                                             \n",
       "10007101                0          0           0            0     0        0   \n",
       "10007102                0          0           0            0     0        0   \n",
       "\n",
       "rxNickname  ATENOLOL  AZITHROMYCIN  CARVEDILOL  CITALOPRAM    ...     \\\n",
       "id                                                            ...      \n",
       "10007101           1             1           0           0    ...      \n",
       "10007102           0             0           0           0    ...      \n",
       "\n",
       "rxNickname  ONETOUCH  PLAVIX  POTASSIUM  PRAVASTATIN  PREDNISONE  SERTRALINE  \\\n",
       "id                                                                             \n",
       "10007101           0       0          0            0           0           0   \n",
       "10007102           0       0          0            0           0           0   \n",
       "\n",
       "rxNickname  SIMVASTATIN  TRAMADOL  TRUETRACK  WARFARIN  \n",
       "id                                                      \n",
       "10007101              0         0          0         0  \n",
       "10007102              0         0          0         0  \n",
       "\n",
       "[2 rows x 45 columns]"
      ]
     },
     "execution_count": 94,
     "metadata": {},
     "output_type": "execute_result"
    }
   ],
   "source": [
    "has_drug = df_meds.loc[(y.index, feature_drugs), 'numPrescriptions'].unstack() > 0   # why so slow???\n",
    "X = has_drug.astype(int)\n",
    "print len(X), 'patients in dataset'\n",
    "X.head(2)"
   ]
  },
  {
   "cell_type": "code",
   "execution_count": 90,
   "metadata": {
    "collapsed": false
   },
   "outputs": [],
   "source": [
    "# print len(y)\n",
    "# print len(X)"
   ]
  },
  {
   "cell_type": "code",
   "execution_count": 95,
   "metadata": {
    "collapsed": true
   },
   "outputs": [],
   "source": [
    "# drop any labels not in x\n",
    "y = y[X.index]"
   ]
  },
  {
   "cell_type": "markdown",
   "metadata": {},
   "source": [
    "check: what's the predictive value of each of these drugs individually?"
   ]
  },
  {
   "cell_type": "code",
   "execution_count": 109,
   "metadata": {
    "collapsed": false
   },
   "outputs": [
    {
     "name": "stdout",
     "output_type": "stream",
     "text": [
      "on average for the most indicative drugs:\n",
      "sensitivity    10.533683\n",
      "specificity    94.145348\n"
     ]
    },
    {
     "data": {
      "image/png": "[encoded data removed]",
      "text/plain": [
       "<matplotlib.figure.Figure at 0x7f483d54b550>"
      ]
     },
     "metadata": {},
     "output_type": "display_data"
    }
   ],
   "source": [
    "sn_sp = (100. * pd.DataFrame({\n",
    "    'sensitivity': X[y==True].mean(),\n",
    "    'specificity': 1. - X[y==False].mean()       \n",
    "    }))\n",
    "\n",
    "sn_sp.loc[feature_drugs].plot.bar(figsize=(15, 4));\n",
    "plt.ylabel('%');\n",
    "\n",
    "print 'on average for the most indicative drugs:'\n",
    "print sn_sp.mean().to_string()"
   ]
  },
  {
   "cell_type": "markdown",
   "metadata": {},
   "source": [
    "> Let's see if we can have better than 11% sensitivity now that we'll be combining drugs into a feature vector"
   ]
  },
  {
   "cell_type": "markdown",
   "metadata": {},
   "source": [
    "split data into training and test sets"
   ]
  },
  {
   "cell_type": "code",
   "execution_count": 110,
   "metadata": {
    "collapsed": true
   },
   "outputs": [],
   "source": [
    "X_train, X_test, y_train, y_test = train_test_split(X, y, test_size=0.25, random_state=42)"
   ]
  },
  {
   "cell_type": "code",
   "execution_count": 111,
   "metadata": {
    "collapsed": true
   },
   "outputs": [],
   "source": [
    "X_train0, X_test0, y_train0, y_test0 = train_test_split(X_train, y_train, test_size=0.25, random_state=42)"
   ]
  },
  {
   "cell_type": "code",
   "execution_count": 112,
   "metadata": {
    "collapsed": false
   },
   "outputs": [],
   "source": [
    "# weight by inverse sample frequency\n",
    "weights = (len(y) / (y.value_counts())).to_dict()"
   ]
  },
  {
   "cell_type": "code",
   "execution_count": 113,
   "metadata": {
    "collapsed": false
   },
   "outputs": [
    {
     "data": {
      "text/plain": [
       "LogisticRegression(C=1.0,\n",
       "          class_weight={0: 1.0643156392431288, 1: 16.548317823908373},\n",
       "          dual=False, fit_intercept=True, intercept_scaling=1,\n",
       "          max_iter=100, multi_class='ovr', n_jobs=1, penalty='l2',\n",
       "          random_state=None, solver='liblinear', tol=0.0001, verbose=0,\n",
       "          warm_start=False)"
      ]
     },
     "execution_count": 113,
     "metadata": {},
     "output_type": "execute_result"
    }
   ],
   "source": [
    "est = LogisticRegression(class_weight=weights) # we'll do cross validation for other params later\n",
    "est.fit(X_train0, y_train0)"
   ]
  },
  {
   "cell_type": "code",
   "execution_count": 114,
   "metadata": {
    "collapsed": false,
    "scrolled": true
   },
   "outputs": [
    {
     "data": {
      "text/plain": [
       "0.79335537952780133"
      ]
     },
     "execution_count": 114,
     "metadata": {},
     "output_type": "execute_result"
    }
   ],
   "source": [
    "est.score(X_train0, y_train0) # mean accuracy"
   ]
  },
  {
   "cell_type": "code",
   "execution_count": 115,
   "metadata": {
    "collapsed": false
   },
   "outputs": [
    {
     "data": {
      "text/plain": [
       "0.7937716262975778"
      ]
     },
     "execution_count": 115,
     "metadata": {},
     "output_type": "execute_result"
    }
   ],
   "source": [
    "est.score(X_test0, y_test0) # mean accuracy"
   ]
  },
  {
   "cell_type": "code",
   "execution_count": 116,
   "metadata": {
    "collapsed": false
   },
   "outputs": [
    {
     "name": "stdout",
     "output_type": "stream",
     "text": [
      "true positive rate: 0.649056603774\n",
      "true negative rate: 0.803194103194\n",
      "mean accuracy: 0.793771626298\n"
     ]
    }
   ],
   "source": [
    "print 'true positive rate:', (est.predict(X_test0.loc[y_test0==True]) == 1).mean()\n",
    "print 'true negative rate:', (est.predict(X_test0.loc[y_test0==False]) == 0).mean()\n",
    "print 'mean accuracy:', np.append((est.predict(X_test0.loc[y_test0==True]) == 1), \n",
    "                                  (est.predict(X_test0.loc[y_test0==False]) == 0)).mean()  # same as est.score()"
   ]
  },
  {
   "cell_type": "markdown",
   "metadata": {},
   "source": [
    "> \n",
    "* train and test (mean) accuracy are similar, so we're probably not over or underfitting\n",
    "* should look at error vs number of training samples and vs. regularization param to know for sure\n",
    "* may want to priortize true positives (sensitivity) or true negatives (specificity), or a comprimise"
   ]
  },
  {
   "cell_type": "markdown",
   "metadata": {},
   "source": [
    "### tune model\n",
    "use cross validation to tune model for higher sensitivity (good if we're just screening patients based on their meds)"
   ]
  },
  {
   "cell_type": "code",
   "execution_count": 117,
   "metadata": {
    "collapsed": true
   },
   "outputs": [],
   "source": [
    "# following grid search example on sklearn\n",
    "# from sklearn.grid_search import GridSearchCV\n",
    "\n",
    "tuned_parameters = [{'class_weight': [{0:1, 1:1}, weights], \n",
    "                     'C': [1e-2, 1e-1, 1.0, 1e1, 1e2],\n",
    "                     'penalty': ['l1', 'l2'],\n",
    "                    }]\n",
    "score = 'recall'  # aka sensitivity"
   ]
  },
  {
   "cell_type": "code",
   "execution_count": 118,
   "metadata": {
    "collapsed": false
   },
   "outputs": [
    {
     "name": "stdout",
     "output_type": "stream",
     "text": [
      "# Tuning hyper-parameters for recall\n",
      "\n",
      "Best parameters set found on training set:\n",
      "\n",
      "LogisticRegression(C=0.01,\n",
      "          class_weight={0: 1.0643156392431288, 1: 16.548317823908373},\n",
      "          dual=False, fit_intercept=True, intercept_scaling=1,\n",
      "          max_iter=100, multi_class='ovr', n_jobs=1, penalty='l2',\n",
      "          random_state=None, solver='liblinear', tol=0.0001, verbose=0,\n",
      "          warm_start=False)\n"
     ]
    }
   ],
   "source": [
    "print(\"# Tuning hyper-parameters for %s\" % score)\n",
    "print\n",
    "\n",
    "# 5-fold cross validation\n",
    "grid = GridSearchCV(LogisticRegression(), tuned_parameters, cv=5, scoring=score)\n",
    "grid.fit(X_train, y_train)\n",
    "\n",
    "best = grid.best_estimator_\n",
    "\n",
    "print(\"Best parameters set found on training set:\")\n",
    "print\n",
    "print(best)"
   ]
  },
  {
   "cell_type": "markdown",
   "metadata": {},
   "source": [
    "## Demonstrate that the end user should be confident in the result"
   ]
  },
  {
   "cell_type": "markdown",
   "metadata": {},
   "source": [
    "do final evaluation on the holdout set"
   ]
  },
  {
   "cell_type": "code",
   "execution_count": 119,
   "metadata": {
    "collapsed": false
   },
   "outputs": [
    {
     "name": "stdout",
     "output_type": "stream",
     "text": [
      "true positive rate: 0.605263157895\n",
      "true negative rate: 0.789076866495\n",
      "mean accuracy: 0.778200692042\n"
     ]
    }
   ],
   "source": [
    "print 'true positive rate:', (best.predict(X_test.loc[y_test==True]) == 1).mean()\n",
    "print 'true negative rate:', (best.predict(X_test.loc[y_test==False]) == 0).mean()\n",
    "print 'mean accuracy:', np.append((best.predict(X_test.loc[y_test==True]) == 1), \n",
    "                                  (best.predict(X_test.loc[y_test==False]) == 0)).mean()\n",
    "# print best.score(X_test, y_test)"
   ]
  },
  {
   "cell_type": "markdown",
   "metadata": {},
   "source": [
    "> using this model the end user should expect\n",
    "* ~60% of patients with stroke to be correctly identified as (true) positive\n",
    "    * (optimization for sensitivity didn't really help here)\n",
    "* ~20% of patients with stroke to be incorrectly identified as (false) negative "
   ]
  },
  {
   "cell_type": "code",
   "execution_count": 120,
   "metadata": {
    "collapsed": false
   },
   "outputs": [
    {
     "name": "stdout",
     "output_type": "stream",
     "text": [
      "0.78947975545\n",
      "0.778200692042\n"
     ]
    }
   ],
   "source": [
    "print best.score(X_train, y_train)\n",
    "print best.score(X_test, y_test)"
   ]
  },
  {
   "cell_type": "markdown",
   "metadata": {},
   "source": [
    "> no overfitting  \n",
    "(but as mentioned, should look at error wrt number of samples, regularization param, and also our hyperparameter `qile_drug` which we set to 95% of patients with stroke)"
   ]
  },
  {
   "cell_type": "markdown",
   "metadata": {},
   "source": [
    "## Bonus: extend to other diseases"
   ]
  },
  {
   "cell_type": "code",
   "execution_count": null,
   "metadata": {
    "collapsed": true
   },
   "outputs": [],
   "source": []
  },
  {
   "cell_type": "markdown",
   "metadata": {},
   "source": [
    "## Further exploration"
   ]
  },
  {
   "cell_type": "code",
   "execution_count": null,
   "metadata": {
    "collapsed": true
   },
   "outputs": [],
   "source": []
  }
 ],
 "metadata": {
  "kernelspec": {
   "display_name": "Python 2",
   "language": "python",
   "name": "python2"
  },
  "language_info": {
   "codemirror_mode": {
    "name": "ipython",
    "version": 2
   },
   "file_extension": ".py",
   "mimetype": "text/x-python",
   "name": "python",
   "nbconvert_exporter": "python",
   "pygments_lexer": "ipython2",
   "version": "2.7.10"
  }
 },
 "nbformat": 4,
 "nbformat_minor": 0
}
