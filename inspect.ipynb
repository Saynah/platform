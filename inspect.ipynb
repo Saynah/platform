{
 "cells": [
  {
   "cell_type": "markdown",
   "metadata": {},
   "source": [
    "This notebook is basically a scratch pad.  \n",
    "\n",
    "Goal is to understand [base](#base) and [meds](#meds) data.\n",
    "\n",
    "Can come back to this as questions arise."
   ]
  },
  {
   "cell_type": "code",
   "execution_count": null,
   "metadata": {
    "collapsed": true
   },
   "outputs": [],
   "source": [
    "import pandas as pd\n",
    "import numpy as np"
   ]
  },
  {
   "cell_type": "code",
   "execution_count": 389,
   "metadata": {
    "collapsed": true
   },
   "outputs": [],
   "source": [
    "# handy for looking at uniques\n",
    "pd.set_option('display.max_colwidth', 200)\n",
    "f_unique = lambda ds: {'num_unique': ds.nunique(), 'vals_unique': ds.unique()}"
   ]
  },
  {
   "cell_type": "markdown",
   "metadata": {},
   "source": [
    "# base"
   ]
  },
  {
   "cell_type": "code",
   "execution_count": 390,
   "metadata": {
    "collapsed": false
   },
   "outputs": [
    {
     "name": "stdout",
     "output_type": "stream",
     "text": [
      "61489\n"
     ]
    },
    {
     "data": {
      "text/html": [
       "<div>\n",
       "<table border=\"1\" class=\"dataframe\">\n",
       "  <thead>\n",
       "    <tr style=\"text-align: right;\">\n",
       "      <th></th>\n",
       "      <th>id</th>\n",
       "      <th>panel</th>\n",
       "      <th>pooledWeight</th>\n",
       "      <th>age</th>\n",
       "      <th>sex</th>\n",
       "      <th>race</th>\n",
       "      <th>married</th>\n",
       "      <th>highBPDiagnosed</th>\n",
       "      <th>diabetesDiagnosed</th>\n",
       "      <th>chdDiagnosed</th>\n",
       "      <th>miDiagnosed</th>\n",
       "      <th>anginaDiagnosed</th>\n",
       "      <th>strokeDiagnosed</th>\n",
       "      <th>emphysemaDiagnosed</th>\n",
       "      <th>asthmaDiagnosed</th>\n",
       "      <th>otherHDDiagnosed</th>\n",
       "      <th>heartFailureDiagnosed</th>\n",
       "    </tr>\n",
       "  </thead>\n",
       "  <tbody>\n",
       "    <tr>\n",
       "      <th>1</th>\n",
       "      <td>10007101</td>\n",
       "      <td>15</td>\n",
       "      <td>3603.881236</td>\n",
       "      <td>28</td>\n",
       "      <td>Male</td>\n",
       "      <td>White</td>\n",
       "      <td>MARRIED</td>\n",
       "      <td>Yes</td>\n",
       "      <td>No</td>\n",
       "      <td>No</td>\n",
       "      <td>No</td>\n",
       "      <td>No</td>\n",
       "      <td>No</td>\n",
       "      <td>No</td>\n",
       "      <td>No</td>\n",
       "      <td>No</td>\n",
       "      <td>No</td>\n",
       "    </tr>\n",
       "    <tr>\n",
       "      <th>2</th>\n",
       "      <td>10007102</td>\n",
       "      <td>15</td>\n",
       "      <td>2544.550424</td>\n",
       "      <td>25</td>\n",
       "      <td>Female</td>\n",
       "      <td>White</td>\n",
       "      <td>MARRIED</td>\n",
       "      <td>No</td>\n",
       "      <td>No</td>\n",
       "      <td>No</td>\n",
       "      <td>No</td>\n",
       "      <td>No</td>\n",
       "      <td>No</td>\n",
       "      <td>No</td>\n",
       "      <td>Yes</td>\n",
       "      <td>No</td>\n",
       "      <td>No</td>\n",
       "    </tr>\n",
       "    <tr>\n",
       "      <th>3</th>\n",
       "      <td>10007103</td>\n",
       "      <td>15</td>\n",
       "      <td>4050.397468</td>\n",
       "      <td>4</td>\n",
       "      <td>Male</td>\n",
       "      <td>White</td>\n",
       "      <td>UNDER 16 - INAPPLICABLE</td>\n",
       "      <td>Inapplicable</td>\n",
       "      <td>Inapplicable</td>\n",
       "      <td>Inapplicable</td>\n",
       "      <td>Inapplicable</td>\n",
       "      <td>Inapplicable</td>\n",
       "      <td>Inapplicable</td>\n",
       "      <td>Inapplicable</td>\n",
       "      <td>No</td>\n",
       "      <td>Inapplicable</td>\n",
       "      <td>No</td>\n",
       "    </tr>\n",
       "    <tr>\n",
       "      <th>4</th>\n",
       "      <td>10007104</td>\n",
       "      <td>15</td>\n",
       "      <td>3064.059720</td>\n",
       "      <td>3</td>\n",
       "      <td>Female</td>\n",
       "      <td>White</td>\n",
       "      <td>UNDER 16 - INAPPLICABLE</td>\n",
       "      <td>Inapplicable</td>\n",
       "      <td>Inapplicable</td>\n",
       "      <td>Inapplicable</td>\n",
       "      <td>Inapplicable</td>\n",
       "      <td>Inapplicable</td>\n",
       "      <td>Inapplicable</td>\n",
       "      <td>Inapplicable</td>\n",
       "      <td>No</td>\n",
       "      <td>Inapplicable</td>\n",
       "      <td>No</td>\n",
       "    </tr>\n",
       "    <tr>\n",
       "      <th>5</th>\n",
       "      <td>10008101</td>\n",
       "      <td>15</td>\n",
       "      <td>3635.552466</td>\n",
       "      <td>51</td>\n",
       "      <td>Male</td>\n",
       "      <td>Multiple</td>\n",
       "      <td>MARRIED</td>\n",
       "      <td>No</td>\n",
       "      <td>No</td>\n",
       "      <td>No</td>\n",
       "      <td>No</td>\n",
       "      <td>No</td>\n",
       "      <td>No</td>\n",
       "      <td>No</td>\n",
       "      <td>No</td>\n",
       "      <td>No</td>\n",
       "      <td>No</td>\n",
       "    </tr>\n",
       "  </tbody>\n",
       "</table>\n",
       "</div>"
      ],
      "text/plain": [
       "         id  panel  pooledWeight  age     sex      race  \\\n",
       "1  10007101     15   3603.881236   28    Male     White   \n",
       "2  10007102     15   2544.550424   25  Female     White   \n",
       "3  10007103     15   4050.397468    4    Male     White   \n",
       "4  10007104     15   3064.059720    3  Female     White   \n",
       "5  10008101     15   3635.552466   51    Male  Multiple   \n",
       "\n",
       "                   married highBPDiagnosed diabetesDiagnosed  chdDiagnosed  \\\n",
       "1                  MARRIED             Yes                No            No   \n",
       "2                  MARRIED              No                No            No   \n",
       "3  UNDER 16 - INAPPLICABLE    Inapplicable      Inapplicable  Inapplicable   \n",
       "4  UNDER 16 - INAPPLICABLE    Inapplicable      Inapplicable  Inapplicable   \n",
       "5                  MARRIED              No                No            No   \n",
       "\n",
       "    miDiagnosed anginaDiagnosed strokeDiagnosed emphysemaDiagnosed  \\\n",
       "1            No              No              No                 No   \n",
       "2            No              No              No                 No   \n",
       "3  Inapplicable    Inapplicable    Inapplicable       Inapplicable   \n",
       "4  Inapplicable    Inapplicable    Inapplicable       Inapplicable   \n",
       "5            No              No              No                 No   \n",
       "\n",
       "  asthmaDiagnosed otherHDDiagnosed heartFailureDiagnosed  \n",
       "1              No               No                    No  \n",
       "2             Yes               No                    No  \n",
       "3              No     Inapplicable                    No  \n",
       "4              No     Inapplicable                    No  \n",
       "5              No               No                    No  "
      ]
     },
     "execution_count": 390,
     "metadata": {},
     "output_type": "execute_result"
    }
   ],
   "source": [
    "_df_base = pd.read_csv('data/meps_base_data.csv', index_col=0)\n",
    "print len(df_base)\n",
    "_df_base.head()"
   ]
  },
  {
   "cell_type": "markdown",
   "metadata": {},
   "source": [
    "> we care about patient id and \"Diagnosed data\""
   ]
  },
  {
   "cell_type": "markdown",
   "metadata": {},
   "source": [
    "ids and duplicates?"
   ]
  },
  {
   "cell_type": "code",
   "execution_count": 391,
   "metadata": {
    "collapsed": false
   },
   "outputs": [
    {
     "data": {
      "text/plain": [
       "False"
      ]
     },
     "execution_count": 391,
     "metadata": {},
     "output_type": "execute_result"
    }
   ],
   "source": [
    "_df_base.id.isnull().any()"
   ]
  },
  {
   "cell_type": "code",
   "execution_count": 392,
   "metadata": {
    "collapsed": false
   },
   "outputs": [
    {
     "data": {
      "text/plain": [
       "True"
      ]
     },
     "execution_count": 392,
     "metadata": {},
     "output_type": "execute_result"
    }
   ],
   "source": [
    "_df_base.id.is_unique"
   ]
  },
  {
   "cell_type": "code",
   "execution_count": 393,
   "metadata": {
    "collapsed": false
   },
   "outputs": [
    {
     "data": {
      "text/plain": [
       "0.0028297744311990762"
      ]
     },
     "execution_count": 393,
     "metadata": {},
     "output_type": "execute_result"
    }
   ],
   "source": [
    "_df_base.set_index('id').duplicated().any()\n",
    "_df_base.set_index('id').duplicated().mean()"
   ]
  },
  {
   "cell_type": "markdown",
   "metadata": {},
   "source": [
    "> yay. unique ids, <1% possible duplicates"
   ]
  },
  {
   "cell_type": "markdown",
   "metadata": {},
   "source": [
    "cardinality"
   ]
  },
  {
   "cell_type": "code",
   "execution_count": 394,
   "metadata": {
    "collapsed": false
   },
   "outputs": [
    {
     "data": {
      "text/html": [
       "<div>\n",
       "<table border=\"1\" class=\"dataframe\">\n",
       "  <thead>\n",
       "    <tr style=\"text-align: right;\">\n",
       "      <th></th>\n",
       "      <th>num_unique</th>\n",
       "      <th>vals_unique</th>\n",
       "    </tr>\n",
       "  </thead>\n",
       "  <tbody>\n",
       "    <tr>\n",
       "      <th>id</th>\n",
       "      <td>61489</td>\n",
       "      <td>[10007101, 10007102, 10007103, 10007104, 10008101, 10008102, 10008103, 10009101, 10012101, 10012102, 10014101, 10014102, 10014103, 10016101, 10016102, 10016103, 10016104, 10016105, 10016106, 10017...</td>\n",
       "    </tr>\n",
       "    <tr>\n",
       "      <th>panel</th>\n",
       "      <td>4</td>\n",
       "      <td>[15, 14, 13, 12]</td>\n",
       "    </tr>\n",
       "    <tr>\n",
       "      <th>pooledWeight</th>\n",
       "      <td>60600</td>\n",
       "      <td>[3603.88123575, 2544.55042425, 4050.39746775, 3064.05971975, 3635.55246625, 4367.81625275, 3342.31650375, 6241.9382795, 9143.332918, 10168.118988, 3392.3308015, 4613.563478, 3513.66099225, 2743.57...</td>\n",
       "    </tr>\n",
       "    <tr>\n",
       "      <th>age</th>\n",
       "      <td>87</td>\n",
       "      <td>[28, 25, 4, 3, 51, 53, 12, 61, 79, 75, 33, 29, 2, 26, 27, 8, 5, -1, 67, 49, 68, 56, 22, 54, 19, 0, 24, 21, 23, 31, 45, 15, 10, 6, 57, 20, 69, 43, 42, 16, 13, 17, 62, 46, 64, 37, 38, 44, 66, 58, 18...</td>\n",
       "    </tr>\n",
       "    <tr>\n",
       "      <th>sex</th>\n",
       "      <td>2</td>\n",
       "      <td>[Male, Female]</td>\n",
       "    </tr>\n",
       "    <tr>\n",
       "      <th>race</th>\n",
       "      <td>6</td>\n",
       "      <td>[White, Multiple, Asian, Black, Native Hawaiian/Pacific Islander, Amer Indian/Alaska Native]</td>\n",
       "    </tr>\n",
       "    <tr>\n",
       "      <th>married</th>\n",
       "      <td>11</td>\n",
       "      <td>[MARRIED, UNDER 16 - INAPPLICABLE, NEVER MARRIED, INAPPLICABLE, DIVORCED, WIDOWED, DIVORCED IN ROUND, MARRIED IN ROUND, SEPARATED, SEPARATED IN ROUND, WIDOWED IN ROUND]</td>\n",
       "    </tr>\n",
       "    <tr>\n",
       "      <th>highBPDiagnosed</th>\n",
       "      <td>6</td>\n",
       "      <td>[Yes, No, Inapplicable, DK, not ascertained, Refused]</td>\n",
       "    </tr>\n",
       "    <tr>\n",
       "      <th>diabetesDiagnosed</th>\n",
       "      <td>6</td>\n",
       "      <td>[No, Inapplicable, Yes, DK, not ascertained, Refused]</td>\n",
       "    </tr>\n",
       "    <tr>\n",
       "      <th>chdDiagnosed</th>\n",
       "      <td>6</td>\n",
       "      <td>[No, Inapplicable, Yes, DK, not ascertained, Refused]</td>\n",
       "    </tr>\n",
       "    <tr>\n",
       "      <th>miDiagnosed</th>\n",
       "      <td>6</td>\n",
       "      <td>[No, Inapplicable, Yes, DK, not ascertained, Refused]</td>\n",
       "    </tr>\n",
       "    <tr>\n",
       "      <th>anginaDiagnosed</th>\n",
       "      <td>6</td>\n",
       "      <td>[No, Inapplicable, Yes, DK, Refused, not ascertained]</td>\n",
       "    </tr>\n",
       "    <tr>\n",
       "      <th>strokeDiagnosed</th>\n",
       "      <td>6</td>\n",
       "      <td>[No, Inapplicable, Yes, DK, not ascertained, Refused]</td>\n",
       "    </tr>\n",
       "    <tr>\n",
       "      <th>emphysemaDiagnosed</th>\n",
       "      <td>6</td>\n",
       "      <td>[No, Inapplicable, Yes, DK, not ascertained, Refused]</td>\n",
       "    </tr>\n",
       "    <tr>\n",
       "      <th>asthmaDiagnosed</th>\n",
       "      <td>6</td>\n",
       "      <td>[No, Yes, Inapplicable, DK, Refused, not ascertained]</td>\n",
       "    </tr>\n",
       "    <tr>\n",
       "      <th>otherHDDiagnosed</th>\n",
       "      <td>6</td>\n",
       "      <td>[No, Inapplicable, Yes, DK, not ascertained, Refused]</td>\n",
       "    </tr>\n",
       "    <tr>\n",
       "      <th>heartFailureDiagnosed</th>\n",
       "      <td>2</td>\n",
       "      <td>[No, Yes]</td>\n",
       "    </tr>\n",
       "  </tbody>\n",
       "</table>\n",
       "</div>"
      ],
      "text/plain": [
       "                       num_unique  \\\n",
       "id                          61489   \n",
       "panel                           4   \n",
       "pooledWeight                60600   \n",
       "age                            87   \n",
       "sex                             2   \n",
       "race                            6   \n",
       "married                        11   \n",
       "highBPDiagnosed                 6   \n",
       "diabetesDiagnosed               6   \n",
       "chdDiagnosed                    6   \n",
       "miDiagnosed                     6   \n",
       "anginaDiagnosed                 6   \n",
       "strokeDiagnosed                 6   \n",
       "emphysemaDiagnosed              6   \n",
       "asthmaDiagnosed                 6   \n",
       "otherHDDiagnosed                6   \n",
       "heartFailureDiagnosed           2   \n",
       "\n",
       "                                                                                                                                                                                                                   vals_unique  \n",
       "id                     [10007101, 10007102, 10007103, 10007104, 10008101, 10008102, 10008103, 10009101, 10012101, 10012102, 10014101, 10014102, 10014103, 10016101, 10016102, 10016103, 10016104, 10016105, 10016106, 10017...  \n",
       "panel                                                                                                                                                                                                         [15, 14, 13, 12]  \n",
       "pooledWeight           [3603.88123575, 2544.55042425, 4050.39746775, 3064.05971975, 3635.55246625, 4367.81625275, 3342.31650375, 6241.9382795, 9143.332918, 10168.118988, 3392.3308015, 4613.563478, 3513.66099225, 2743.57...  \n",
       "age                    [28, 25, 4, 3, 51, 53, 12, 61, 79, 75, 33, 29, 2, 26, 27, 8, 5, -1, 67, 49, 68, 56, 22, 54, 19, 0, 24, 21, 23, 31, 45, 15, 10, 6, 57, 20, 69, 43, 42, 16, 13, 17, 62, 46, 64, 37, 38, 44, 66, 58, 18...  \n",
       "sex                                                                                                                                                                                                             [Male, Female]  \n",
       "race                                                                                                                              [White, Multiple, Asian, Black, Native Hawaiian/Pacific Islander, Amer Indian/Alaska Native]  \n",
       "married                                               [MARRIED, UNDER 16 - INAPPLICABLE, NEVER MARRIED, INAPPLICABLE, DIVORCED, WIDOWED, DIVORCED IN ROUND, MARRIED IN ROUND, SEPARATED, SEPARATED IN ROUND, WIDOWED IN ROUND]  \n",
       "highBPDiagnosed                                                                                                                                                          [Yes, No, Inapplicable, DK, not ascertained, Refused]  \n",
       "diabetesDiagnosed                                                                                                                                                        [No, Inapplicable, Yes, DK, not ascertained, Refused]  \n",
       "chdDiagnosed                                                                                                                                                             [No, Inapplicable, Yes, DK, not ascertained, Refused]  \n",
       "miDiagnosed                                                                                                                                                              [No, Inapplicable, Yes, DK, not ascertained, Refused]  \n",
       "anginaDiagnosed                                                                                                                                                          [No, Inapplicable, Yes, DK, Refused, not ascertained]  \n",
       "strokeDiagnosed                                                                                                                                                          [No, Inapplicable, Yes, DK, not ascertained, Refused]  \n",
       "emphysemaDiagnosed                                                                                                                                                       [No, Inapplicable, Yes, DK, not ascertained, Refused]  \n",
       "asthmaDiagnosed                                                                                                                                                          [No, Yes, Inapplicable, DK, Refused, not ascertained]  \n",
       "otherHDDiagnosed                                                                                                                                                         [No, Inapplicable, Yes, DK, not ascertained, Refused]  \n",
       "heartFailureDiagnosed                                                                                                                                                                                                [No, Yes]  "
      ]
     },
     "execution_count": 394,
     "metadata": {},
     "output_type": "execute_result"
    }
   ],
   "source": [
    "_df_base.apply(f_unique).apply(pd.Series)"
   ]
  },
  {
   "cell_type": "markdown",
   "metadata": {},
   "source": [
    "> Have to deal diagnosis data. Strange that only heart failure has only yes/no"
   ]
  },
  {
   "cell_type": "markdown",
   "metadata": {},
   "source": [
    "##### Prep diagnosis data\n",
    "We want yes, no, or NaN"
   ]
  },
  {
   "cell_type": "code",
   "execution_count": 395,
   "metadata": {
    "collapsed": false
   },
   "outputs": [
    {
     "name": "stdout",
     "output_type": "stream",
     "text": [
      "['highBPDiagnosed', 'diabetesDiagnosed', 'chdDiagnosed', 'miDiagnosed', 'anginaDiagnosed', 'strokeDiagnosed', 'emphysemaDiagnosed', 'asthmaDiagnosed', 'otherHDDiagnosed', 'heartFailureDiagnosed']\n"
     ]
    }
   ],
   "source": [
    "COLS_DX = _df_base.columns[_df_base.columns.str.endswith('Diagnosed')].tolist()\n",
    "print COLS_DX"
   ]
  },
  {
   "cell_type": "code",
   "execution_count": 396,
   "metadata": {
    "collapsed": true
   },
   "outputs": [],
   "source": [
    "df_dx = (_df_base\n",
    "        .loc[:, COLS_DX]\n",
    "        .replace(['Inapplicable', 'DK', 'Refused', 'not ascertained'], np.nan)\n",
    "        .replace('Yes', True)\n",
    "        .replace('No', False)\n",
    "        )\n",
    "\n",
    "df_base = _df_base.copy()\n",
    "df_base.loc[:, COLS_DX] = df_dx"
   ]
  },
  {
   "cell_type": "code",
   "execution_count": 403,
   "metadata": {
    "collapsed": false
   },
   "outputs": [
    {
     "data": {
      "text/plain": [
       "True"
      ]
     },
     "execution_count": 403,
     "metadata": {},
     "output_type": "execute_result"
    }
   ],
   "source": [
    "######## move stuff to module once I want to use it elsewhere\n",
    "from source.helpers import load_base_data, COLS_DX\n",
    "\n",
    "# (df_base.fillna('') == load_base_data().fillna('')).all().all()\n",
    "(df_base.fillna('') == load_base_data(minors=True).fillna('')).all().all()"
   ]
  },
  {
   "cell_type": "markdown",
   "metadata": {},
   "source": [
    "### further exploration..."
   ]
  },
  {
   "cell_type": "markdown",
   "metadata": {},
   "source": [
    "demographics"
   ]
  },
  {
   "cell_type": "code",
   "execution_count": 58,
   "metadata": {
    "collapsed": false,
    "scrolled": true
   },
   "outputs": [
    {
     "data": {
      "text/plain": [
       "<matplotlib.axes._subplots.AxesSubplot at 0x10ac6bcd0>"
      ]
     },
     "execution_count": 58,
     "metadata": {},
     "output_type": "execute_result"
    },
    {
     "data": {
      "image/png": "[encoded data removed]",
      "text/plain": [
       "<matplotlib.figure.Figure at 0x10ac6b3d0>"
      ]
     },
     "metadata": {},
     "output_type": "display_data"
    }
   ],
   "source": [
    "_df_base.age.hist()"
   ]
  },
  {
   "cell_type": "markdown",
   "metadata": {},
   "source": [
    "> more young people than expected"
   ]
  },
  {
   "cell_type": "code",
   "execution_count": 59,
   "metadata": {
    "collapsed": false
   },
   "outputs": [
    {
     "data": {
      "image/png": "[encoded data removed]",
      "text/plain": [
       "<matplotlib.figure.Figure at 0x10ac5d890>"
      ]
     },
     "metadata": {},
     "output_type": "display_data"
    }
   ],
   "source": [
    "_df_base.pooledWeight.hist(bins=100);"
   ]
  },
  {
   "cell_type": "code",
   "execution_count": 60,
   "metadata": {
    "collapsed": false
   },
   "outputs": [
    {
     "data": {
      "image/png": "[encoded data removed]",
      "text/plain": [
       "<matplotlib.figure.Figure at 0x10b1fd690>"
      ]
     },
     "metadata": {},
     "output_type": "display_data"
    }
   ],
   "source": [
    "_df_base.plot.scatter('age', 'pooledWeight', alpha=0.05);"
   ]
  },
  {
   "cell_type": "markdown",
   "metadata": {},
   "source": [
    "> doesn't look like body weight. Hmm"
   ]
  },
  {
   "cell_type": "code",
   "execution_count": 61,
   "metadata": {
    "collapsed": false
   },
   "outputs": [
    {
     "data": {
      "text/plain": [
       "array([15, 14, 13, 12])"
      ]
     },
     "execution_count": 61,
     "metadata": {},
     "output_type": "execute_result"
    }
   ],
   "source": [
    "_df_base.panel.unique()"
   ]
  },
  {
   "cell_type": "markdown",
   "metadata": {},
   "source": [
    "> ?"
   ]
  },
  {
   "cell_type": "markdown",
   "metadata": {},
   "source": [
    "Disease diagnosis"
   ]
  },
  {
   "cell_type": "code",
   "execution_count": 62,
   "metadata": {
    "collapsed": false
   },
   "outputs": [
    {
     "data": {
      "text/plain": [
       "No                 431619\n",
       "Inapplicable       147195\n",
       "Yes                 35735\n",
       "DK                    237\n",
       "not ascertained        57\n",
       "Refused                47\n",
       "dtype: int64"
      ]
     },
     "execution_count": 62,
     "metadata": {},
     "output_type": "execute_result"
    }
   ],
   "source": [
    "_df_base[COLS_DX].stack().value_counts()"
   ]
  },
  {
   "cell_type": "markdown",
   "metadata": {},
   "source": [
    "> Why so many \"Inapplicable\"?"
   ]
  },
  {
   "cell_type": "code",
   "execution_count": 63,
   "metadata": {
    "collapsed": false
   },
   "outputs": [
    {
     "data": {
      "image/png": "[encoded data removed]",
      "text/plain": [
       "<matplotlib.figure.Figure at 0x10b8df710>"
      ]
     },
     "metadata": {},
     "output_type": "display_data"
    }
   ],
   "source": [
    "# pattern in diagnosis across all diseases?\n",
    "# (_df_base[COLS_DX] == 'Yes').sum(axis=1).hist()\n",
    "(_df_base[COLS_DX] == 'No').sum(axis=1).hist()\n",
    "(_df_base[COLS_DX] == 'Inapplicable').sum(axis=1).hist()\n",
    "plt.legend(['Negative', 'Inapplicable'])\n",
    "plt.xlabel('num diseases');"
   ]
  },
  {
   "cell_type": "markdown",
   "metadata": {},
   "source": [
    "> 2 populations!"
   ]
  },
  {
   "cell_type": "code",
   "execution_count": 64,
   "metadata": {
    "collapsed": false
   },
   "outputs": [
    {
     "data": {
      "text/html": [
       "<div>\n",
       "<table border=\"1\" class=\"dataframe\">\n",
       "  <thead>\n",
       "    <tr style=\"text-align: right;\">\n",
       "      <th></th>\n",
       "      <th>id</th>\n",
       "      <th>panel</th>\n",
       "      <th>pooledWeight</th>\n",
       "      <th>age</th>\n",
       "      <th>sex</th>\n",
       "      <th>race</th>\n",
       "      <th>married</th>\n",
       "      <th>highBPDiagnosed</th>\n",
       "      <th>diabetesDiagnosed</th>\n",
       "      <th>chdDiagnosed</th>\n",
       "      <th>miDiagnosed</th>\n",
       "      <th>anginaDiagnosed</th>\n",
       "      <th>strokeDiagnosed</th>\n",
       "      <th>emphysemaDiagnosed</th>\n",
       "      <th>asthmaDiagnosed</th>\n",
       "      <th>otherHDDiagnosed</th>\n",
       "      <th>heartFailureDiagnosed</th>\n",
       "    </tr>\n",
       "  </thead>\n",
       "  <tbody>\n",
       "    <tr>\n",
       "      <th>3</th>\n",
       "      <td>10007103</td>\n",
       "      <td>15</td>\n",
       "      <td>4050.397468</td>\n",
       "      <td>4</td>\n",
       "      <td>Male</td>\n",
       "      <td>White</td>\n",
       "      <td>UNDER 16 - INAPPLICABLE</td>\n",
       "      <td>Inapplicable</td>\n",
       "      <td>Inapplicable</td>\n",
       "      <td>Inapplicable</td>\n",
       "      <td>Inapplicable</td>\n",
       "      <td>Inapplicable</td>\n",
       "      <td>Inapplicable</td>\n",
       "      <td>Inapplicable</td>\n",
       "      <td>No</td>\n",
       "      <td>Inapplicable</td>\n",
       "      <td>No</td>\n",
       "    </tr>\n",
       "    <tr>\n",
       "      <th>4</th>\n",
       "      <td>10007104</td>\n",
       "      <td>15</td>\n",
       "      <td>3064.059720</td>\n",
       "      <td>3</td>\n",
       "      <td>Female</td>\n",
       "      <td>White</td>\n",
       "      <td>UNDER 16 - INAPPLICABLE</td>\n",
       "      <td>Inapplicable</td>\n",
       "      <td>Inapplicable</td>\n",
       "      <td>Inapplicable</td>\n",
       "      <td>Inapplicable</td>\n",
       "      <td>Inapplicable</td>\n",
       "      <td>Inapplicable</td>\n",
       "      <td>Inapplicable</td>\n",
       "      <td>No</td>\n",
       "      <td>Inapplicable</td>\n",
       "      <td>No</td>\n",
       "    </tr>\n",
       "    <tr>\n",
       "      <th>7</th>\n",
       "      <td>10008103</td>\n",
       "      <td>15</td>\n",
       "      <td>3342.316504</td>\n",
       "      <td>12</td>\n",
       "      <td>Female</td>\n",
       "      <td>Asian</td>\n",
       "      <td>UNDER 16 - INAPPLICABLE</td>\n",
       "      <td>Inapplicable</td>\n",
       "      <td>Inapplicable</td>\n",
       "      <td>Inapplicable</td>\n",
       "      <td>Inapplicable</td>\n",
       "      <td>Inapplicable</td>\n",
       "      <td>Inapplicable</td>\n",
       "      <td>Inapplicable</td>\n",
       "      <td>No</td>\n",
       "      <td>Inapplicable</td>\n",
       "      <td>No</td>\n",
       "    </tr>\n",
       "    <tr>\n",
       "      <th>13</th>\n",
       "      <td>10014103</td>\n",
       "      <td>15</td>\n",
       "      <td>3513.660992</td>\n",
       "      <td>2</td>\n",
       "      <td>Male</td>\n",
       "      <td>White</td>\n",
       "      <td>UNDER 16 - INAPPLICABLE</td>\n",
       "      <td>Inapplicable</td>\n",
       "      <td>Inapplicable</td>\n",
       "      <td>Inapplicable</td>\n",
       "      <td>Inapplicable</td>\n",
       "      <td>Inapplicable</td>\n",
       "      <td>Inapplicable</td>\n",
       "      <td>Inapplicable</td>\n",
       "      <td>No</td>\n",
       "      <td>Inapplicable</td>\n",
       "      <td>No</td>\n",
       "    </tr>\n",
       "    <tr>\n",
       "      <th>16</th>\n",
       "      <td>10016103</td>\n",
       "      <td>15</td>\n",
       "      <td>3413.110979</td>\n",
       "      <td>8</td>\n",
       "      <td>Female</td>\n",
       "      <td>Multiple</td>\n",
       "      <td>UNDER 16 - INAPPLICABLE</td>\n",
       "      <td>Inapplicable</td>\n",
       "      <td>Inapplicable</td>\n",
       "      <td>Inapplicable</td>\n",
       "      <td>Inapplicable</td>\n",
       "      <td>Inapplicable</td>\n",
       "      <td>Inapplicable</td>\n",
       "      <td>Inapplicable</td>\n",
       "      <td>No</td>\n",
       "      <td>Inapplicable</td>\n",
       "      <td>No</td>\n",
       "    </tr>\n",
       "  </tbody>\n",
       "</table>\n",
       "</div>"
      ],
      "text/plain": [
       "          id  panel  pooledWeight  age     sex      race  \\\n",
       "3   10007103     15   4050.397468    4    Male     White   \n",
       "4   10007104     15   3064.059720    3  Female     White   \n",
       "7   10008103     15   3342.316504   12  Female     Asian   \n",
       "13  10014103     15   3513.660992    2    Male     White   \n",
       "16  10016103     15   3413.110979    8  Female  Multiple   \n",
       "\n",
       "                    married highBPDiagnosed diabetesDiagnosed  chdDiagnosed  \\\n",
       "3   UNDER 16 - INAPPLICABLE    Inapplicable      Inapplicable  Inapplicable   \n",
       "4   UNDER 16 - INAPPLICABLE    Inapplicable      Inapplicable  Inapplicable   \n",
       "7   UNDER 16 - INAPPLICABLE    Inapplicable      Inapplicable  Inapplicable   \n",
       "13  UNDER 16 - INAPPLICABLE    Inapplicable      Inapplicable  Inapplicable   \n",
       "16  UNDER 16 - INAPPLICABLE    Inapplicable      Inapplicable  Inapplicable   \n",
       "\n",
       "     miDiagnosed anginaDiagnosed strokeDiagnosed emphysemaDiagnosed  \\\n",
       "3   Inapplicable    Inapplicable    Inapplicable       Inapplicable   \n",
       "4   Inapplicable    Inapplicable    Inapplicable       Inapplicable   \n",
       "7   Inapplicable    Inapplicable    Inapplicable       Inapplicable   \n",
       "13  Inapplicable    Inapplicable    Inapplicable       Inapplicable   \n",
       "16  Inapplicable    Inapplicable    Inapplicable       Inapplicable   \n",
       "\n",
       "   asthmaDiagnosed otherHDDiagnosed heartFailureDiagnosed  \n",
       "3               No     Inapplicable                    No  \n",
       "4               No     Inapplicable                    No  \n",
       "7               No     Inapplicable                    No  \n",
       "13              No     Inapplicable                    No  \n",
       "16              No     Inapplicable                    No  "
      ]
     },
     "execution_count": 64,
     "metadata": {},
     "output_type": "execute_result"
    }
   ],
   "source": [
    "_df_base[((_df_base[COLS_DX] == 'Inapplicable').sum(axis=1) == 8)].head()"
   ]
  },
  {
   "cell_type": "code",
   "execution_count": 65,
   "metadata": {
    "collapsed": false
   },
   "outputs": [
    {
     "data": {
      "text/plain": [
       "17"
      ]
     },
     "execution_count": 65,
     "metadata": {},
     "output_type": "execute_result"
    },
    {
     "data": {
      "image/png": "[encoded data removed]",
      "text/plain": [
       "<matplotlib.figure.Figure at 0x10ad41710>"
      ]
     },
     "metadata": {},
     "output_type": "display_data"
    }
   ],
   "source": [
    "_df_base[((_df_base[COLS_DX] == 'Inapplicable').sum(axis=1) == 8)].age.hist()\n",
    "_df_base[((_df_base[COLS_DX] == 'Inapplicable').sum(axis=1) == 8)].age.max()"
   ]
  },
  {
   "cell_type": "markdown",
   "metadata": {},
   "source": [
    "> ah! patients under 18"
   ]
  },
  {
   "cell_type": "code",
   "execution_count": 66,
   "metadata": {
    "collapsed": false
   },
   "outputs": [
    {
     "data": {
      "image/png": "[encoded data removed]",
      "text/plain": [
       "<matplotlib.figure.Figure at 0x10d479790>"
      ]
     },
     "metadata": {},
     "output_type": "display_data"
    }
   ],
   "source": [
    "_df_base.loc[_df_base.age < 18, COLS_DX].apply(pd.value_counts).T.plot.barh(stacked=True)\n",
    "plt.legend(loc='center left', bbox_to_anchor=(1,0.5));"
   ]
  },
  {
   "cell_type": "code",
   "execution_count": 67,
   "metadata": {
    "collapsed": false
   },
   "outputs": [
    {
     "data": {
      "image/png": "[encoded data removed]",
      "text/plain": [
       "<matplotlib.figure.Figure at 0x10d783dd0>"
      ]
     },
     "metadata": {},
     "output_type": "display_data"
    }
   ],
   "source": [
    "_df_base.loc[_df_base.age >= 18, COLS_DX].apply(pd.value_counts).T.plot.barh(stacked=True)\n",
    "plt.legend(loc='center left', bbox_to_anchor=(1,0.5));"
   ]
  },
  {
   "cell_type": "markdown",
   "metadata": {},
   "source": [
    "> prob want to exclude minors unless working with athsma or heart failure"
   ]
  },
  {
   "cell_type": "code",
   "execution_count": 74,
   "metadata": {
    "collapsed": true
   },
   "outputs": [],
   "source": [
    "######## update my module\n",
    "df_base = load_base_data(minors=False)"
   ]
  },
  {
   "cell_type": "code",
   "execution_count": 72,
   "metadata": {
    "collapsed": false
   },
   "outputs": [
    {
     "data": {
      "text/plain": [
       "18"
      ]
     },
     "execution_count": 72,
     "metadata": {},
     "output_type": "execute_result"
    }
   ],
   "source": [
    "df_base.age.min()"
   ]
  },
  {
   "cell_type": "code",
   "execution_count": 73,
   "metadata": {
    "collapsed": false
   },
   "outputs": [
    {
     "data": {
      "text/plain": [
       "{False, True, nan}"
      ]
     },
     "execution_count": 73,
     "metadata": {},
     "output_type": "execute_result"
    }
   ],
   "source": [
    "set(df_base[COLS_DX].values.ravel())"
   ]
  },
  {
   "cell_type": "markdown",
   "metadata": {},
   "source": [
    "> data prep summary\n",
    "* looks like one row per patient\n",
    "* could potentially have some duplicates (<1%)\n",
    "* not sure what `panel` or `pooledWeight` mean\n",
    "* Threw out diagnoses besides Yes / No\n",
    "* option to throw out data from minors (lots of \"Inapplicable\" values)"
   ]
  },
  {
   "cell_type": "markdown",
   "metadata": {},
   "source": [
    "## meds"
   ]
  },
  {
   "cell_type": "code",
   "execution_count": 86,
   "metadata": {
    "collapsed": false
   },
   "outputs": [
    {
     "name": "stdout",
     "output_type": "stream",
     "text": [
      "1148347\n"
     ]
    },
    {
     "data": {
      "text/html": [
       "<div>\n",
       "<table border=\"1\" class=\"dataframe\">\n",
       "  <thead>\n",
       "    <tr style=\"text-align: right;\">\n",
       "      <th></th>\n",
       "      <th>id</th>\n",
       "      <th>rxStartMonth</th>\n",
       "      <th>rxStartYear</th>\n",
       "      <th>rxName</th>\n",
       "      <th>rxNDC</th>\n",
       "      <th>rxQuantity</th>\n",
       "      <th>rxForm</th>\n",
       "    </tr>\n",
       "  </thead>\n",
       "  <tbody>\n",
       "    <tr>\n",
       "      <th>1</th>\n",
       "      <td>10007104</td>\n",
       "      <td>3</td>\n",
       "      <td>2011</td>\n",
       "      <td>AMOXICILLIN</td>\n",
       "      <td>143988775</td>\n",
       "      <td>75.0</td>\n",
       "      <td>SUSR</td>\n",
       "    </tr>\n",
       "    <tr>\n",
       "      <th>2</th>\n",
       "      <td>10007104</td>\n",
       "      <td>3</td>\n",
       "      <td>2011</td>\n",
       "      <td>OTIC EDGE SOLUTION</td>\n",
       "      <td>68032032814</td>\n",
       "      <td>14.0</td>\n",
       "      <td>SOL</td>\n",
       "    </tr>\n",
       "    <tr>\n",
       "      <th>3</th>\n",
       "      <td>10008102</td>\n",
       "      <td>3</td>\n",
       "      <td>2011</td>\n",
       "      <td>NASAL DECONGESTANT 0.05% SPRAY</td>\n",
       "      <td>63981056903</td>\n",
       "      <td>15.0</td>\n",
       "      <td>SPR</td>\n",
       "    </tr>\n",
       "    <tr>\n",
       "      <th>4</th>\n",
       "      <td>10008102</td>\n",
       "      <td>3</td>\n",
       "      <td>2011</td>\n",
       "      <td>NASAL DECONGESTANT 0.05% SPRAY</td>\n",
       "      <td>63981056903</td>\n",
       "      <td>15.0</td>\n",
       "      <td>SPR</td>\n",
       "    </tr>\n",
       "    <tr>\n",
       "      <th>5</th>\n",
       "      <td>10008102</td>\n",
       "      <td>9</td>\n",
       "      <td>2011</td>\n",
       "      <td>DIPHENHYDRAM</td>\n",
       "      <td>603333921</td>\n",
       "      <td>30.0</td>\n",
       "      <td>CAP</td>\n",
       "    </tr>\n",
       "  </tbody>\n",
       "</table>\n",
       "</div>"
      ],
      "text/plain": [
       "         id  rxStartMonth  rxStartYear                          rxName  \\\n",
       "1  10007104             3         2011                     AMOXICILLIN   \n",
       "2  10007104             3         2011              OTIC EDGE SOLUTION   \n",
       "3  10008102             3         2011  NASAL DECONGESTANT 0.05% SPRAY   \n",
       "4  10008102             3         2011  NASAL DECONGESTANT 0.05% SPRAY   \n",
       "5  10008102             9         2011                    DIPHENHYDRAM   \n",
       "\n",
       "         rxNDC  rxQuantity rxForm  \n",
       "1    143988775        75.0   SUSR  \n",
       "2  68032032814        14.0    SOL  \n",
       "3  63981056903        15.0    SPR  \n",
       "4  63981056903        15.0    SPR  \n",
       "5    603333921        30.0    CAP  "
      ]
     },
     "execution_count": 86,
     "metadata": {},
     "output_type": "execute_result"
    }
   ],
   "source": [
    "_df_meds = pd.read_csv('data/meps_meds.csv', index_col=0)\n",
    "print len(_df_meds)\n",
    "_df_meds.head()"
   ]
  },
  {
   "cell_type": "markdown",
   "metadata": {},
   "source": [
    "> \n",
    "* \\>20x more meds data than patient data\n",
    "* looks like duplicates, or multiple prescriptions per drug per patient"
   ]
  },
  {
   "cell_type": "markdown",
   "metadata": {},
   "source": [
    "patient id?"
   ]
  },
  {
   "cell_type": "code",
   "execution_count": 88,
   "metadata": {
    "collapsed": false
   },
   "outputs": [
    {
     "data": {
      "text/plain": [
       "True"
      ]
     },
     "execution_count": 88,
     "metadata": {},
     "output_type": "execute_result"
    }
   ],
   "source": [
    "_df_meds.id.isin(_df_base.id).all()"
   ]
  },
  {
   "cell_type": "code",
   "execution_count": 89,
   "metadata": {
    "collapsed": false
   },
   "outputs": [
    {
     "data": {
      "text/plain": [
       "False"
      ]
     },
     "execution_count": 89,
     "metadata": {},
     "output_type": "execute_result"
    }
   ],
   "source": [
    "_df_base.id.isin(_df_meds.id).all()"
   ]
  },
  {
   "cell_type": "code",
   "execution_count": 90,
   "metadata": {
    "collapsed": false
   },
   "outputs": [
    {
     "data": {
      "text/plain": [
       "0.67951991413098278"
      ]
     },
     "execution_count": 90,
     "metadata": {},
     "output_type": "execute_result"
    }
   ],
   "source": [
    "_df_base.id.isin(_df_meds.id).mean()"
   ]
  },
  {
   "cell_type": "markdown",
   "metadata": {},
   "source": [
    "> \n",
    "* all patients id meds also in base\n",
    "* most patients in base also in meds"
   ]
  },
  {
   "cell_type": "markdown",
   "metadata": {},
   "source": [
    "cardinality"
   ]
  },
  {
   "cell_type": "code",
   "execution_count": 322,
   "metadata": {
    "collapsed": false
   },
   "outputs": [
    {
     "data": {
      "text/html": [
       "<div>\n",
       "<table border=\"1\" class=\"dataframe\">\n",
       "  <thead>\n",
       "    <tr style=\"text-align: right;\">\n",
       "      <th></th>\n",
       "      <th>num_unique</th>\n",
       "      <th>vals_unique</th>\n",
       "    </tr>\n",
       "  </thead>\n",
       "  <tbody>\n",
       "    <tr>\n",
       "      <th>id</th>\n",
       "      <td>41783</td>\n",
       "      <td>[10007104, 10008102, 10012101, 10012102, 10014102, 10016102, 10016104, 10016105, 10016106, 10017101, 10019101, 10019102, 10021103, 10026101, 10026102, 10030101, 10030102, 10030103, 10030104, 10033...</td>\n",
       "    </tr>\n",
       "    <tr>\n",
       "      <th>rxStartMonth</th>\n",
       "      <td>16</td>\n",
       "      <td>[3, 9, -1, 11, 5, 6, 8, 10, -8, 1, 4, 2, 12, 7, -9, -7]</td>\n",
       "    </tr>\n",
       "    <tr>\n",
       "      <th>rxStartYear</th>\n",
       "      <td>74</td>\n",
       "      <td>[2011, 2005, 2003, -8, 2004, 2010, 2008, 1997, 1998, 1999, 2007, 2006, 2009, 1982, 1984, 1996, 2002, 1987, 1995, 2001, 2000, -9, 1990, 1989, 1991, 1992, 1993, 1978, 1986, 1994, -14, 1985, 1980, 19...</td>\n",
       "    </tr>\n",
       "    <tr>\n",
       "      <th>rxName</th>\n",
       "      <td>9218</td>\n",
       "      <td>[AMOXICILLIN, OTIC EDGE SOLUTION, NASAL DECONGESTANT 0.05% SPRAY, DIPHENHYDRAM, CHLD ALLERGY, COMBIVENT, DIGOXIN, LORAZEPAM, XOPENEX, SIMVASTATIN, HYDROCHLOROT, CARVEDILOL, ZOLPIDEM, MORPHINE SUL,...</td>\n",
       "    </tr>\n",
       "    <tr>\n",
       "      <th>rxNDC</th>\n",
       "      <td>28736</td>\n",
       "      <td>[143988775, 68032032814, 63981056903, 603333921, 24385037926, 597001314, 115981101, 591024105, 63402051324, 16714068501, 172208380, 591024110, 603385632, 93013501, 16714062202, 60951065270, 681800...</td>\n",
       "    </tr>\n",
       "    <tr>\n",
       "      <th>rxQuantity</th>\n",
       "      <td>606</td>\n",
       "      <td>[75.0, 14.0, 15.0, 30.0, 100.0, 45.0, 90.0, 270.0, 828.0, 180.0, 60.0, 120.0, 56.0, 6.0, 1.0, 20.0, 10.0, 240.0, 12.0, 150.0, 473.0, 70.0, 34.0, 42.0, 200.0, 50.0, 37.0, 115.0, 38.0, 360.0, 5.0, 1...</td>\n",
       "    </tr>\n",
       "    <tr>\n",
       "      <th>rxForm</th>\n",
       "      <td>328</td>\n",
       "      <td>[SUSR, SOL, SPR, CAP, LIQD, AERO, TABS, NEBU, TB12, CAPS, PT24, TAB, TBCR, CPDR, CUTTER, SUSP, TBDP, ELIX, LIQ, SUS, AEPB, MISC, CRE, OINT, IN, INJ, TB24, STA, POW, TA, SOLN, Eye drops, TBEC, DEVI...</td>\n",
       "    </tr>\n",
       "  </tbody>\n",
       "</table>\n",
       "</div>"
      ],
      "text/plain": [
       "              num_unique  \\\n",
       "id                 41783   \n",
       "rxStartMonth          16   \n",
       "rxStartYear           74   \n",
       "rxName              9218   \n",
       "rxNDC              28736   \n",
       "rxQuantity           606   \n",
       "rxForm               328   \n",
       "\n",
       "                                                                                                                                                                                                          vals_unique  \n",
       "id            [10007104, 10008102, 10012101, 10012102, 10014102, 10016102, 10016104, 10016105, 10016106, 10017101, 10019101, 10019102, 10021103, 10026101, 10026102, 10030101, 10030102, 10030103, 10030104, 10033...  \n",
       "rxStartMonth                                                                                                                                                  [3, 9, -1, 11, 5, 6, 8, 10, -8, 1, 4, 2, 12, 7, -9, -7]  \n",
       "rxStartYear   [2011, 2005, 2003, -8, 2004, 2010, 2008, 1997, 1998, 1999, 2007, 2006, 2009, 1982, 1984, 1996, 2002, 1987, 1995, 2001, 2000, -9, 1990, 1989, 1991, 1992, 1993, 1978, 1986, 1994, -14, 1985, 1980, 19...  \n",
       "rxName        [AMOXICILLIN, OTIC EDGE SOLUTION, NASAL DECONGESTANT 0.05% SPRAY, DIPHENHYDRAM, CHLD ALLERGY, COMBIVENT, DIGOXIN, LORAZEPAM, XOPENEX, SIMVASTATIN, HYDROCHLOROT, CARVEDILOL, ZOLPIDEM, MORPHINE SUL,...  \n",
       "rxNDC         [143988775, 68032032814, 63981056903, 603333921, 24385037926, 597001314, 115981101, 591024105, 63402051324, 16714068501, 172208380, 591024110, 603385632, 93013501, 16714062202, 60951065270, 681800...  \n",
       "rxQuantity    [75.0, 14.0, 15.0, 30.0, 100.0, 45.0, 90.0, 270.0, 828.0, 180.0, 60.0, 120.0, 56.0, 6.0, 1.0, 20.0, 10.0, 240.0, 12.0, 150.0, 473.0, 70.0, 34.0, 42.0, 200.0, 50.0, 37.0, 115.0, 38.0, 360.0, 5.0, 1...  \n",
       "rxForm        [SUSR, SOL, SPR, CAP, LIQD, AERO, TABS, NEBU, TB12, CAPS, PT24, TAB, TBCR, CPDR, CUTTER, SUSP, TBDP, ELIX, LIQ, SUS, AEPB, MISC, CRE, OINT, IN, INJ, TB24, STA, POW, TA, SOLN, Eye drops, TBEC, DEVI...  "
      ]
     },
     "execution_count": 322,
     "metadata": {},
     "output_type": "execute_result"
    }
   ],
   "source": [
    "_df_meds.apply(f_unique).apply(pd.Series)"
   ]
  },
  {
   "cell_type": "markdown",
   "metadata": {},
   "source": [
    "> ~3x more drug NDC codes than drug names!\n",
    "* I thought it would be the other way around\n",
    "* Without knowledge of now NDC codes work, probably best just to use names"
   ]
  },
  {
   "cell_type": "markdown",
   "metadata": {},
   "source": [
    "patient-prescriptions"
   ]
  },
  {
   "cell_type": "code",
   "execution_count": 436,
   "metadata": {
    "collapsed": false
   },
   "outputs": [
    {
     "name": "stdout",
     "output_type": "stream",
     "text": [
      "0.788705852848\n"
     ]
    },
    {
     "data": {
      "text/html": [
       "<div>\n",
       "<table border=\"1\" class=\"dataframe\">\n",
       "  <thead>\n",
       "    <tr style=\"text-align: right;\">\n",
       "      <th></th>\n",
       "      <th>id</th>\n",
       "      <th>rxStartMonth</th>\n",
       "      <th>rxStartYear</th>\n",
       "      <th>rxName</th>\n",
       "      <th>rxNDC</th>\n",
       "      <th>rxQuantity</th>\n",
       "      <th>rxForm</th>\n",
       "    </tr>\n",
       "  </thead>\n",
       "  <tbody>\n",
       "    <tr>\n",
       "      <th>4</th>\n",
       "      <td>10008102</td>\n",
       "      <td>3</td>\n",
       "      <td>2011</td>\n",
       "      <td>NASAL DECONGESTANT 0.05% SPRAY</td>\n",
       "      <td>63981056903</td>\n",
       "      <td>15.0</td>\n",
       "      <td>SPR</td>\n",
       "    </tr>\n",
       "    <tr>\n",
       "      <th>7</th>\n",
       "      <td>10008102</td>\n",
       "      <td>9</td>\n",
       "      <td>2011</td>\n",
       "      <td>CHLD ALLERGY</td>\n",
       "      <td>24385037926</td>\n",
       "      <td>100.0</td>\n",
       "      <td>LIQD</td>\n",
       "    </tr>\n",
       "    <tr>\n",
       "      <th>8</th>\n",
       "      <td>10008102</td>\n",
       "      <td>9</td>\n",
       "      <td>2011</td>\n",
       "      <td>CHLD ALLERGY</td>\n",
       "      <td>24385037926</td>\n",
       "      <td>100.0</td>\n",
       "      <td>LIQD</td>\n",
       "    </tr>\n",
       "    <tr>\n",
       "      <th>9</th>\n",
       "      <td>10008102</td>\n",
       "      <td>9</td>\n",
       "      <td>2011</td>\n",
       "      <td>CHLD ALLERGY</td>\n",
       "      <td>24385037926</td>\n",
       "      <td>100.0</td>\n",
       "      <td>LIQD</td>\n",
       "    </tr>\n",
       "    <tr>\n",
       "      <th>10</th>\n",
       "      <td>10008102</td>\n",
       "      <td>9</td>\n",
       "      <td>2011</td>\n",
       "      <td>CHLD ALLERGY</td>\n",
       "      <td>24385037926</td>\n",
       "      <td>100.0</td>\n",
       "      <td>LIQD</td>\n",
       "    </tr>\n",
       "  </tbody>\n",
       "</table>\n",
       "</div>"
      ],
      "text/plain": [
       "          id  rxStartMonth  rxStartYear                          rxName  \\\n",
       "4   10008102             3         2011  NASAL DECONGESTANT 0.05% SPRAY   \n",
       "7   10008102             9         2011                    CHLD ALLERGY   \n",
       "8   10008102             9         2011                    CHLD ALLERGY   \n",
       "9   10008102             9         2011                    CHLD ALLERGY   \n",
       "10  10008102             9         2011                    CHLD ALLERGY   \n",
       "\n",
       "          rxNDC  rxQuantity rxForm  \n",
       "4   63981056903        15.0    SPR  \n",
       "7   24385037926       100.0   LIQD  \n",
       "8   24385037926       100.0   LIQD  \n",
       "9   24385037926       100.0   LIQD  \n",
       "10  24385037926       100.0   LIQD  "
      ]
     },
     "execution_count": 436,
     "metadata": {},
     "output_type": "execute_result"
    }
   ],
   "source": [
    "print _df_meds[['id', 'rxName']].duplicated().mean()\n",
    "_df_meds[_df_meds[['id', 'rxName']].duplicated()].head()"
   ]
  },
  {
   "cell_type": "markdown",
   "metadata": {},
   "source": [
    "> Most prescriptions are duplicates.  \n",
    "We only care about unique drugs per patient"
   ]
  },
  {
   "cell_type": "markdown",
   "metadata": {},
   "source": [
    "drug names"
   ]
  },
  {
   "cell_type": "code",
   "execution_count": 602,
   "metadata": {
    "collapsed": false
   },
   "outputs": [
    {
     "data": {
      "text/plain": [
       "9215"
      ]
     },
     "execution_count": 602,
     "metadata": {},
     "output_type": "execute_result"
    }
   ],
   "source": [
    "names = _df_meds.rxName.str.strip().str.upper().sort_values().unique().tolist()\n",
    "len(names)"
   ]
  },
  {
   "cell_type": "code",
   "execution_count": 603,
   "metadata": {
    "collapsed": false,
    "scrolled": true
   },
   "outputs": [
    {
     "data": {
      "text/plain": [
       "['(ARMOUR) THYROID (1GR)',\n",
       " '-9',\n",
       " '1 ANTI-INFECTIVES',\n",
       " '1.5 INCH 27 GAUGE NEEDLE',\n",
       " '1/2ML TB SYR',\n",
       " '10',\n",
       " '105 MISCELLANEOUS AGENTS',\n",
       " '113 GENITOURINARY TRACT AGENTS',\n",
       " '115 NUTRITIONAL PRODUCTS',\n",
       " '122 RESPIRATORY AGENTS',\n",
       " '133 TOPICAL AGENTS',\n",
       " '1CC TB SYRNG27GX1/2\"',\n",
       " '1ML TB SYRNG',\n",
       " '20 ANTINEOPLASTICS',\n",
       " '218 ALTERNATIVE MEDICINES',\n",
       " '242 PSYCHOTHERAPEUTIC AGENTS',\n",
       " '254 IMMUNOLOGIC AGENTS',\n",
       " '28 BIOLOGICALS',\n",
       " '28G LANCET',\n",
       " '3 ML LUER LOCK SYRINGE',\n",
       " '30G 0.5\" INSULIN SYRINGE',\n",
       " '358 METABOLIC AGENTS',\n",
       " '3ML LL SYRNG',\n",
       " '3ML SYRINGE',\n",
       " '40 CARDIOVASCULAR AGENTS',\n",
       " '5 MM MINI PEN NEEDLES',\n",
       " '57 CENTRAL NERVOUS SYSTEM AGENTS',\n",
       " '5MM MINI PEN NEEDLES',\n",
       " '81 COAGULATION MODIFIERS',\n",
       " '87 GASTROINTESTINAL AGENTS',\n",
       " '8MZ TMP',\n",
       " '97 HORMONES',\n",
       " '97 HORMONES/HORMONE MODIFIERS',\n",
       " 'A&D',\n",
       " 'A-COF DH (AF,SF,DYE-FREE,GRAPE)',\n",
       " 'A/B OTIC',\n",
       " 'A/B/H/R',\n",
       " 'AA BATTERIES',\n",
       " 'ABILIFY',\n",
       " 'ABREVA',\n",
       " 'ABSORBASE',\n",
       " 'ABSORBASE TOP',\n",
       " 'ABX SUPPORT',\n",
       " 'ACANYA',\n",
       " 'ACARBOSE',\n",
       " 'ACCOLATE',\n",
       " 'ACCU CHECK AVIVA',\n",
       " 'ACCU CHEK AVIVA TEST STRIPS',\n",
       " 'ACCU-CHECK AVIVA METER',\n",
       " 'ACCU-CHEK',\n",
       " 'ACCU-CHEK ACTIVE',\n",
       " 'ACCU-CHEK ACTIVE MONITORING (W/METER & LANCET DEV)',\n",
       " \"ACCU-CHEK ACTIVE TEST STRIPS 50'S\",\n",
       " 'ACCU-CHEK ADVANTAGE',\n",
       " 'ACCU-CHEK ADVANTAGE CARE',\n",
       " 'ACCU-CHEK ADVANTAGE METER',\n",
       " 'ACCU-CHEK AVIVA',\n",
       " 'ACCU-CHEK AVIVA (GLU',\n",
       " 'ACCU-CHEK AVIVA CONTROL SOLUTION',\n",
       " 'ACCU-CHEK AVIVA KIT',\n",
       " 'ACCU-CHEK AVIVA TEST STRIPS',\n",
       " 'ACCU-CHEK COMFORT',\n",
       " 'ACCU-CHEK COMFORT CURVE (STRIP)',\n",
       " 'ACCU-CHEK COMPACT',\n",
       " 'ACCU-CHEK COMPACT PLUS',\n",
       " 'ACCU-CHEK LANCETS',\n",
       " 'ACCU-CHEK MLTICLIX',\n",
       " 'ACCU-CHEK MULTICLIX',\n",
       " 'ACCU-CHEK MULTICLIX LANCETS',\n",
       " 'ACCU-CHEK SOFTCLIX',\n",
       " 'ACCU-CHEK TES COMFORT',\n",
       " 'ACCUCHEK MLRIXLIZ',\n",
       " 'ACCUNEB',\n",
       " 'ACCUNEB (PF)',\n",
       " 'ACCUPRIL',\n",
       " 'ACCUPRIL (FILM-COATED)',\n",
       " 'ACCURETIC',\n",
       " 'ACCURETIC (10X3)',\n",
       " 'ACCURETIC (FILM-COATED)',\n",
       " 'ACCUSURE (28G,1/2 CC)',\n",
       " 'ACCUTANE',\n",
       " 'ACCUZYME',\n",
       " 'ACE AEROSOL CLOUD ENHANCER',\n",
       " 'ACE NEOPRENE ANKLE BRACE',\n",
       " 'ACEBUTOLOL',\n",
       " 'ACEBUTOLOL HCL',\n",
       " 'ACEBUTOLOL HYDROCHLORIDE',\n",
       " 'ACEON',\n",
       " 'ACEPHEN',\n",
       " 'ACETAM W/COD',\n",
       " 'ACETAMIN',\n",
       " 'ACETAMIN CHERRY',\n",
       " 'ACETAMIN GRAPE',\n",
       " 'ACETAMIN W/COD',\n",
       " 'ACETAMIN/BUTALB/CAF',\n",
       " 'ACETAMIN/COD',\n",
       " 'ACETAMINO',\n",
       " 'ACETAMINOP',\n",
       " 'ACETAMINOPHEN',\n",
       " 'ACETAMINOPHEN (AF,CHERRY)',\n",
       " 'ACETAMINOPHEN (AF,DROPS)',\n",
       " 'ACETAMINOPHEN (EXTRA STRENGTH)',\n",
       " 'ACETAMINOPHEN (REGULAR STRENGTH)',\n",
       " \"ACETAMINOPHEN (TYLENOL) 50'S\",\n",
       " 'ACETAMINOPHEN (USP)',\n",
       " 'ACETAMINOPHEN 500MG',\n",
       " \"ACETAMINOPHEN CHILDREN'S (AF,CHERRY)\",\n",
       " 'ACETAMINOPHEN EXTRA STRENGTH',\n",
       " 'ACETAMINOPHEN INFANTS',\n",
       " 'ACETAMINOPHEN W/ CODEINE',\n",
       " 'ACETAMINOPHEN W/ CODEINE #3',\n",
       " 'ACETAMINOPHEN W/ CODIENE #3 TABLETS',\n",
       " 'ACETAMINOPHEN W/CODEINE',\n",
       " 'ACETAMINOPHEN W/CODEINE #2',\n",
       " 'ACETAMINOPHEN W/CODEINE #3',\n",
       " 'ACETAMINOPHEN WITH CODEINE',\n",
       " 'ACETAMINOPHEN WITH CODEINE #3',\n",
       " 'ACETAMINOPHEN-BUTALBITAL',\n",
       " 'ACETAMINOPHEN-COD',\n",
       " 'ACETAMINOPHEN-COD #3',\n",
       " 'ACETAMINOPHEN-CODEINE',\n",
       " 'ACETAMINOPHEN-CODEINE PHOSPHATE',\n",
       " 'ACETAMINOPHEN-HYDROCODONE BITARTRATE',\n",
       " 'ACETAMINOPHEN-OXYCODONE HYDROCHLORIDE',\n",
       " 'ACETAMINOPHEN-PROPOXYPHENE HYDROCHLORIDE',\n",
       " 'ACETAMINOPHEN-PROPOXYPHENE NAPSYLATE',\n",
       " 'ACETAMINOPHEN-TRAMADOL HYDROCHLORIDE',\n",
       " 'ACETAMINOPHEN/BUTALBITAL',\n",
       " 'ACETAMINOPHEN/BUTALBITAL/CAFFEINE',\n",
       " 'ACETAMINOPHEN/CAFF/BUTAL',\n",
       " 'ACETAMINOPHEN/COD',\n",
       " 'ACETAMINOPHEN/COD #3',\n",
       " 'ACETAMINOPHEN/CODEINE',\n",
       " 'ACETAMINOPHEN/CODEINE (CHERRY)',\n",
       " 'ACETAMINOPHEN/OXYCODONE',\n",
       " 'ACETAMINOPHEN/W CODEINE #3',\n",
       " 'ACETAMINOPHENE',\n",
       " 'ACETAMINOPHN',\n",
       " 'ACETAMNOPHEN 500 MG TAB URL',\n",
       " 'ACETASOL HC',\n",
       " 'ACETASOL HC OTIC',\n",
       " 'ACETAZOLAMID',\n",
       " 'ACETAZOLAMIDE',\n",
       " 'ACETIC ACID',\n",
       " 'ACETIC ACID OTIC',\n",
       " 'ACETIC ACID-HYDROCORTISONE',\n",
       " 'ACETIC ACID/ALUMINUM ACETATE',\n",
       " 'ACETIC ACID/HC',\n",
       " 'ACETIC ACID/HC OTI',\n",
       " 'ACETYLCYST',\n",
       " 'ACETYLCYSTEINE',\n",
       " 'ACETYLCYSTEINE (PF)',\n",
       " 'ACIDOPHILUS',\n",
       " 'ACIPHEX',\n",
       " 'ACNE MEDICAT',\n",
       " 'ACNE MEDICATION 5',\n",
       " 'ACOTS',\n",
       " 'ACTICIN',\n",
       " 'ACTIFED',\n",
       " 'ACTIGALL',\n",
       " 'ACTIVELLA',\n",
       " 'ACTIVELLA (5X28 DIALPACK)',\n",
       " 'ACTIVELLA (DIALPACK,FILM-COATED)',\n",
       " 'ACTOMEL PACK',\n",
       " 'ACTONEL',\n",
       " 'ACTONEL (DOSE PACK,FILM-COATED)',\n",
       " 'ACTONEL (DOSEPACK,FILM-COATED)',\n",
       " 'ACTONEL (FILM-COATED)',\n",
       " 'ACTONEL 12 PK',\n",
       " 'ACTONEL 12PK',\n",
       " 'ACTONEL 4PK',\n",
       " 'ACTONEL PACK',\n",
       " 'ACTONEL WITH CALCIUM',\n",
       " 'ACTONEL WITH CALCIUM (FILM-COATED)',\n",
       " 'ACTOPLUS',\n",
       " 'ACTOPLUS MET',\n",
       " 'ACTOPLUS MET (FILM-COATED)',\n",
       " 'ACTOS',\n",
       " 'ACTOS 30MG TABLETS',\n",
       " 'ACUFLEX',\n",
       " 'ACULAR',\n",
       " 'ACULAR LS',\n",
       " 'ACUVAIL',\n",
       " 'ACYCLOVIR',\n",
       " 'ACYCLOVIR (BANANA)',\n",
       " 'ACYCLOVIR (COMPRESSED)',\n",
       " 'ACYCLOVIR (USP)',\n",
       " 'ACYCLOVIR (ZOVIRAX)',\n",
       " 'ACYCLOVIR ORAL TABLET 400 MG',\n",
       " 'ACZONE',\n",
       " 'ACZONE (1X30GM)',\n",
       " 'ADALAT',\n",
       " 'ADALAT CC',\n",
       " 'ADALAT CC (FILM-COATED)',\n",
       " 'ADALATE',\n",
       " 'ADALATE CC',\n",
       " 'ADALIMUMAB',\n",
       " 'ADALIMUMAB PEN KIT',\n",
       " 'ADAPALENE',\n",
       " 'ADDERAL XR',\n",
       " 'ADDERALL',\n",
       " 'ADDERALL XR',\n",
       " 'ADDERALL XS',\n",
       " 'ADERAL',\n",
       " 'ADIPEX-P',\n",
       " 'ADLT ASA LOW',\n",
       " 'ADODART',\n",
       " 'ADOXA',\n",
       " 'ADRENASENSE',\n",
       " 'ADV NATALCAR',\n",
       " 'ADVACOR',\n",
       " 'ADVAIR',\n",
       " 'ADVAIR 250/50',\n",
       " 'ADVAIR 250/50 DISKUS',\n",
       " 'ADVAIR 500/50',\n",
       " 'ADVAIR DISK',\n",
       " 'ADVAIR DISKI',\n",
       " 'ADVAIR DISKU',\n",
       " 'ADVAIR DISKU 250/50',\n",
       " 'ADVAIR DISKUC',\n",
       " 'ADVAIR DISKUS',\n",
       " 'ADVAIR DISKUS 100/50',\n",
       " 'ADVAIR DISKUS 250/50',\n",
       " 'ADVAIR DISKUS 500/50',\n",
       " \"ADVAIR DISKUS 60'S\",\n",
       " 'ADVAIR DISKUS INHALER',\n",
       " 'ADVAIR HFA',\n",
       " 'ADVAIR HFA (ADVAIR HFA 230/21)',\n",
       " 'ADVAIR HFA (ADVAIR HFA 45/21)',\n",
       " 'ADVANCED CARE PLS',\n",
       " 'ADVANCED NATALCARE (9X10,DYE-FREE)',\n",
       " 'ADVANCED NATALCARE (DYE-FREE)',\n",
       " 'ADVANCED-RF NATALCARE (DYE-FREE)',\n",
       " 'ADVIAR DISKUS',\n",
       " 'ADVICOR',\n",
       " 'ADVIL',\n",
       " 'ADVIL COLD/',\n",
       " 'ADVOCATE BOTTLE CONTROL',\n",
       " 'ADVOCATE LANCETS',\n",
       " 'ADVOCATE TEST STRIPS',\n",
       " 'ADVODART',\n",
       " 'AERCHMBR PLS',\n",
       " 'AERCHMBR Z-',\n",
       " 'AEROBID',\n",
       " 'AEROCHAMBER',\n",
       " 'AEROCHAMBER (W/MASK)',\n",
       " 'AEROCHAMBER (W/MASK, LARGE)',\n",
       " 'AEROCHAMBER MAX W/MASK SMALL',\n",
       " 'AEROCHAMBER PLUS',\n",
       " 'AEROCHAMBER Z-STAT PLUS (VHC W/FLOWSIGNAL)',\n",
       " 'AEROCHAMBER/ MASK-SM',\n",
       " 'AEROMIST PLUS NEBULIZER',\n",
       " 'AFEDITAB CR',\n",
       " 'AFEDITAB CR (FILM-COATED)',\n",
       " 'AFLURIA',\n",
       " 'AFRIN',\n",
       " 'AFRIN NO DRIP SINUS',\n",
       " 'AG SHAMPOO &',\n",
       " 'AGGRENOX',\n",
       " 'AIRIAL CHAMBER',\n",
       " 'AIRIAL CHAMBER MISC',\n",
       " 'AIRZONE PEAK',\n",
       " 'AK-CON',\n",
       " 'AK-POLY-BAC',\n",
       " 'AKNE-MYCIN',\n",
       " 'AKWA TEARS',\n",
       " 'ALA-HIST D',\n",
       " 'ALACOL (W/DROPPER,2X30ML,AF,SF)',\n",
       " 'ALACOL DM',\n",
       " 'ALACOL DM (AF,SF,BLACK RASPBERRY)',\n",
       " 'ALACOL DM (W/DROPPER,2X30ML,AF,SF)',\n",
       " 'ALAHIST DM',\n",
       " 'ALAHIST DM (1X473ML,AF,SF,DYE-FREE)',\n",
       " 'ALAMAG',\n",
       " 'ALAMAST',\n",
       " 'ALAVERT',\n",
       " 'ALAVERT (ORIGINAL)',\n",
       " 'ALAVERT ALRG',\n",
       " 'ALAVERT D-12',\n",
       " 'ALAVERT D-12 HOUR',\n",
       " 'ALAWAY',\n",
       " 'ALBENZA',\n",
       " 'ALBU/DECAD/PHEN',\n",
       " 'ALBULT/IPRATROP',\n",
       " 'ALBUT/IPRATROP',\n",
       " 'ALBUTER',\n",
       " \"ALBUTER/IPRA INH60'S\",\n",
       " 'ALBUTEROL',\n",
       " 'ALBUTEROL 0.083',\n",
       " 'ALBUTEROL 0.083% INH SOLN 60X3ML',\n",
       " 'ALBUTEROL 90 MCG INHALER',\n",
       " 'ALBUTEROL 90/IPRATROP',\n",
       " 'ALBUTEROL 90MCG (VENTOLIN) AEROSOL',\n",
       " 'ALBUTEROL EXTENDED RELEASE',\n",
       " 'ALBUTEROL HFA',\n",
       " 'ALBUTEROL HFA INHALER',\n",
       " 'ALBUTEROL INH',\n",
       " 'ALBUTEROL INH SOLUTION',\n",
       " 'ALBUTEROL INHAL KIT',\n",
       " 'ALBUTEROL INHALATION SOLUTION',\n",
       " 'ALBUTEROL INHALER',\n",
       " 'ALBUTEROL MDI VENTOL',\n",
       " 'ALBUTEROL NEB',\n",
       " 'ALBUTEROL NEBULIZER',\n",
       " 'ALBUTEROL NEBULIZER SOLUTION',\n",
       " 'ALBUTEROL PRE-MIX',\n",
       " 'ALBUTEROL PREMIX',\n",
       " 'ALBUTEROL SO',\n",
       " 'ALBUTEROL SO4',\n",
       " 'ALBUTEROL SO4 (CFC-F) ORAL',\n",
       " 'ALBUTEROL SO4 (CFC-F) ORAL INHALATION',\n",
       " 'ALBUTEROL SO4 (CFC-F), ORAL',\n",
       " 'ALBUTEROL SO4, UD',\n",
       " 'ALBUTEROL SOLUTION',\n",
       " 'ALBUTEROL SUL',\n",
       " 'ALBUTEROL SULF',\n",
       " 'ALBUTEROL SULF HFA',\n",
       " 'ALBUTEROL SULFAT',\n",
       " 'ALBUTEROL SULFATE',\n",
       " 'ALBUTEROL SULFATE (25X3ML,LDPE)',\n",
       " 'ALBUTEROL SULFATE (25X3ML,PF)',\n",
       " 'ALBUTEROL SULFATE (60X3ML,LDPE)',\n",
       " 'ALBUTEROL SULFATE (BERRY)',\n",
       " 'ALBUTEROL SULFATE (PF)',\n",
       " 'ALBUTEROL SULFATE (SINGLE-PAK)',\n",
       " 'ALBUTEROL SULFATE (STRAWBERRY)',\n",
       " 'ALBUTEROL SULFATE (VIAL)',\n",
       " 'ALBUTEROL SULFATE (VIAL,PF)',\n",
       " 'ALBUTEROL SULFATE HFA',\n",
       " 'ALBUTEROL SULFATE SYRUP',\n",
       " 'ALBUTEROL SULFATE SYRUP (2MG/5ML)',\n",
       " 'ALBUTEROL SYRUP',\n",
       " 'ALBUTEROL-IPRATROPIUM BROMIDE',\n",
       " 'ALBUTEROL/ IPRATROP',\n",
       " 'ALBUTEROL/ IPRATROPIUM BR',\n",
       " 'ALBUTEROL/BENADRYL',\n",
       " 'ALBUTEROL/IPRATROP',\n",
       " 'ALBUTEROL/IPRATROP 200D',\n",
       " 'ALBUTEROL/IPRATROPIUM',\n",
       " 'ALBUTEROL/IPRATROPIUM BR',\n",
       " 'ALCLOMETASON',\n",
       " 'ALCLOMETASONE DIP',\n",
       " 'ALCLOMETASONE DIPROPIONATE',\n",
       " 'ALCOHOL',\n",
       " 'ALCOHOL ISOPROPYL',\n",
       " 'ALCOHOL ISOPROPYL IMPREG',\n",
       " 'ALCOHOL PAD',\n",
       " 'ALCOHOL PREP',\n",
       " 'ALCOHOL PREP PAD',\n",
       " 'ALCOHOL SWABS',\n",
       " 'ALCOHOL WIPES',\n",
       " 'ALCORTIN',\n",
       " 'ALCORTIN A',\n",
       " 'ALCORTIN A (24X2GM)',\n",
       " 'ALDACTAZIDE',\n",
       " 'ALDACTAZIDE (FILM COATED)',\n",
       " 'ALDACTONE',\n",
       " 'ALDARA',\n",
       " 'ALDARA (CREAM)',\n",
       " 'ALDARA (SINGLE-USE)',\n",
       " 'ALDARA IMIQUIMOD',\n",
       " 'ALDEX AN',\n",
       " 'ALDEX D',\n",
       " 'ALDEX D (GRAPE)',\n",
       " 'ALDEX DM',\n",
       " 'ALDEX DM (GRAPE)',\n",
       " 'ALDEX-CT',\n",
       " 'ALDEX-CT (STRAWBERRY)',\n",
       " 'ALDOMET',\n",
       " 'ALEDRONATE',\n",
       " 'ALEDRONATE SODIUM',\n",
       " 'ALENDRONATE',\n",
       " 'ALENDRONATE NA',\n",
       " 'ALENDRONATE SODIUM',\n",
       " 'ALENDRONATE SODIUM (USP)',\n",
       " 'ALENDRONATE SODIUM (USP,2X10)',\n",
       " 'ALENDRONATE SODIUM 70MG',\n",
       " 'ALENDRONATE-PO 70MG TAB 4 TAB/PKG',\n",
       " 'ALENDRONATE/VIT',\n",
       " 'ALENDRONATE/VITAMIN D3',\n",
       " 'ALENODRONATE',\n",
       " 'ALERGY',\n",
       " 'ALESSE',\n",
       " 'ALESSE 28 (3X28 MINIPACK DISPENSER)',\n",
       " 'ALESSE 28 (MINIPACK DISPENSER)',\n",
       " 'ALEVE',\n",
       " 'ALFUZOSIN',\n",
       " 'ALFUZOSIN HCL',\n",
       " 'ALINIA',\n",
       " 'ALINIA (STRAWBERRY)',\n",
       " 'ALL DAY ALLERGY',\n",
       " 'ALL DAY ALLG',\n",
       " 'ALL DAY RELF',\n",
       " 'ALLANDERM-T',\n",
       " 'ALLANHIST PDX (AF,GRAPE)',\n",
       " 'ALLANZYME 650 OINTMENT',\n",
       " 'ALLAN\\\\DERM',\n",
       " 'ALLEGRA',\n",
       " 'ALLEGRA (FILM-COATED)',\n",
       " 'ALLEGRA ALLERGY',\n",
       " 'ALLEGRA ALRG',\n",
       " 'ALLEGRA D',\n",
       " 'ALLEGRA D 12-HOUR',\n",
       " 'ALLEGRA D 24 HR',\n",
       " 'ALLEGRA ODT',\n",
       " 'ALLEGRA ODT (10X6)',\n",
       " 'ALLEGRA-D',\n",
       " 'ALLEGRA-D 12',\n",
       " 'ALLEGRA-D 12 HOUR',\n",
       " 'ALLEGRA-D 12 HOUR (BLISTER PACK)',\n",
       " 'ALLEGRA-D 12 HOUR (FILM-COATED)',\n",
       " 'ALLEGRA-D 12 HR',\n",
       " 'ALLEGRA-D 12HR',\n",
       " 'ALLEGRA-D 24 HOUR',\n",
       " 'ALLEGRA-D 24HOUR (FILM-COATED)',\n",
       " 'ALLER-CHLOR',\n",
       " 'ALLER-TEC D',\n",
       " 'ALLERFRIM',\n",
       " 'ALLERFRIM (PINEAPPLE)',\n",
       " 'ALLERGY',\n",
       " 'ALLERGY DN',\n",
       " 'ALLERGY DN II',\n",
       " 'ALLERGY PLUS CONGESTION',\n",
       " 'ALLERGY RELF',\n",
       " 'ALLERGY RELIEF',\n",
       " 'ALLERGY RELIEF-D',\n",
       " 'ALLERGY-D',\n",
       " 'ALLERGY/CONG',\n",
       " 'ALLERX (AM/PM DOSE PACK)',\n",
       " 'ALLERX DOSE PACK',\n",
       " 'ALLERX DOSE PACK (AM/PM DOSE PACK 30)',\n",
       " 'ALLERX DOSE PACK DF 30',\n",
       " 'ALLLAN/DERM',\n",
       " 'ALLOPUINOL',\n",
       " 'ALLOPURINOL',\n",
       " 'ALLOPURINOL (USP)',\n",
       " 'ALLOPURINOL 300MG TABLETS',\n",
       " 'ALMODIPINE BESYLATE',\n",
       " 'ALOCRIL',\n",
       " 'ALOH/MGOH/SIMTH',\n",
       " 'ALORA',\n",
       " 'ALPHAGAN',\n",
       " 'ALPHAGAN P',\n",
       " 'ALPHAGAN-P',\n",
       " 'ALPRAOLAM',\n",
       " 'ALPRAZALAM',\n",
       " 'ALPRAZOLAM',\n",
       " 'ALPRAZOLAM (10X10)',\n",
       " 'ALPRAZOLAM (UNIT OF USE)',\n",
       " 'ALPRAZOLAM (USP)',\n",
       " 'ALPRAZOLAM 0.5 MG',\n",
       " 'ALPRAZOLAM 0.5MG TABLETS',\n",
       " 'ALPRAZOLAM 1MG TABLETS',\n",
       " 'ALPRAZOLAM ER',\n",
       " 'ALPRAZOLAM XR',\n",
       " 'ALPRAZOLOM',\n",
       " 'ALPROSTADIL',\n",
       " 'ALPROSTADIL URETHRAL SUPP',\n",
       " 'ALPROSTADIL/PAPAVERI',\n",
       " 'ALREX',\n",
       " 'ALTABAX',\n",
       " 'ALTACE',\n",
       " 'ALTARYL',\n",
       " 'ALTOPREV',\n",
       " 'ALUMINUM CHLORIDE',\n",
       " 'ALUMINUM HYD',\n",
       " 'ALVESCO',\n",
       " 'ALVESCO HFA',\n",
       " 'AM149001',\n",
       " 'AMANTADINE',\n",
       " 'AMANTADINE HCL',\n",
       " 'AMANTADINE HCL (RASPBERRY)',\n",
       " 'AMANTADINE HYDROCHLORIDE',\n",
       " 'AMANTADINE HYDROCHLORIDE (USP)',\n",
       " 'AMANTADINE HYDROCHLORIDE (USP,SOFTGEL)',\n",
       " 'AMARYL',\n",
       " 'AMATADINE',\n",
       " 'AMB',\n",
       " 'AMBI',\n",
       " 'AMBI 40PSE/',\n",
       " 'AMBIEN',\n",
       " 'AMBIEN (FILM-COATED)',\n",
       " 'AMBIEN CR',\n",
       " 'AMBIEN CR (FILM-COATED)',\n",
       " 'AMBIEN CR (TWO LAYER FILM-COATED)',\n",
       " 'AMBIEN CR 12.5 MG',\n",
       " 'AMBIEN CR 12.5MG TABLETS',\n",
       " 'AMCINONIDE',\n",
       " 'AMERGE',\n",
       " 'AMERGE (BLISTER PACK)',\n",
       " 'AMERIGEL WOUND',\n",
       " 'AMICAR SUSP',\n",
       " 'AMILOR/HCTZ',\n",
       " 'AMILORIDE',\n",
       " 'AMILORIDE HCL',\n",
       " 'AMILORIDE HCL-HYDROCHLOROTHIAZIDE',\n",
       " 'AMILORIDE HYDROCHLORIDE',\n",
       " 'AMILORIDE/HCTZ',\n",
       " 'AMINOCAPR AC',\n",
       " 'AMINOCAPROIC ACID',\n",
       " 'AMINOSYN SULFITE-FREE',\n",
       " 'AMIODARONE',\n",
       " 'AMIODARONE HCL',\n",
       " 'AMIODARONE HYDROCHLORIDE',\n",
       " 'AMITIRPTYLINE',\n",
       " 'AMITIZA',\n",
       " 'AMITIZA (SOFT GELATIN CAPSULE)',\n",
       " 'AMITRIPTYLIN',\n",
       " 'AMITRIPTYLINE',\n",
       " 'AMITRIPTYLINE 25MG',\n",
       " 'AMITRIPTYLINE HCL',\n",
       " 'AMITRIPTYLINE HCL (FILM COATED)',\n",
       " 'AMITRIPTYLINE HYDROCHLORIDE',\n",
       " 'AMITRIPTYLINE-CHLORDIAZEPOXIDE',\n",
       " 'AMITRIPTYLINE-PERPHENAZINE',\n",
       " 'AMITRIPTYLINE/CHLORDIAZEPOXIDE',\n",
       " 'AMITRIPTYLINE/PERPHENAZINE',\n",
       " 'AMITRIPYLINE',\n",
       " 'AMITRYIPTYLINE HCL',\n",
       " 'AMLACTIN',\n",
       " 'AMLO5V EWINTA',\n",
       " 'AMLOD/ATORVA',\n",
       " 'AMLOD/BENAZ',\n",
       " 'AMLOD/BENAZE',\n",
       " 'AMLOD/BENAZEP',\n",
       " 'AMLOD/BENAZP',\n",
       " 'AMLOD/BENAZPRL',\n",
       " 'AMLOD/BENZP',\n",
       " 'AMLODIMINE BESYLATE',\n",
       " 'AMLODIP/BENA',\n",
       " 'AMLODIP/BENAZP',\n",
       " 'AMLODIP/BENZ',\n",
       " 'AMLODIPI/BENAZEPR',\n",
       " 'AMLODIPINE',\n",
       " 'AMLODIPINE 10 MG',\n",
       " 'AMLODIPINE 5 MG TABLETS',\n",
       " 'AMLODIPINE 5MG TABLETS',\n",
       " 'AMLODIPINE B',\n",
       " 'AMLODIPINE BENAZEPRIL',\n",
       " 'AMLODIPINE BES',\n",
       " 'AMLODIPINE BESY',\n",
       " 'AMLODIPINE BESYHLATE',\n",
       " 'AMLODIPINE BESYLA',\n",
       " 'AMLODIPINE BESYLAT',\n",
       " 'AMLODIPINE BESYLATE',\n",
       " 'AMLODIPINE BESYLATE 10MG TABLETS',\n",
       " 'AMLODIPINE BESYLATE AND BENAZEPRIL',\n",
       " 'AMLODIPINE BESYLATE AND BENAZEPRIL (HARD GELATIN C',\n",
       " 'AMLODIPINE BESYLATE BENAZEPRIL',\n",
       " 'AMLODIPINE BESYLATE-ATORVAST',\n",
       " 'AMLODIPINE BESYLATE-ATORVASTATIN CALCIUM',\n",
       " 'AMLODIPINE BESYLATE-BENAZEPRIL',\n",
       " 'AMLODIPINE BESYLATE-BENAZEPRIL HCL',\n",
       " 'AMLODIPINE BESYLATE-BENAZEPRIL HYDROCHLORIDE',\n",
       " 'AMLODIPINE BESYLATE/BENAZEPRIL HCL',\n",
       " 'AMLODIPINE BESYLATS',\n",
       " 'AMLODIPINE BESYLSTE-BENAZEP',\n",
       " 'AMLODIPINE RENAZEPRIL',\n",
       " 'AMLODIPINE-BENAZ',\n",
       " 'AMLODIPINE-BENAZEPRIL',\n",
       " 'AMLODIPINE/BENAZEPRIL',\n",
       " 'AMLODIPINE/BENZ',\n",
       " 'AMLODIPINT',\n",
       " 'AMLODIPNE-BENAZEPRIL',\n",
       " 'AMLODOPINE',\n",
       " 'AMLODOPINE BESYLATE',\n",
       " 'AMLODPINE',\n",
       " 'AMLODPINE BESYLATE-ATORVASTATIN CALCIUM',\n",
       " 'AMLODPINE BESYLATE-ATORVASTATIN CALCUIM',\n",
       " 'AMLODPINE BESYLATE-BENAZEPRIL HCL',\n",
       " 'AMLOODIPINE',\n",
       " 'AMLOPDIPINE',\n",
       " 'AMLOPIDINE BESYLATE',\n",
       " 'AMMONIUIM LACTATE',\n",
       " 'AMMONIUM',\n",
       " 'AMMONIUM LAC',\n",
       " 'AMMONIUM LACTATE',\n",
       " 'AMMONIUM LACTATE (2X140 GM)',\n",
       " 'AMMONIUM LACTATE (PUMP BOTTLE)',\n",
       " 'AMNESTEEM',\n",
       " 'AMOCILLIN',\n",
       " 'AMOCLAN',\n",
       " 'AMOCLAN (FRUITY)',\n",
       " 'AMOLDIPINE',\n",
       " 'AMOX',\n",
       " 'AMOX /K CLV',\n",
       " 'AMOX TR POTASSIUM CLAVULANA',\n",
       " 'AMOX TR-K CL',\n",
       " 'AMOX TR-K CLV',\n",
       " 'AMOX TR-K CLV 4',\n",
       " 'AMOX-CLAV',\n",
       " 'AMOX-CLAV 875MG',\n",
       " 'AMOX-CLAV ES',\n",
       " 'AMOX-POT CLA',\n",
       " 'AMOX/CLAV',\n",
       " 'AMOX/CLAV (AUGMENTIN XR)',\n",
       " 'AMOX/CLAV ACID',\n",
       " 'AMOX/CLAV ES',\n",
       " 'AMOX/CLAVULA',\n",
       " 'AMOX/CLAVULANATE',\n",
       " 'AMOX/K CLAV',\n",
       " 'AMOX/K CLAV ES',\n",
       " 'AMOX/K CLAV XR',\n",
       " 'AMOX/POT CLAV 500-125',\n",
       " 'AMOXAPINE',\n",
       " 'AMOXIC/CLAV',\n",
       " 'AMOXIC/LAV-',\n",
       " 'AMOXICILIN',\n",
       " 'AMOXICILL',\n",
       " 'AMOXICILLIAN',\n",
       " 'AMOXICILLIN',\n",
       " 'AMOXICILLIN & K CLAVULANATE',\n",
       " 'AMOXICILLIN (1X100ML,FRUITY)',\n",
       " 'AMOXICILLIN (1X100ML,USP,FRUITY)',\n",
       " 'AMOXICILLIN (1X150ML,FRUITY)',\n",
       " 'AMOXICILLIN (1X75ML,USP,FRUITY)',\n",
       " 'AMOXICILLIN (BERRY)',\n",
       " 'AMOXICILLIN (BUBBLE GUM)',\n",
       " 'AMOXICILLIN (BUBBLEGUM)',\n",
       " 'AMOXICILLIN (FILM-COATED)',\n",
       " 'AMOXICILLIN (FRUIT GUM)',\n",
       " 'AMOXICILLIN (FRUITY)',\n",
       " 'AMOXICILLIN (RASPBERRY-STRAWBERRY)',\n",
       " 'AMOXICILLIN (STRAWBERRY)',\n",
       " 'AMOXICILLIN (UNIT OF USE)',\n",
       " 'AMOXICILLIN (USP,FILM-COATED)',\n",
       " 'AMOXICILLIN 125MG/5ML SUSP 150ML',\n",
       " 'AMOXICILLIN 400MG/5ML SUSP 100ML',\n",
       " 'AMOXICILLIN 400MG/5ML SUSP 75ML',\n",
       " 'AMOXICILLIN 500 MG',\n",
       " 'AMOXICILLIN 500MG',\n",
       " 'AMOXICILLIN 500MG CAP',\n",
       " 'AMOXICILLIN 500MG CAPSULE',\n",
       " 'AMOXICILLIN 500MG CAPSULES',\n",
       " 'AMOXICILLIN AND CLAVULANATE POTASSI',\n",
       " 'AMOXICILLIN AND CLAVULANATE POTASSI (FILM-COATED)',\n",
       " 'AMOXICILLIN AND CLAVULANATE POTASSI (USP)',\n",
       " 'AMOXICILLIN AND CLAVULANATE POTASSI (USP,STRAWBERR',\n",
       " 'AMOXICILLIN SUSP',\n",
       " 'AMOXICILLIN SUSPENSION',\n",
       " 'AMOXICILLIN TRIHYDRATE',\n",
       " 'AMOXICILLIN-CLAVULANATE',\n",
       " 'AMOXICILLIN/CIAV',\n",
       " 'AMOXICILLIN/CLAV',\n",
       " 'AMOXICILLIN/CLAV K',\n",
       " 'AMOXICILLIN/CLAVULA',\n",
       " 'AMOXICILLIN/CLAVULAN',\n",
       " 'AMOXICILLIN/CLAVULANATE',\n",
       " 'AMOXICILLIN/CLAVULANATE POTASSIUM',\n",
       " 'AMOXICILLIN/CLAVULANATE POTASSIUM (BANANA-CHERRY)',\n",
       " 'AMOXICILLIN/CLAVULANATE POTASSIUM (CARAMEL-ORANG-R',\n",
       " 'AMOXICILLIN/CLAVULANATE POTASSIUM (ORANGE)',\n",
       " 'AMOXICILLIN/CLAVULANATE POTASSIUM (ORANGE-RASPBERR',\n",
       " 'AMOXICILLIN/CLAVULANATE POTASSIUM (STRAWBERRY CREA',\n",
       " 'AMOXICILLIN/CLAVULANATE POTASSIUM (STRAWBERRY)',\n",
       " 'AMOXICILLIN/CLAVULANATE POTASSIUM (USP)',\n",
       " 'AMOXICILLIN/K CLAV',\n",
       " 'AMOXICILLIN/TRV/K',\n",
       " 'AMOXICILLN',\n",
       " 'AMOXIL',\n",
       " 'AMOXIL (BANANA-CHERRY MINT)',\n",
       " 'AMOXIL (BUBBLEGUM)',\n",
       " 'AMOXIL PEDIATRIC (BUBBLEGUM,DROPS)',\n",
       " 'AMPHETA S/COMBO',\n",
       " 'AMPHETAMINE',\n",
       " 'AMPHETAMINE ER',\n",
       " 'AMPHETAMINE SALT COMBO',\n",
       " 'AMPHETAMINE SALTS',\n",
       " 'AMPHETAMINE-DEXTROAMPHETAMINE',\n",
       " 'AMPHETAMINE-DEXTROAMPHETAMINE ER',\n",
       " 'AMPHOTERICIN',\n",
       " 'AMPHOTERICIN B',\n",
       " 'AMPICILLIN',\n",
       " 'AMPICILLIN TR',\n",
       " 'AMRIX',\n",
       " 'AMTRIPTYLINE',\n",
       " 'ANALGESIC',\n",
       " 'ANALPRAM-HC',\n",
       " 'ANAPLEX DM (AF,SF,DYE-FREE,FRUIT)',\n",
       " 'ANAPLEX DMX (AF,SF,GRAPE)',\n",
       " 'ANAPROX DS',\n",
       " 'ANAPROX DS (CAPLET)',\n",
       " 'ANASPAZ',\n",
       " 'ANASTROLZLE',\n",
       " 'ANASTROZOLE',\n",
       " 'ANASTROZOLE 1MG TABLET',\n",
       " 'ANDEHIST DM',\n",
       " 'ANDEHIST DM NR (AF,SF,GRAPE)',\n",
       " 'ANDEHIST DM NR (AF,SF,GRAPE,DROPS)',\n",
       " 'ANDEHIST NR',\n",
       " 'ANDEHIST NR (AF,SF,RASPBERRY)',\n",
       " 'ANDEHIST NR SYR',\n",
       " 'ANDEHIST NR SYRUP',\n",
       " 'ANDEHIST-DM NR',\n",
       " 'ANDRODERM',\n",
       " 'ANDROGEL',\n",
       " 'ANDROGEL (2X75GM PUMPS)',\n",
       " 'ANDROGEL (PACKET)',\n",
       " 'ANDROGEL 1.25 G/ACTUATION',\n",
       " 'ANDROGEL 1.25 G/ACTUATION PUMP',\n",
       " 'ANDROGEL 5 G/PACKET',\n",
       " 'ANDROGEL PIM',\n",
       " 'ANDROGEL PUMP',\n",
       " 'ANDROGEL PUMP 1.25 G/ACTUATION',\n",
       " 'ANDROGEL [CONC] 20.25MG',\n",
       " 'ANGELIQ',\n",
       " 'ANIMI',\n",
       " 'ANIMI-3',\n",
       " 'ANKLE BRACE',\n",
       " 'ANKLE SUPPORT',\n",
       " 'ANSAID',\n",
       " 'ANSTROZOLE',\n",
       " 'ANTABUSE',\n",
       " 'ANTACID',\n",
       " 'ANTACID (CALCIUM CARBONATE)',\n",
       " 'ANTACID (MINT CREME,MINT)',\n",
       " 'ANTACID FOAMING',\n",
       " 'ANTACID M',\n",
       " 'ANTACID M (ORIGINAL)',\n",
       " 'ANTACID M PLUS',\n",
       " 'ANTACID XTRA',\n",
       " 'ANTARA',\n",
       " 'ANTENOLOL',\n",
       " 'ANTI-DIARRHE',\n",
       " 'ANTI-DIARRHEAL',\n",
       " 'ANTI-FUNGAL',\n",
       " 'ANTI-ITCH',\n",
       " 'ANTI-NAUSEA',\n",
       " 'ANTIBIOTIC',\n",
       " 'ANTIBIOTIC EAR',\n",
       " 'ANTIBIOTIC OTIC',\n",
       " 'ANTIHISTAMIN',\n",
       " 'ANTIPY/BENZO',\n",
       " 'ANTIPY/BENZO OTIC',\n",
       " 'ANTIPYRINE-BENZOCAINE',\n",
       " 'ANTIPYRINE/BENZOCAIN',\n",
       " 'ANTIPYRINE/BENZOCAINE',\n",
       " 'ANTISPASMODIC',\n",
       " 'ANTISPASMODIC (LIME-ORANGE)',\n",
       " 'ANTIVERT',\n",
       " 'ANTIVERT/25',\n",
       " 'ANUCORT',\n",
       " 'ANUCORT-HC',\n",
       " 'ANUSOL-HC',\n",
       " 'ANZEMET',\n",
       " 'APAP',\n",
       " 'APAP 325/DICHPHNZ 100/ISOMTHPT',\n",
       " 'APAP INFANT DROPS',\n",
       " 'APAP W/HYDROCODONE',\n",
       " 'APAP/ CODEINE',\n",
       " 'APAP/BUTALBITAL/CAFF',\n",
       " 'APAP/BUTALBITAL/CAFFEINE',\n",
       " 'APAP/BUTALBITAL/CAFFEINE/CODEINE',\n",
       " 'APAP/CODEINE',\n",
       " 'APAP/CODEINE 300-30MG TABLETS',\n",
       " 'APAP/CODENINE',\n",
       " 'APAP/CODIENE 120-12 SOL',\n",
       " 'APAP/CODINE',\n",
       " 'APAP/DICHLORA/ISOMETHEPTENE',\n",
       " 'APAP/DICHLORAL/ISOMETHEPTENE (GELATIN CAPSULE)',\n",
       " 'APAP/DICHLORALPHENAZONE/ISOMETHEPTENE',\n",
       " 'APAP/DIPHENH',\n",
       " 'APAP/HYDROCODONE',\n",
       " 'APAP/HYDROCODONE BITARTRATE',\n",
       " 'APAP/HYDROCODONE BITARTRATE (10X10)',\n",
       " 'APAP/HYDROCODONE BITARTRATE (CAPLET)',\n",
       " 'APAP/HYDROCODONE BITARTRATE (FRUIT)',\n",
       " 'APAP/OXYCODONE',\n",
       " 'APAP/OXYCODONE (CAPLET)',\n",
       " 'APAP/OXYCODONE (HARD GEL)',\n",
       " 'APAP/PROPOXYPHENE',\n",
       " 'APAP/PROPOXYPHENE (CAPLET)',\n",
       " 'APAP/PROPOXYPHENE NAPSYLATE',\n",
       " 'APAP/PROPOXYPHENE NAPSYLATE (PINK)',\n",
       " 'APAP/PROPOXYPHENE NAPSYLATE (WHITE)',\n",
       " 'APAP/TRAMADL',\n",
       " 'APAP/TRAMADOL HYDROCHLORIDE',\n",
       " 'APAP/TRAMADOL HYDROCHLORIDE (10X10,FILM-COATED)',\n",
       " 'APAP/TRAMADOL HYDROCHLORIDE (FILM-COATED)',\n",
       " 'APAP/TYLENOL GEN',\n",
       " 'APEXICON E',\n",
       " 'APIDRA',\n",
       " 'APIDRA (5X3ML,OPTICLIK PEN)',\n",
       " 'APIRIN EC',\n",
       " 'APLENZIN',\n",
       " 'APPTRIM',\n",
       " 'APRI',\n",
       " 'APRI (6X28)',\n",
       " 'APRI 28 DAY',\n",
       " 'APRISO',\n",
       " 'APRODINE',\n",
       " 'AQUADEKS',\n",
       " 'AQUAPHOR',\n",
       " 'AQUAPHOR HEALING',\n",
       " 'AQUAPHOR OF EQ TOP OINTMENT',\n",
       " 'AQUASOL',\n",
       " 'ARALEN PHOSPHATE',\n",
       " 'ARANELLE (BLISTER PACK,3 X 28)',\n",
       " 'ARANESP ALBUMIN FREE',\n",
       " 'ARAVA',\n",
       " 'ARICEPT',\n",
       " 'ARICEPT (10 X 10,FILM-COATED)',\n",
       " 'ARICEPT (FILM-COATED)',\n",
       " 'ARIMIDEX',\n",
       " 'ARIMIDEX (FILM-COATED)',\n",
       " 'ARIPIPRAZOLE',\n",
       " 'ARITHROMYCIN',\n",
       " 'ARIXTRA',\n",
       " 'ARIXTRA (PREFL,27GX1/2\",PF)',\n",
       " 'ARIXTRA (SRN,PREFL,27GX1/2\",PF)',\n",
       " 'ARMOUR THYRO',\n",
       " 'ARMOUR THYROID',\n",
       " 'ARMOUR THYROID (10X10)',\n",
       " 'ARNICARE',\n",
       " 'AROMASIN',\n",
       " 'ARTHROTEC',\n",
       " 'ARTHROTEC 50',\n",
       " 'ARTHROTEC 75',\n",
       " 'ARTHRTS PAIN',\n",
       " 'ARTIFI TEARS',\n",
       " 'ARTIFICIAL TEAR NA SOL',\n",
       " 'ARTIFICIAL TEARS',\n",
       " 'ARTIFICIAL TEARS (PF)',\n",
       " 'ARTIFICIAL TEARS POLYVINYL ALCOHOL',\n",
       " 'ASA',\n",
       " 'ASA LO-DOSE',\n",
       " 'ASA LOW DOSE',\n",
       " 'ASACOL',\n",
       " 'ASACOL HD',\n",
       " 'ASCENCIA AUTODISC',\n",
       " 'ASCENCIA CONTOUR STRIPS',\n",
       " 'ASCENSIA',\n",
       " 'ASCENSIA AUTODISC',\n",
       " 'ASCENSIA BREEZE 2 BLOOD GLUCOSE MON (10-TEST DISC)',\n",
       " 'ASCENSIA BREEZE 2 BLOOD GLUCOSE TES (10-TEST DISC)',\n",
       " 'ASCENSIA BREEZE 2 TEST STRIPS',\n",
       " 'ASCENSIA CONTOUR',\n",
       " 'ASCENSIA CONTOUR BLOOD GLUCOSE SYST',\n",
       " 'ASCENSIA CONTOUR METER',\n",
       " 'ASCENSIA CONTOUR TEST STRIPS',\n",
       " 'ASCENSIA MICR',\n",
       " 'ASCOMP W/CODEINE',\n",
       " 'ASCOMP/COD',\n",
       " 'ASCORBIC ACID',\n",
       " 'ASCRIPTIN',\n",
       " 'ASMANEX',\n",
       " 'ASMANEX 120',\n",
       " 'ASMANEX 30',\n",
       " 'ASMANEX 60',\n",
       " 'ASMANEX TWISTHALER',\n",
       " 'ASMANEX TWISTHALER (120-INHALATION)',\n",
       " 'ASMANEX TWISTHALER (30-INHALATION)',\n",
       " 'ASMANEX TWISTHALER (60-INHALATION)',\n",
       " 'ASMANEX TWISTHALER 120 DOSE',\n",
       " 'ASMANEX TWISTHALER 30 DOSE',\n",
       " 'ASMANEX TWISTHALER 60 DOSE',\n",
       " 'ASPART INSULIN',\n",
       " 'ASPIR',\n",
       " 'ASPIR 81',\n",
       " 'ASPIR-81',\n",
       " 'ASPIR-LOW',\n",
       " 'ASPIRIN',\n",
       " 'ASPIRIN (10X10)',\n",
       " 'ASPIRIN (BABY)',\n",
       " 'ASPIRIN (ECOTRIN)',\n",
       " 'ASPIRIN (REGULAR STRENGTH)',\n",
       " 'ASPIRIN (WHITE)',\n",
       " 'ASPIRIN 81MG',\n",
       " 'ASPIRIN ADULT LOW STRENGTH',\n",
       " 'ASPIRIN CHEWABLE TABLETS',\n",
       " 'ASPIRIN CHILD CHEWABLE',\n",
       " \"ASPIRIN CHILDREN'S\",\n",
       " \"ASPIRIN CHILDREN'S (CHERRY)\",\n",
       " \"ASPIRIN CHILDREN'S (ORANGE)\",\n",
       " \"ASPIRIN CHILDREN'S CHEW\",\n",
       " 'ASPIRIN CHILDRENS',\n",
       " 'ASPIRIN CHLD',\n",
       " 'ASPIRIN COATED',\n",
       " 'ASPIRIN EC',\n",
       " 'ASPIRIN EC 81',\n",
       " 'ASPIRIN EC 81 MG',\n",
       " 'ASPIRIN EC LOW DOSE',\n",
       " 'ASPIRIN ENTERIC COATED',\n",
       " 'ASPIRIN ENTRIC COATED',\n",
       " 'ASPIRIN LOW',\n",
       " 'ASPIRIN LOW DOSE',\n",
       " 'ASPIRIN LOW STRENGTH',\n",
       " 'ASPIRIN TRI-BUFFERED',\n",
       " 'ASPIRIN-CODEINE PHOSPHATE',\n",
       " 'ASPIRIN-OXYCODONE',\n",
       " 'ASPIRIN/BUTALBITAL/CAFFEINE',\n",
       " 'ASPIRIN/BUTALBITAL/CAFFEINE/CODEINE',\n",
       " 'ASPIRIN/DIPYRIDAMOLE',\n",
       " 'ASPRIN',\n",
       " 'ASPRIN CHILDRENS CHEWABLES',\n",
       " 'ASPRIN EC',\n",
       " 'ASPRIN EC 325',\n",
       " 'ASPRIN LOW DOSE',\n",
       " 'ASSESS METER',\n",
       " 'ASTELIN',\n",
       " 'ASTELIN (2X17, METERED DOSE PUMP)',\n",
       " 'ASTELIN NASA',\n",
       " 'ASTELIN READY',\n",
       " 'ASTELIN READY-SPRAY',\n",
       " 'ASTEPRO',\n",
       " 'ASTEPRO 0.15',\n",
       " 'ASTEPRO SPR',\n",
       " 'ATACAND',\n",
       " 'ATACAND (NON FILM-COATED)',\n",
       " 'ATACAND (UNIT OF USE)',\n",
       " 'ATACAND HCT',\n",
       " 'ATACAND HCT (NON FILM-COATED)',\n",
       " 'ATARAX',\n",
       " 'ATELVIA',\n",
       " 'ATENOL/CHLOR',\n",
       " 'ATENOLOL',\n",
       " 'ATENOLOL (TENORMIN)',\n",
       " 'ATENOLOL (U.S.P.)',\n",
       " 'ATENOLOL (USP)',\n",
       " 'ATENOLOL 25MG',\n",
       " 'ATENOLOL-CHLORTHALIDONE',\n",
       " 'ATENOLOL/CHLORTHAL',\n",
       " 'ATENOLOL/CHLORTHALIDONE',\n",
       " 'ATENOLOLO',\n",
       " \"ATHLETE'S 1% FOOT CR\",\n",
       " 'ATIVAN',\n",
       " 'ATNEOLOL',\n",
       " 'ATOMOXETINE HCL',\n",
       " 'ATOPICLAIR',\n",
       " 'ATORCASTATIN',\n",
       " 'ATORVASTAIN CALCIUM',\n",
       " 'ATORVASTATIN',\n",
       " 'ATORVASTATIN (LIPITOR)',\n",
       " 'ATORVASTATIN CALCIUM',\n",
       " 'ATORVASTATIN(T)',\n",
       " 'ATRALIN',\n",
       " 'ATRALIN (1X45GM)',\n",
       " 'ATRIFICIAL TEARS',\n",
       " 'ATRIPLA',\n",
       " 'ATRIPLA (FILM-COATED)',\n",
       " 'ATROPINE SO4-DIPHENOXYLATE HCL',\n",
       " 'ATROPINE SUL',\n",
       " 'ATROPINE SULFATE',\n",
       " 'ATROPINE SULFATE, OPHTHALMIC',\n",
       " 'ATROPINE SULFATE/DIPHENOXYLATE HCL',\n",
       " 'ATROVENT',\n",
       " 'ATROVENT (VIAL)',\n",
       " 'ATROVENT HFA',\n",
       " 'ATROVENT HFA INH',\n",
       " 'ATROVENT NAS',\n",
       " 'ATUSS DM (AF,BERRY)',\n",
       " 'ATUSS DS',\n",
       " 'ATUSS DS (GRAPE BUBBLEGUM)',\n",
       " 'ATUSS DS SUSPEN',\n",
       " 'ATUSS HX (GG=200MG IR & 100MG SR)',\n",
       " 'ATUSS MR (AF,ORANGE-PINEAPPLE)',\n",
       " 'AUG BETAMET',\n",
       " 'AUGMENTIN',\n",
       " 'AUGMENTIN (ORANGE)',\n",
       " 'AUGMENTIN (ORANGE-RASPBERRY)',\n",
       " 'AUGMENTIN 500MG/125MG',\n",
       " 'AUGMENTIN ES',\n",
       " 'AUGMENTIN ES-600 (ORANGE-RASPBERRY)',\n",
       " 'AUGMENTIN ES-600 (STRAWBERRY CREAM)',\n",
       " 'AUGMENTIN XR',\n",
       " 'AUGMENTIN XR (10 DAY XR PACK)',\n",
       " 'AUGMENTIN XR (7 DAY XR PACK)',\n",
       " 'AUGMENTIN XR (SCORED,10 DAY XR PACK)',\n",
       " 'AUGMENTIN XR SR',\n",
       " 'AURALGAN',\n",
       " 'AURALGAN (W/DROPPER)',\n",
       " 'AURALGAN OTIC',\n",
       " 'AURODEX',\n",
       " 'AUROGARD',\n",
       " 'AUROGUARD',\n",
       " 'AUTOLET LANC',\n",
       " 'AUTOLET LANCETS',\n",
       " 'AVALIDE',\n",
       " 'AVALIDE (FILM-COATED)',\n",
       " 'AVALIDE 150',\n",
       " 'AVANDAMET',\n",
       " 'AVANDAMET (FILM COATED)',\n",
       " 'AVANDAMET (FILM-COATED)',\n",
       " 'AVANDAMET 2',\n",
       " 'AVANDARYL',\n",
       " 'AVANDIA',\n",
       " 'AVANDIA (FILM-COATED TILTAB)',\n",
       " 'AVANDIA (FILM-COATED)',\n",
       " 'AVANDIA (FILM-COATED, TILTAB)',\n",
       " 'AVAPRO',\n",
       " 'AVAPRO (UNIT OF USE)',\n",
       " 'AVAPRO TAB',\n",
       " 'AVAR GEL (GEL)',\n",
       " 'AVARPO',\n",
       " 'AVELOX',\n",
       " 'AVELOX (FILM-COATED)',\n",
       " 'AVIANE',\n",
       " 'AVIANE (6X28)',\n",
       " 'AVILIDE 300',\n",
       " 'AVINZA',\n",
       " ...]"
      ]
     },
     "execution_count": 603,
     "metadata": {},
     "output_type": "execute_result"
    }
   ],
   "source": [
    "names"
   ]
  },
  {
   "cell_type": "markdown",
   "metadata": {},
   "source": [
    "> Yikes. Lots of duplicate drugs due to slight variations in name.  \n",
    "NDCs have higher cardidality, so won't help now"
   ]
  },
  {
   "cell_type": "markdown",
   "metadata": {},
   "source": [
    "##### prep medication data\n",
    "* try to disambiguate drug names\n",
    "* ignore duplicate prescriptions per patient"
   ]
  },
  {
   "cell_type": "markdown",
   "metadata": {},
   "source": [
    "dumb disambiguation: get 1st token longer than 3 characters, ignoring numbers"
   ]
  },
  {
   "cell_type": "code",
   "execution_count": 604,
   "metadata": {
    "collapsed": false
   },
   "outputs": [
    {
     "name": "stdout",
     "output_type": "stream",
     "text": [
      "3505\n"
     ]
    }
   ],
   "source": [
    "rxNickname = (_df_meds\n",
    "                .rxName\n",
    "                .str.upper()\n",
    "                .str.extract('([A-Z]{4,})', expand=False)\n",
    "                .str.strip()\n",
    "                )\n",
    "\n",
    "print rxNickname.nunique()"
   ]
  },
  {
   "cell_type": "code",
   "execution_count": 674,
   "metadata": {
    "collapsed": false
   },
   "outputs": [],
   "source": [
    "rxNickname.name = 'rxNickname'"
   ]
  },
  {
   "cell_type": "code",
   "execution_count": 690,
   "metadata": {
    "collapsed": false
   },
   "outputs": [
    {
     "data": {
      "text/plain": [
       "0.0038612022324262616"
      ]
     },
     "execution_count": 690,
     "metadata": {},
     "output_type": "execute_result"
    }
   ],
   "source": [
    "rxNickname.isnull().mean()"
   ]
  },
  {
   "cell_type": "code",
   "execution_count": 677,
   "metadata": {
    "collapsed": true
   },
   "outputs": [],
   "source": [
    "# look at mapping\n",
    "_df = _df_meds.groupby(rxNickname).rxName.apply(f_unique).unstack()"
   ]
  },
  {
   "cell_type": "code",
   "execution_count": 691,
   "metadata": {
    "collapsed": false
   },
   "outputs": [
    {
     "data": {
      "text/html": [
       "<div>\n",
       "<table border=\"1\" class=\"dataframe\">\n",
       "  <thead>\n",
       "    <tr style=\"text-align: right;\">\n",
       "      <th></th>\n",
       "      <th>num_unique</th>\n",
       "      <th>vals_unique</th>\n",
       "    </tr>\n",
       "    <tr>\n",
       "      <th>rxNickname</th>\n",
       "      <th></th>\n",
       "      <th></th>\n",
       "    </tr>\n",
       "  </thead>\n",
       "  <tbody>\n",
       "    <tr>\n",
       "      <th>GANI</th>\n",
       "      <td>4</td>\n",
       "      <td>[GANI-TUSS DM, GANI-TUSS NR, GANI-TUSS-DM NR, GANI-TUSS-DM NR (AF,SF,RASPBERRY)]</td>\n",
       "    </tr>\n",
       "    <tr>\n",
       "      <th>GANIRELIX</th>\n",
       "      <td>2</td>\n",
       "      <td>[GANIRELIX AC, GANIRELIX ACETATE]</td>\n",
       "    </tr>\n",
       "    <tr>\n",
       "      <th>GARDASIL</th>\n",
       "      <td>2</td>\n",
       "      <td>[GARDASIL, GARDASIL (10 X 0.5ML,SDV,PF)]</td>\n",
       "    </tr>\n",
       "    <tr>\n",
       "      <th>GARLIC</th>\n",
       "      <td>1</td>\n",
       "      <td>[GARLIC]</td>\n",
       "    </tr>\n",
       "    <tr>\n",
       "      <th>GASTROINTESTINAL</th>\n",
       "      <td>1</td>\n",
       "      <td>[87 GASTROINTESTINAL AGENTS]</td>\n",
       "    </tr>\n",
       "    <tr>\n",
       "      <th>GATIFLOXACIN</th>\n",
       "      <td>1</td>\n",
       "      <td>[GATIFLOXACIN]</td>\n",
       "    </tr>\n",
       "    <tr>\n",
       "      <th>GAUZE</th>\n",
       "      <td>1</td>\n",
       "      <td>[GAUZE PAD]</td>\n",
       "    </tr>\n",
       "    <tr>\n",
       "      <th>GAVILYTE</th>\n",
       "      <td>3</td>\n",
       "      <td>[GAVILYTE-C, GAVILYTE-G, GAVILYTE-N]</td>\n",
       "    </tr>\n",
       "    <tr>\n",
       "      <th>GELCLAIR</th>\n",
       "      <td>1</td>\n",
       "      <td>[GELCLAIR (SINGLE-USE,15X15ML)]</td>\n",
       "    </tr>\n",
       "    <tr>\n",
       "      <th>GELNIQUE</th>\n",
       "      <td>1</td>\n",
       "      <td>[GELNIQUE]</td>\n",
       "    </tr>\n",
       "  </tbody>\n",
       "</table>\n",
       "</div>"
      ],
      "text/plain": [
       "                 num_unique  \\\n",
       "rxNickname                    \n",
       "GANI                      4   \n",
       "GANIRELIX                 2   \n",
       "GARDASIL                  2   \n",
       "GARLIC                    1   \n",
       "GASTROINTESTINAL          1   \n",
       "GATIFLOXACIN              1   \n",
       "GAUZE                     1   \n",
       "GAVILYTE                  3   \n",
       "GELCLAIR                  1   \n",
       "GELNIQUE                  1   \n",
       "\n",
       "                                                                                       vals_unique  \n",
       "rxNickname                                                                                          \n",
       "GANI              [GANI-TUSS DM, GANI-TUSS NR, GANI-TUSS-DM NR, GANI-TUSS-DM NR (AF,SF,RASPBERRY)]  \n",
       "GANIRELIX                                                        [GANIRELIX AC, GANIRELIX ACETATE]  \n",
       "GARDASIL                                                  [GARDASIL, GARDASIL (10 X 0.5ML,SDV,PF)]  \n",
       "GARLIC                                                                                    [GARLIC]  \n",
       "GASTROINTESTINAL                                                      [87 GASTROINTESTINAL AGENTS]  \n",
       "GATIFLOXACIN                                                                        [GATIFLOXACIN]  \n",
       "GAUZE                                                                                  [GAUZE PAD]  \n",
       "GAVILYTE                                                      [GAVILYTE-C, GAVILYTE-G, GAVILYTE-N]  \n",
       "GELCLAIR                                                           [GELCLAIR (SINGLE-USE,15X15ML)]  \n",
       "GELNIQUE                                                                                [GELNIQUE]  "
      ]
     },
     "execution_count": 691,
     "metadata": {},
     "output_type": "execute_result"
    }
   ],
   "source": [
    "##### run many times to inspect\n",
    "i = np.random.randint(0, len(_df)-10)\n",
    "_df.iloc[i:i+10]"
   ]
  },
  {
   "cell_type": "code",
   "execution_count": 698,
   "metadata": {
    "collapsed": false
   },
   "outputs": [
    {
     "data": {
      "text/plain": [
       "False"
      ]
     },
     "execution_count": 698,
     "metadata": {},
     "output_type": "execute_result"
    }
   ],
   "source": [
    "_df.reset_index().rxNickname.isnull().any()"
   ]
  },
  {
   "cell_type": "markdown",
   "metadata": {},
   "source": [
    "> looks pretty good\n",
    "* \\>2x fewer names\n",
    "* fails on abbreviations and drug combos (Nulls get dropped!)"
   ]
  },
  {
   "cell_type": "markdown",
   "metadata": {},
   "source": [
    "Keep renamed meds (and source NDCs) and prescription counts for each patient"
   ]
  },
  {
   "cell_type": "code",
   "execution_count": 639,
   "metadata": {
    "collapsed": true
   },
   "outputs": [],
   "source": [
    "def _keep(df):\n",
    "    return pd.Series({\n",
    "            'numPrescriptions': len(df),\n",
    "            'originalNDCs': df['rxNDC'].unique()\n",
    "        })"
   ]
  },
  {
   "cell_type": "code",
   "execution_count": 672,
   "metadata": {
    "collapsed": false
   },
   "outputs": [],
   "source": [
    "# _df_meds.iloc[:300].groupby(['id', rxNickname]).apply(_keep)\n",
    "df_meds = _df_meds.groupby(['id', rxNickname]).apply(_keep).reset_index()"
   ]
  },
  {
   "cell_type": "code",
   "execution_count": 676,
   "metadata": {
    "collapsed": false
   },
   "outputs": [
    {
     "name": "stdout",
     "output_type": "stream",
     "text": [
      "219111\n"
     ]
    },
    {
     "data": {
      "text/html": [
       "<div>\n",
       "<table border=\"1\" class=\"dataframe\">\n",
       "  <thead>\n",
       "    <tr style=\"text-align: right;\">\n",
       "      <th></th>\n",
       "      <th>id</th>\n",
       "      <th>rxName</th>\n",
       "      <th>NDCs</th>\n",
       "      <th>numPrescriptions</th>\n",
       "    </tr>\n",
       "  </thead>\n",
       "  <tbody>\n",
       "    <tr>\n",
       "      <th>0</th>\n",
       "      <td>10007101</td>\n",
       "      <td>ATENOLOL</td>\n",
       "      <td>[68382002210, 51079068463]</td>\n",
       "      <td>4</td>\n",
       "    </tr>\n",
       "    <tr>\n",
       "      <th>1</th>\n",
       "      <td>10007101</td>\n",
       "      <td>AZITHROMYCIN</td>\n",
       "      <td>[59762314001]</td>\n",
       "      <td>1</td>\n",
       "    </tr>\n",
       "    <tr>\n",
       "      <th>2</th>\n",
       "      <td>10007102</td>\n",
       "      <td>CARISOPRODOL</td>\n",
       "      <td>[603258228]</td>\n",
       "      <td>1</td>\n",
       "    </tr>\n",
       "    <tr>\n",
       "      <th>3</th>\n",
       "      <td>10007102</td>\n",
       "      <td>HYDROCO</td>\n",
       "      <td>[406036005]</td>\n",
       "      <td>1</td>\n",
       "    </tr>\n",
       "    <tr>\n",
       "      <th>4</th>\n",
       "      <td>10007102</td>\n",
       "      <td>TREXIMET</td>\n",
       "      <td>[173075000]</td>\n",
       "      <td>2</td>\n",
       "    </tr>\n",
       "  </tbody>\n",
       "</table>\n",
       "</div>"
      ],
      "text/plain": [
       "         id        rxName                        NDCs  numPrescriptions\n",
       "0  10007101      ATENOLOL  [68382002210, 51079068463]                 4\n",
       "1  10007101  AZITHROMYCIN               [59762314001]                 1\n",
       "2  10007102  CARISOPRODOL                 [603258228]                 1\n",
       "3  10007102       HYDROCO                 [406036005]                 1\n",
       "4  10007102      TREXIMET                 [173075000]                 2"
      ]
     },
     "execution_count": 676,
     "metadata": {},
     "output_type": "execute_result"
    }
   ],
   "source": [
    "print len(df_meds)\n",
    "df_meds.head()"
   ]
  },
  {
   "cell_type": "markdown",
   "metadata": {},
   "source": [
    "> \\>5x fewer rows than original"
   ]
  },
  {
   "cell_type": "code",
   "execution_count": 671,
   "metadata": {
    "collapsed": false
   },
   "outputs": [
    {
     "data": {
      "text/plain": [
       "True"
      ]
     },
     "execution_count": 671,
     "metadata": {},
     "output_type": "execute_result"
    }
   ],
   "source": [
    "###### add to module\n",
    "from source.helpers import load_meds_data\n",
    "\n",
    "_df = load_meds_data().fillna('')[['rxName', 'numPrescriptions']]\n",
    "(df_meds.fillna('')[['rxName', 'numPrescriptions']] == _df).all().all()"
   ]
  },
  {
   "cell_type": "markdown",
   "metadata": {},
   "source": [
    "> data prep summary\n",
    "* looks like 1 row per prescription\n",
    "* lots of ambigous drug names and NDCs, even per-patient\n",
    "* drug nickname: 1st word in drug name\n",
    "* collapsed data into unique drug nicknames per patient\n",
    "    * keep original NDCs\n",
    "    * count number of prescriptions per drug per patient in case useful"
   ]
  }
 ],
 "metadata": {
  "kernelspec": {
   "display_name": "Python 2",
   "language": "python",
   "name": "python2"
  },
  "language_info": {
   "codemirror_mode": {
    "name": "ipython",
    "version": 2
   },
   "file_extension": ".py",
   "mimetype": "text/x-python",
   "name": "python",
   "nbconvert_exporter": "python",
   "pygments_lexer": "ipython2",
   "version": "2.7.10"
  }
 },
 "nbformat": 4,
 "nbformat_minor": 0
}
